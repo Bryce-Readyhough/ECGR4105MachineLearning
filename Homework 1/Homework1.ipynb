{
 "cells": [
  {
   "cell_type": "markdown",
   "id": "b177eb02",
   "metadata": {},
   "source": [
    "Intro to Machine Learning Homework 1 Bryce Readyhough ID-801005029"
   ]
  },
  {
   "cell_type": "markdown",
   "id": "609f275b",
   "metadata": {},
   "source": [
    "# # Question 1a"
   ]
  },
  {
   "cell_type": "markdown",
   "id": "988fb6c1",
   "metadata": {},
   "source": [
    "Importing required libraries"
   ]
  },
  {
   "cell_type": "code",
   "execution_count": 1,
   "id": "d404e08f",
   "metadata": {},
   "outputs": [],
   "source": [
    "import numpy as np\n",
    "import pandas as pd\n",
    "import matplotlib.pyplot as plt\n",
    "from sklearn.model_selection import train_test_split"
   ]
  },
  {
   "cell_type": "markdown",
   "id": "6b5f2c5d",
   "metadata": {},
   "source": [
    "Loading in housing data from the provided CSV file"
   ]
  },
  {
   "cell_type": "code",
   "execution_count": 2,
   "id": "8af1237e",
   "metadata": {},
   "outputs": [
    {
     "name": "stdout",
     "output_type": "stream",
     "text": [
      "<class 'pandas.core.frame.DataFrame'>\n",
      "RangeIndex: 545 entries, 0 to 544\n",
      "Data columns (total 13 columns):\n",
      " #   Column            Non-Null Count  Dtype \n",
      "---  ------            --------------  ----- \n",
      " 0   price             545 non-null    int64 \n",
      " 1   area              545 non-null    int64 \n",
      " 2   bedrooms          545 non-null    int64 \n",
      " 3   bathrooms         545 non-null    int64 \n",
      " 4   stories           545 non-null    int64 \n",
      " 5   mainroad          545 non-null    object\n",
      " 6   guestroom         545 non-null    object\n",
      " 7   basement          545 non-null    object\n",
      " 8   hotwaterheating   545 non-null    object\n",
      " 9   airconditioning   545 non-null    object\n",
      " 10  parking           545 non-null    int64 \n",
      " 11  prefarea          545 non-null    object\n",
      " 12  furnishingstatus  545 non-null    object\n",
      "dtypes: int64(6), object(7)\n",
      "memory usage: 55.5+ KB\n"
     ]
    }
   ],
   "source": [
    "housingData = pd.DataFrame(pd.read_csv('Housing.csv'))\n",
    "numRows = len(housingData)\n",
    "housingData.info()"
   ]
  },
  {
   "cell_type": "markdown",
   "id": "0826fdee",
   "metadata": {},
   "source": [
    "The data above contains several datapoints which are boolean yes or no. For a linear regression line these will need to be converted into numeric 1s or 0s. These can be mapped using an xmap. \n",
    "\n",
    "The dataset provided already has the data categorized so each variable does not need to be split."
   ]
  },
  {
   "cell_type": "code",
   "execution_count": 3,
   "id": "d60dc515",
   "metadata": {},
   "outputs": [
    {
     "data": {
      "text/html": [
       "<div>\n",
       "<style scoped>\n",
       "    .dataframe tbody tr th:only-of-type {\n",
       "        vertical-align: middle;\n",
       "    }\n",
       "\n",
       "    .dataframe tbody tr th {\n",
       "        vertical-align: top;\n",
       "    }\n",
       "\n",
       "    .dataframe thead th {\n",
       "        text-align: right;\n",
       "    }\n",
       "</style>\n",
       "<table border=\"1\" class=\"dataframe\">\n",
       "  <thead>\n",
       "    <tr style=\"text-align: right;\">\n",
       "      <th></th>\n",
       "      <th>price</th>\n",
       "      <th>area</th>\n",
       "      <th>bedrooms</th>\n",
       "      <th>bathrooms</th>\n",
       "      <th>stories</th>\n",
       "      <th>mainroad</th>\n",
       "      <th>guestroom</th>\n",
       "      <th>basement</th>\n",
       "      <th>hotwaterheating</th>\n",
       "      <th>airconditioning</th>\n",
       "      <th>parking</th>\n",
       "      <th>prefarea</th>\n",
       "      <th>furnishingstatus</th>\n",
       "    </tr>\n",
       "  </thead>\n",
       "  <tbody>\n",
       "    <tr>\n",
       "      <th>0</th>\n",
       "      <td>13300000</td>\n",
       "      <td>7420</td>\n",
       "      <td>4</td>\n",
       "      <td>2</td>\n",
       "      <td>3</td>\n",
       "      <td>1</td>\n",
       "      <td>0</td>\n",
       "      <td>0</td>\n",
       "      <td>0</td>\n",
       "      <td>1</td>\n",
       "      <td>2</td>\n",
       "      <td>1</td>\n",
       "      <td>furnished</td>\n",
       "    </tr>\n",
       "    <tr>\n",
       "      <th>1</th>\n",
       "      <td>12250000</td>\n",
       "      <td>8960</td>\n",
       "      <td>4</td>\n",
       "      <td>4</td>\n",
       "      <td>4</td>\n",
       "      <td>1</td>\n",
       "      <td>0</td>\n",
       "      <td>0</td>\n",
       "      <td>0</td>\n",
       "      <td>1</td>\n",
       "      <td>3</td>\n",
       "      <td>0</td>\n",
       "      <td>furnished</td>\n",
       "    </tr>\n",
       "    <tr>\n",
       "      <th>2</th>\n",
       "      <td>12250000</td>\n",
       "      <td>9960</td>\n",
       "      <td>3</td>\n",
       "      <td>2</td>\n",
       "      <td>2</td>\n",
       "      <td>1</td>\n",
       "      <td>0</td>\n",
       "      <td>1</td>\n",
       "      <td>0</td>\n",
       "      <td>0</td>\n",
       "      <td>2</td>\n",
       "      <td>1</td>\n",
       "      <td>semi-furnished</td>\n",
       "    </tr>\n",
       "    <tr>\n",
       "      <th>3</th>\n",
       "      <td>12215000</td>\n",
       "      <td>7500</td>\n",
       "      <td>4</td>\n",
       "      <td>2</td>\n",
       "      <td>2</td>\n",
       "      <td>1</td>\n",
       "      <td>0</td>\n",
       "      <td>1</td>\n",
       "      <td>0</td>\n",
       "      <td>1</td>\n",
       "      <td>3</td>\n",
       "      <td>1</td>\n",
       "      <td>furnished</td>\n",
       "    </tr>\n",
       "    <tr>\n",
       "      <th>4</th>\n",
       "      <td>11410000</td>\n",
       "      <td>7420</td>\n",
       "      <td>4</td>\n",
       "      <td>1</td>\n",
       "      <td>2</td>\n",
       "      <td>1</td>\n",
       "      <td>1</td>\n",
       "      <td>1</td>\n",
       "      <td>0</td>\n",
       "      <td>1</td>\n",
       "      <td>2</td>\n",
       "      <td>0</td>\n",
       "      <td>furnished</td>\n",
       "    </tr>\n",
       "  </tbody>\n",
       "</table>\n",
       "</div>"
      ],
      "text/plain": [
       "      price  area  bedrooms  bathrooms  stories  mainroad  guestroom  \\\n",
       "0  13300000  7420         4          2        3         1          0   \n",
       "1  12250000  8960         4          4        4         1          0   \n",
       "2  12250000  9960         3          2        2         1          0   \n",
       "3  12215000  7500         4          2        2         1          0   \n",
       "4  11410000  7420         4          1        2         1          1   \n",
       "\n",
       "   basement  hotwaterheating  airconditioning  parking  prefarea  \\\n",
       "0         0                0                1        2         1   \n",
       "1         0                0                1        3         0   \n",
       "2         1                0                0        2         1   \n",
       "3         1                0                1        3         1   \n",
       "4         1                0                1        2         0   \n",
       "\n",
       "  furnishingstatus  \n",
       "0        furnished  \n",
       "1        furnished  \n",
       "2   semi-furnished  \n",
       "3        furnished  \n",
       "4        furnished  "
      ]
     },
     "execution_count": 3,
     "metadata": {},
     "output_type": "execute_result"
    }
   ],
   "source": [
    "mapVars = ['mainroad', 'guestroom', 'hotwaterheating', 'basement', 'airconditioning', 'prefarea']\n",
    "\n",
    "def binaryMap(x):\n",
    "    return x.map({\"yes\" : 1, \"no\" : 0})\n",
    "\n",
    "housingData[mapVars] = housingData[mapVars].apply(binaryMap)\n",
    "\n",
    "housingData.head()"
   ]
  },
  {
   "cell_type": "markdown",
   "id": "92817380",
   "metadata": {},
   "source": [
    "For this model 70% of the data will be used for training, and 30% will be used as test data. The data will be split randomly into 2 sets, the first being the training set containing 70% of the original data, and the second being the test set containing 30% of the original data."
   ]
  },
  {
   "cell_type": "code",
   "execution_count": 4,
   "id": "997bff5f",
   "metadata": {},
   "outputs": [],
   "source": [
    "np.random.seed(2)\n",
    "trainingSet, testSet = train_test_split(housingData, train_size = 0.7, test_size = 0.3, random_state = \n",
    "np.random.randint(1), shuffle = 0)"
   ]
  },
  {
   "cell_type": "markdown",
   "id": "da1f8ad7",
   "metadata": {},
   "source": [
    "For this model the price of the house will be modeled using the following data types:\n",
    "- area\n",
    "- number of bedrooms\n",
    "- number of bathrooms\n",
    "- number of stories\n",
    "- number of parking spaces\n",
    "\n",
    "The price of the house will be considered the output or dependent variable (Y). The training and test sets are then reduced to only contain these variables."
   ]
  },
  {
   "cell_type": "code",
   "execution_count": 5,
   "id": "e38becc8",
   "metadata": {},
   "outputs": [
    {
     "name": "stdout",
     "output_type": "stream",
     "text": [
      "381\n",
      "164\n"
     ]
    },
    {
     "data": {
      "text/html": [
       "<div>\n",
       "<style scoped>\n",
       "    .dataframe tbody tr th:only-of-type {\n",
       "        vertical-align: middle;\n",
       "    }\n",
       "\n",
       "    .dataframe tbody tr th {\n",
       "        vertical-align: top;\n",
       "    }\n",
       "\n",
       "    .dataframe thead th {\n",
       "        text-align: right;\n",
       "    }\n",
       "</style>\n",
       "<table border=\"1\" class=\"dataframe\">\n",
       "  <thead>\n",
       "    <tr style=\"text-align: right;\">\n",
       "      <th></th>\n",
       "      <th>area</th>\n",
       "      <th>bedrooms</th>\n",
       "      <th>bathrooms</th>\n",
       "      <th>stories</th>\n",
       "      <th>parking</th>\n",
       "      <th>price</th>\n",
       "    </tr>\n",
       "  </thead>\n",
       "  <tbody>\n",
       "    <tr>\n",
       "      <th>454</th>\n",
       "      <td>4500</td>\n",
       "      <td>3</td>\n",
       "      <td>1</td>\n",
       "      <td>2</td>\n",
       "      <td>0</td>\n",
       "      <td>3143000</td>\n",
       "    </tr>\n",
       "    <tr>\n",
       "      <th>392</th>\n",
       "      <td>3990</td>\n",
       "      <td>3</td>\n",
       "      <td>1</td>\n",
       "      <td>2</td>\n",
       "      <td>0</td>\n",
       "      <td>3500000</td>\n",
       "    </tr>\n",
       "    <tr>\n",
       "      <th>231</th>\n",
       "      <td>4320</td>\n",
       "      <td>3</td>\n",
       "      <td>1</td>\n",
       "      <td>1</td>\n",
       "      <td>0</td>\n",
       "      <td>4690000</td>\n",
       "    </tr>\n",
       "    <tr>\n",
       "      <th>271</th>\n",
       "      <td>1905</td>\n",
       "      <td>5</td>\n",
       "      <td>1</td>\n",
       "      <td>2</td>\n",
       "      <td>0</td>\n",
       "      <td>4340000</td>\n",
       "    </tr>\n",
       "    <tr>\n",
       "      <th>250</th>\n",
       "      <td>3510</td>\n",
       "      <td>3</td>\n",
       "      <td>1</td>\n",
       "      <td>3</td>\n",
       "      <td>0</td>\n",
       "      <td>4515000</td>\n",
       "    </tr>\n",
       "  </tbody>\n",
       "</table>\n",
       "</div>"
      ],
      "text/plain": [
       "     area  bedrooms  bathrooms  stories  parking    price\n",
       "454  4500         3          1        2        0  3143000\n",
       "392  3990         3          1        2        0  3500000\n",
       "231  4320         3          1        1        0  4690000\n",
       "271  1905         5          1        2        0  4340000\n",
       "250  3510         3          1        3        0  4515000"
      ]
     },
     "execution_count": 5,
     "metadata": {},
     "output_type": "execute_result"
    }
   ],
   "source": [
    "model1_vars = ['area', 'bedrooms', 'bathrooms', 'stories', 'parking', 'price']\n",
    "model1_train = trainingSet[model1_vars]\n",
    "model1_test = testSet[model1_vars]\n",
    "model1_train_length = len(model1_train)\n",
    "print(model1_train_length)\n",
    "model1_test_length = len(model1_test)\n",
    "print(model1_test_length)\n",
    "model1_train.head()"
   ]
  },
  {
   "cell_type": "markdown",
   "id": "7f4ecf0f",
   "metadata": {},
   "source": [
    "Both the training and testing sets are then converted into 2 Matrices. One containing the X values and one containing the Y values."
   ]
  },
  {
   "cell_type": "code",
   "execution_count": 6,
   "id": "b455d735",
   "metadata": {},
   "outputs": [],
   "source": [
    "model1_X0_train = np.ones((model1_train_length, 1))\n",
    "model1_X1_train = model1_train.values[:, 0] #area\n",
    "model1_X2_train = model1_train.values[:, 1] #bedrooms\n",
    "model1_X3_train = model1_train.values[:, 2] #bathrooms\n",
    "model1_X4_train = model1_train.values[:, 3] #stories\n",
    "model1_X5_train = model1_train.values[:, 4] #parking\n",
    "model1_Y_train = model1_train.values[:, 5] #price\n",
    "\n",
    "model1_X0_test = np.ones((model1_test_length, 1))\n",
    "model1_X1_test = model1_test.values[:, 0] #area\n",
    "model1_X2_test = model1_test.values[:, 1] #bedrooms\n",
    "model1_X3_test = model1_test.values[:, 2] #bathrooms\n",
    "model1_X4_test = model1_test.values[:, 3] #stories\n",
    "model1_X5_test = model1_test.values[:, 4] #parking\n",
    "model1_Y_test = model1_test.values[:, 5] #price"
   ]
  },
  {
   "cell_type": "markdown",
   "id": "e6eba6ae",
   "metadata": {},
   "source": [
    "The X sets are then combined into 5xnumRows matrices. The first column is the X0 place containing only ones."
   ]
  },
  {
   "cell_type": "code",
   "execution_count": 7,
   "id": "926388e5",
   "metadata": {},
   "outputs": [
    {
     "name": "stdout",
     "output_type": "stream",
     "text": [
      "[[1.000e+00 4.500e+03 3.000e+00 1.000e+00 2.000e+00 0.000e+00]\n",
      " [1.000e+00 3.990e+03 3.000e+00 1.000e+00 2.000e+00 0.000e+00]\n",
      " [1.000e+00 4.320e+03 3.000e+00 1.000e+00 1.000e+00 0.000e+00]\n",
      " [1.000e+00 1.905e+03 5.000e+00 1.000e+00 2.000e+00 0.000e+00]\n",
      " [1.000e+00 3.510e+03 3.000e+00 1.000e+00 3.000e+00 0.000e+00]]\n",
      "[[1.00e+00 4.00e+03 3.00e+00 1.00e+00 2.00e+00 1.00e+00]\n",
      " [1.00e+00 9.62e+03 3.00e+00 1.00e+00 1.00e+00 2.00e+00]\n",
      " [1.00e+00 3.46e+03 4.00e+00 1.00e+00 2.00e+00 0.00e+00]\n",
      " [1.00e+00 1.32e+04 2.00e+00 1.00e+00 1.00e+00 1.00e+00]\n",
      " [1.00e+00 3.66e+03 4.00e+00 1.00e+00 2.00e+00 0.00e+00]]\n"
     ]
    }
   ],
   "source": [
    "model1_X1_train_1 = model1_X1_train.reshape((model1_train_length, 1))\n",
    "model1_X2_train_1 = model1_X2_train.reshape((model1_train_length, 1))\n",
    "model1_X3_train_1 = model1_X3_train.reshape((model1_train_length, 1))\n",
    "model1_X4_train_1 = model1_X4_train.reshape((model1_train_length, 1))\n",
    "model1_X5_train_1 = model1_X5_train.reshape((model1_train_length, 1))\n",
    "\n",
    "model1_X1_test_1 = model1_X1_test.reshape((model1_test_length, 1))\n",
    "model1_X2_test_1 = model1_X2_test.reshape((model1_test_length, 1))\n",
    "model1_X3_test_1 = model1_X3_test.reshape((model1_test_length, 1))\n",
    "model1_X4_test_1 = model1_X4_test.reshape((model1_test_length, 1))\n",
    "model1_X5_test_1 = model1_X5_test.reshape((model1_test_length, 1))\n",
    "\n",
    "model1_X_train = np.hstack((model1_X0_train, model1_X1_train_1, model1_X2_train_1, model1_X3_train_1, model1_X4_train_1, model1_X5_train_1))\n",
    "model1_X_test = np.hstack((model1_X0_test, model1_X1_test_1, model1_X2_test_1, model1_X3_test_1, model1_X4_test_1, model1_X5_test_1))\n",
    "\n",
    "print(model1_X_train[:5])\n",
    "print(model1_X_test[:5])"
   ]
  },
  {
   "cell_type": "markdown",
   "id": "a98ac564",
   "metadata": {},
   "source": [
    "The first question doesn't require standardization or normalization. Defining basic cost and gradient descent functions:"
   ]
  },
  {
   "cell_type": "code",
   "execution_count": 8,
   "id": "e46d106f",
   "metadata": {},
   "outputs": [],
   "source": [
    "def compute_cost(XVals, YVals, theta):\n",
    "    numSamples = len(XVals)\n",
    "    predictions = XVals.dot(theta) #Makes a prediction using the given values of they using \n",
    "                                   #the following equation: prediction = theta0 + theta1*X\n",
    "    errors = np.subtract(predictions, YVals) #calculates the error from the prediction to the actual Y value\n",
    "    sqrErrors = np.square(errors) #squaring the errors to make finding the minimum easier\n",
    "    J = (1/(2 * numSamples)) * np.sum(sqrErrors)\n",
    "    return J\n",
    "def gradient_descent(training_XVals, training_YVals, testing_XVals, testing_YVals, theta, alpha, iterations):\n",
    "    numSamples = len(training_XVals)\n",
    "    training_loss_history = np.zeros(iterations) #stores the calculated cost for each iteration of the algorithm\n",
    "    testing_loss_history = np.zeros(iterations)\n",
    "    for i in range(iterations):\n",
    "        predictions = training_XVals.dot(theta) #tests the current theta value with each independent variable value\n",
    "        errors = np.subtract(predictions, training_YVals)\n",
    "        sum_delta = (alpha/numSamples) * (training_XVals.transpose().dot(errors));\n",
    "        theta = theta - sum_delta; #updating the value of theta based on the new data\n",
    "        training_loss_history[i] = compute_cost(training_XVals, training_YVals, theta) #logging the training cost to the cost history log\n",
    "        testing_loss_history[i] = compute_cost(testing_XVals, testing_YVals, theta)\n",
    "    return theta, training_loss_history, testing_loss_history"
   ]
  },
  {
   "cell_type": "markdown",
   "id": "91a9b7e1",
   "metadata": {},
   "source": [
    "Defining the number of iterations and the alpha that will be used and creating memory for apha."
   ]
  },
  {
   "cell_type": "code",
   "execution_count": 9,
   "id": "2c1f52bf",
   "metadata": {},
   "outputs": [],
   "source": [
    "model1_theta = np.zeros(6)\n",
    "model1_alpha = 0.0000000001\n",
    "model1_iterations = 1000"
   ]
  },
  {
   "cell_type": "code",
   "execution_count": 10,
   "id": "5f852987",
   "metadata": {},
   "outputs": [
    {
     "name": "stdout",
     "output_type": "stream",
     "text": [
      "13118565517688.451\n"
     ]
    }
   ],
   "source": [
    "model1_initial_training_cost = compute_cost(model1_X_train, model1_Y_train, model1_theta)\n",
    "print(model1_initial_training_cost)"
   ]
  },
  {
   "cell_type": "code",
   "execution_count": 11,
   "id": "eeac4c89",
   "metadata": {},
   "outputs": [
    {
     "name": "stdout",
     "output_type": "stream",
     "text": [
      "[1.30508916e+13 1.29836171e+13 1.29167396e+13 1.28502568e+13\n",
      " 1.27841664e+13]\n",
      "Model 1 Final Training Set Cost:  1682418252640.2073\n"
     ]
    }
   ],
   "source": [
    "model1_theta, model1_cost_history, model1_testLoss_history = gradient_descent(model1_X_train, model1_Y_train, model1_X_test, model1_Y_test, model1_theta, model1_alpha, model1_iterations)\n",
    "print(model1_cost_history[:5])\n",
    "model1_final_training_cost = compute_cost(model1_X_train, model1_Y_train, model1_theta)\n",
    "print('Model 1 Final Training Set Cost: ', model1_final_training_cost)"
   ]
  },
  {
   "cell_type": "code",
   "execution_count": 17,
   "id": "6307154f",
   "metadata": {},
   "outputs": [
    {
     "data": {
      "text/plain": [
       "<matplotlib.legend.Legend at 0x195999b6c40>"
      ]
     },
     "execution_count": 17,
     "metadata": {},
     "output_type": "execute_result"
    },
    {
     "data": {
      "image/png": "[encoded data removed]",
      "text/plain": [
       "<Figure size 432x288 with 1 Axes>"
      ]
     },
     "metadata": {
      "needs_background": "light"
     },
     "output_type": "display_data"
    }
   ],
   "source": [
    "plt.plot(range(1, model1_iterations + 1), model1_cost_history, color = 'blue', label = 'Training Loss')\n",
    "plt.plot(range(1, model1_iterations + 1), model1_testLoss_history, color = 'red', label = 'Validation Loss')\n",
    "plt.grid()\n",
    "plt.xlabel(\"Number of iterations\")\n",
    "plt.ylabel(\"Cost\")\n",
    "plt.title(\"Convergence of gradient descent\")\n",
    "plt.legend()"
   ]
  },
  {
   "cell_type": "markdown",
   "id": "8e8b7f56",
   "metadata": {},
   "source": [
    "## Question 1b"
   ]
  },
  {
   "cell_type": "markdown",
   "id": "3db8927c",
   "metadata": {},
   "source": [
    "For the second question the same data will be used. The data will not be not be standardized. This time the following datapoints will be used for the model:\n",
    "- Area\n",
    "- Bedrooms\n",
    "- Bathrooms\n",
    "- Stories\n",
    "- Mainroad \n",
    "- Guestroom\n",
    "- Basement\n",
    "- Hotwaterheating\n",
    "- Airconditioning\n",
    "- Parking\n",
    "- Prefarea"
   ]
  },
  {
   "cell_type": "code",
   "execution_count": 19,
   "id": "2392197c",
   "metadata": {},
   "outputs": [
    {
     "name": "stdout",
     "output_type": "stream",
     "text": [
      "381\n",
      "164\n"
     ]
    },
    {
     "data": {
      "text/html": [
       "<div>\n",
       "<style scoped>\n",
       "    .dataframe tbody tr th:only-of-type {\n",
       "        vertical-align: middle;\n",
       "    }\n",
       "\n",
       "    .dataframe tbody tr th {\n",
       "        vertical-align: top;\n",
       "    }\n",
       "\n",
       "    .dataframe thead th {\n",
       "        text-align: right;\n",
       "    }\n",
       "</style>\n",
       "<table border=\"1\" class=\"dataframe\">\n",
       "  <thead>\n",
       "    <tr style=\"text-align: right;\">\n",
       "      <th></th>\n",
       "      <th>price</th>\n",
       "      <th>area</th>\n",
       "      <th>bedrooms</th>\n",
       "      <th>bathrooms</th>\n",
       "      <th>stories</th>\n",
       "      <th>mainroad</th>\n",
       "      <th>guestroom</th>\n",
       "      <th>basement</th>\n",
       "      <th>hotwaterheating</th>\n",
       "      <th>airconditioning</th>\n",
       "      <th>parking</th>\n",
       "      <th>prefarea</th>\n",
       "    </tr>\n",
       "  </thead>\n",
       "  <tbody>\n",
       "    <tr>\n",
       "      <th>454</th>\n",
       "      <td>3143000</td>\n",
       "      <td>4500</td>\n",
       "      <td>3</td>\n",
       "      <td>1</td>\n",
       "      <td>2</td>\n",
       "      <td>1</td>\n",
       "      <td>0</td>\n",
       "      <td>0</td>\n",
       "      <td>0</td>\n",
       "      <td>1</td>\n",
       "      <td>0</td>\n",
       "      <td>0</td>\n",
       "    </tr>\n",
       "    <tr>\n",
       "      <th>392</th>\n",
       "      <td>3500000</td>\n",
       "      <td>3990</td>\n",
       "      <td>3</td>\n",
       "      <td>1</td>\n",
       "      <td>2</td>\n",
       "      <td>1</td>\n",
       "      <td>0</td>\n",
       "      <td>0</td>\n",
       "      <td>0</td>\n",
       "      <td>0</td>\n",
       "      <td>0</td>\n",
       "      <td>0</td>\n",
       "    </tr>\n",
       "    <tr>\n",
       "      <th>231</th>\n",
       "      <td>4690000</td>\n",
       "      <td>4320</td>\n",
       "      <td>3</td>\n",
       "      <td>1</td>\n",
       "      <td>1</td>\n",
       "      <td>1</td>\n",
       "      <td>0</td>\n",
       "      <td>0</td>\n",
       "      <td>0</td>\n",
       "      <td>0</td>\n",
       "      <td>0</td>\n",
       "      <td>1</td>\n",
       "    </tr>\n",
       "    <tr>\n",
       "      <th>271</th>\n",
       "      <td>4340000</td>\n",
       "      <td>1905</td>\n",
       "      <td>5</td>\n",
       "      <td>1</td>\n",
       "      <td>2</td>\n",
       "      <td>0</td>\n",
       "      <td>0</td>\n",
       "      <td>1</td>\n",
       "      <td>0</td>\n",
       "      <td>0</td>\n",
       "      <td>0</td>\n",
       "      <td>0</td>\n",
       "    </tr>\n",
       "    <tr>\n",
       "      <th>250</th>\n",
       "      <td>4515000</td>\n",
       "      <td>3510</td>\n",
       "      <td>3</td>\n",
       "      <td>1</td>\n",
       "      <td>3</td>\n",
       "      <td>1</td>\n",
       "      <td>0</td>\n",
       "      <td>0</td>\n",
       "      <td>0</td>\n",
       "      <td>0</td>\n",
       "      <td>0</td>\n",
       "      <td>0</td>\n",
       "    </tr>\n",
       "  </tbody>\n",
       "</table>\n",
       "</div>"
      ],
      "text/plain": [
       "       price  area  bedrooms  bathrooms  stories  mainroad  guestroom  \\\n",
       "454  3143000  4500         3          1        2         1          0   \n",
       "392  3500000  3990         3          1        2         1          0   \n",
       "231  4690000  4320         3          1        1         1          0   \n",
       "271  4340000  1905         5          1        2         0          0   \n",
       "250  4515000  3510         3          1        3         1          0   \n",
       "\n",
       "     basement  hotwaterheating  airconditioning  parking  prefarea  \n",
       "454         0                0                1        0         0  \n",
       "392         0                0                0        0         0  \n",
       "231         0                0                0        0         1  \n",
       "271         1                0                0        0         0  \n",
       "250         0                0                0        0         0  "
      ]
     },
     "execution_count": 19,
     "metadata": {},
     "output_type": "execute_result"
    }
   ],
   "source": [
    "model2_vars = ['price','area', 'bedrooms', 'bathrooms', 'stories', 'mainroad', 'guestroom', 'basement', 'hotwaterheating', 'airconditioning', 'parking', 'prefarea']\n",
    "model2_train = trainingSet[model2_vars]\n",
    "model2_test = testSet[model2_vars]\n",
    "model2_train_length = len(model2_train)\n",
    "print(model2_train_length)\n",
    "model2_test_length = len(model2_test)\n",
    "print(model2_test_length)\n",
    "model2_train.head()"
   ]
  },
  {
   "cell_type": "code",
   "execution_count": 20,
   "id": "b37ecf89",
   "metadata": {},
   "outputs": [],
   "source": [
    "model2_Y_train = model2_train.values[:, 0] #price\n",
    "\n",
    "model2_X0_train = np.ones((model2_train_length, 1))\n",
    "model2_X1_train = model2_train.values[:, 1] #area\n",
    "model2_X2_train = model2_train.values[:, 2] #bedrooms\n",
    "model2_X3_train = model2_train.values[:, 3] #bathrooms\n",
    "model2_X4_train = model2_train.values[:, 4] #stories\n",
    "model2_X5_train = model2_train.values[:, 5] #mainroad\n",
    "model2_X6_train = model2_train.values[:, 6] #guestroom\n",
    "model2_X7_train = model2_train.values[:, 7] #basement\n",
    "model2_X8_train = model2_train.values[:, 8] #hotwaterheating\n",
    "model2_X9_train = model2_train.values[:, 9] #airconditioning\n",
    "model2_X10_train = model2_train.values[:, 10] #parking\n",
    "model2_X11_train = model2_train.values[:, 11] #prefarea\n",
    "\n",
    "model2_Y_test = model2_test.values[:, 5] #price\n",
    "\n",
    "\n",
    "model2_X0_test = np.ones((model2_test_length, 1))\n",
    "model2_X1_test = model2_test.values[:, 1] #area\n",
    "model2_X2_test = model2_test.values[:, 2] #bedrooms\n",
    "model2_X3_test = model2_test.values[:, 3] #bathrooms\n",
    "model2_X4_test = model2_test.values[:, 4] #stories\n",
    "model2_X5_test = model2_test.values[:, 5] #mainroad\n",
    "model2_X6_test = model2_test.values[:, 6] #guestroom\n",
    "model2_X7_test = model2_test.values[:, 7] #basement\n",
    "model2_X8_test = model2_test.values[:, 8] #hotwaterheating\n",
    "model2_X9_test = model2_test.values[:, 9] #airconditioning\n",
    "model2_X10_test = model2_test.values[:, 10] #parking\n",
    "model2_X11_test = model2_test.values[:, 11] #prefarea"
   ]
  },
  {
   "cell_type": "code",
   "execution_count": 21,
   "id": "abb448a5",
   "metadata": {},
   "outputs": [
    {
     "name": "stdout",
     "output_type": "stream",
     "text": [
      "[[1.000e+00 4.500e+03 3.000e+00 1.000e+00 2.000e+00 1.000e+00 0.000e+00\n",
      "  0.000e+00 0.000e+00 1.000e+00 0.000e+00 0.000e+00]\n",
      " [1.000e+00 3.990e+03 3.000e+00 1.000e+00 2.000e+00 1.000e+00 0.000e+00\n",
      "  0.000e+00 0.000e+00 0.000e+00 0.000e+00 0.000e+00]\n",
      " [1.000e+00 4.320e+03 3.000e+00 1.000e+00 1.000e+00 1.000e+00 0.000e+00\n",
      "  0.000e+00 0.000e+00 0.000e+00 0.000e+00 1.000e+00]\n",
      " [1.000e+00 1.905e+03 5.000e+00 1.000e+00 2.000e+00 0.000e+00 0.000e+00\n",
      "  1.000e+00 0.000e+00 0.000e+00 0.000e+00 0.000e+00]\n",
      " [1.000e+00 3.510e+03 3.000e+00 1.000e+00 3.000e+00 1.000e+00 0.000e+00\n",
      "  0.000e+00 0.000e+00 0.000e+00 0.000e+00 0.000e+00]]\n",
      "[[1.00e+00 4.00e+03 3.00e+00 1.00e+00 2.00e+00 1.00e+00 0.00e+00 0.00e+00\n",
      "  0.00e+00 0.00e+00 1.00e+00 0.00e+00]\n",
      " [1.00e+00 9.62e+03 3.00e+00 1.00e+00 1.00e+00 1.00e+00 0.00e+00 1.00e+00\n",
      "  0.00e+00 0.00e+00 2.00e+00 1.00e+00]\n",
      " [1.00e+00 3.46e+03 4.00e+00 1.00e+00 2.00e+00 1.00e+00 0.00e+00 0.00e+00\n",
      "  0.00e+00 1.00e+00 0.00e+00 0.00e+00]\n",
      " [1.00e+00 1.32e+04 2.00e+00 1.00e+00 1.00e+00 1.00e+00 0.00e+00 1.00e+00\n",
      "  1.00e+00 0.00e+00 1.00e+00 0.00e+00]\n",
      " [1.00e+00 3.66e+03 4.00e+00 1.00e+00 2.00e+00 0.00e+00 0.00e+00 0.00e+00\n",
      "  0.00e+00 0.00e+00 0.00e+00 0.00e+00]]\n"
     ]
    }
   ],
   "source": [
    "model2_X1_train_1 = model2_X1_train.reshape((model2_train_length, 1))\n",
    "model2_X2_train_1 = model2_X2_train.reshape((model2_train_length, 1))\n",
    "model2_X3_train_1 = model2_X3_train.reshape((model2_train_length, 1))\n",
    "model2_X4_train_1 = model2_X4_train.reshape((model2_train_length, 1))\n",
    "model2_X5_train_1 = model2_X5_train.reshape((model2_train_length, 1))\n",
    "model2_X6_train_1 = model2_X6_train.reshape((model2_train_length, 1))\n",
    "model2_X7_train_1 = model2_X7_train.reshape((model2_train_length, 1))\n",
    "model2_X8_train_1 = model2_X8_train.reshape((model2_train_length, 1))\n",
    "model2_X9_train_1 = model2_X9_train.reshape((model2_train_length, 1))\n",
    "model2_X10_train_1 = model2_X10_train.reshape((model2_train_length, 1))\n",
    "model2_X11_train_1 = model2_X11_train.reshape((model2_train_length, 1))\n",
    "\n",
    "model2_X1_test_1 = model2_X1_test.reshape((model2_test_length, 1))\n",
    "model2_X2_test_1 = model2_X2_test.reshape((model2_test_length, 1))\n",
    "model2_X3_test_1 = model2_X3_test.reshape((model2_test_length, 1))\n",
    "model2_X4_test_1 = model2_X4_test.reshape((model2_test_length, 1))\n",
    "model2_X5_test_1 = model2_X5_test.reshape((model2_test_length, 1))\n",
    "model2_X6_test_1 = model2_X6_test.reshape((model2_test_length, 1))\n",
    "model2_X7_test_1 = model2_X7_test.reshape((model2_test_length, 1))\n",
    "model2_X8_test_1 = model2_X8_test.reshape((model2_test_length, 1))\n",
    "model2_X9_test_1 = model2_X9_test.reshape((model2_test_length, 1))\n",
    "model2_X10_test_1 = model2_X10_test.reshape((model2_test_length, 1))\n",
    "model2_X11_test_1 = model2_X11_test.reshape((model2_test_length, 1))\n",
    "\n",
    "model2_X_train = np.hstack((model2_X0_train, model2_X1_train_1, model2_X2_train_1, model2_X3_train_1, model2_X4_train_1, model2_X5_train_1, model2_X6_train_1, model2_X7_train_1, model2_X8_train_1, model2_X9_train_1, model2_X10_train_1, model2_X11_train_1))\n",
    "model2_X_test = np.hstack((model2_X0_test, model2_X1_test_1, model2_X2_test_1, model2_X3_test_1, model2_X4_test_1, model2_X5_test_1, model2_X6_test_1, model2_X7_test_1, model2_X8_test_1, model2_X9_test_1, model2_X10_test_1, model2_X11_test_1))\n",
    "\n",
    "print(model2_X_train[:5])\n",
    "print(model2_X_test[:5])"
   ]
  },
  {
   "cell_type": "code",
   "execution_count": 22,
   "id": "c2d83e69",
   "metadata": {},
   "outputs": [],
   "source": [
    "model2_theta = np.zeros(12)\n",
    "model2_alpha = 0.0000000001\n",
    "model2_iterations = 1000"
   ]
  },
  {
   "cell_type": "code",
   "execution_count": 23,
   "id": "a428fbfb",
   "metadata": {},
   "outputs": [
    {
     "name": "stdout",
     "output_type": "stream",
     "text": [
      "13118565517688.451\n"
     ]
    }
   ],
   "source": [
    "model2_initial_training_cost = compute_cost(model2_X_train, model2_Y_train, model2_theta)\n",
    "print(model2_initial_training_cost)"
   ]
  },
  {
   "cell_type": "code",
   "execution_count": 24,
   "id": "ce143d2b",
   "metadata": {},
   "outputs": [
    {
     "name": "stdout",
     "output_type": "stream",
     "text": [
      "[1.30508916e+13 1.29836171e+13 1.29167396e+13 1.28502568e+13\n",
      " 1.27841664e+13]\n",
      "Model 2 Final Training Set Cost:  1682418141241.2002\n"
     ]
    }
   ],
   "source": [
    "model2_theta, model2_cost_history, model2_testLoss_history = gradient_descent(model2_X_train, model2_Y_train, model2_X_test, model2_Y_test, model2_theta, model2_alpha, model2_iterations)\n",
    "print(model2_cost_history[:5])\n",
    "model2_final_training_cost = compute_cost(model2_X_train, model2_Y_train, model2_theta)\n",
    "print('Model 2 Final Training Set Cost: ', model2_final_training_cost)"
   ]
  },
  {
   "cell_type": "code",
   "execution_count": 25,
   "id": "e8c5cc9a",
   "metadata": {},
   "outputs": [
    {
     "data": {
      "text/plain": [
       "<matplotlib.legend.Legend at 0x19599a0d8e0>"
      ]
     },
     "execution_count": 25,
     "metadata": {},
     "output_type": "execute_result"
    },
    {
     "data": {
      "image/png": "[encoded data removed]",
      "text/plain": [
       "<Figure size 432x288 with 1 Axes>"
      ]
     },
     "metadata": {
      "needs_background": "light"
     },
     "output_type": "display_data"
    }
   ],
   "source": [
    "plt.plot(range(1, model2_iterations + 1), model2_cost_history, color = 'blue', label = 'Training Loss')\n",
    "plt.plot(range(1, model2_iterations + 1), model2_testLoss_history, color = 'red', label = 'Validation Loss')\n",
    "plt.grid()\n",
    "plt.xlabel(\"Number of iterations\")\n",
    "plt.ylabel(\"Cost\")\n",
    "plt.title(\"Convergence of gradient descent\")\n",
    "plt.legend()"
   ]
  },
  {
   "cell_type": "code",
   "execution_count": null,
   "id": "d705a670",
   "metadata": {},
   "outputs": [],
   "source": []
  }
 ],
 "metadata": {
  "kernelspec": {
   "display_name": "Python 3",
   "language": "python",
   "name": "python3"
  },
  "language_info": {
   "codemirror_mode": {
    "name": "ipython",
    "version": 3
   },
   "file_extension": ".py",
   "mimetype": "text/x-python",
   "name": "python",
   "nbconvert_exporter": "python",
   "pygments_lexer": "ipython3",
   "version": "3.8.8"
  }
 },
 "nbformat": 4,
 "nbformat_minor": 5
}
