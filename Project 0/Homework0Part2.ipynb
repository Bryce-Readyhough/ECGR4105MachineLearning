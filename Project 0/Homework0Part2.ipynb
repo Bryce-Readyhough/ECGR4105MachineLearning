{
 "cells": [
  {
   "cell_type": "markdown",
   "id": "79262f2b",
   "metadata": {},
   "source": [
    "The beigning of part 2 is exactly the same as in part 1. The data is loaded in and split into arrays"
   ]
  },
  {
   "cell_type": "code",
   "execution_count": 1,
   "id": "da6a88e4",
   "metadata": {},
   "outputs": [
    {
     "name": "stdout",
     "output_type": "stream",
     "text": [
      "99\n",
      "There are  99  training examples.\n",
      "X1 =  [0.04040404 0.08080808 0.12121212 0.16161616 0.2020202 ]\n",
      "X2 =  [0.13494949 0.82989899 1.52484848 2.21979798 2.91474747]\n",
      "X3 =  [0.88848485 1.3369697  1.78545455 2.23393939 2.68242424]\n",
      "Y =  [2.6796499  2.96848981 3.25406475 3.53637472 3.81541972]\n"
     ]
    }
   ],
   "source": [
    "import numpy as np\n",
    "import pandas as pd\n",
    "import matplotlib.pyplot as plt\n",
    "\n",
    "csv = pd.read_csv('D3.csv')\n",
    "numRows = len(csv)\n",
    "print(numRows)\n",
    "csv.head(numRows)\n",
    "\n",
    "X1 = csv.values[:,0]\n",
    "X2 = csv.values[:,1]\n",
    "X3 = csv.values[:,2]\n",
    "Y = csv.values[:,3]\n",
    "numTraining = len(Y)\n",
    "print('There are ', numTraining, ' training examples.')\n",
    "\n",
    "#Printing the first 5 records of each matrix\n",
    "print('X1 = ', X1[: 5])\n",
    "print('X2 = ', X2[: 5])\n",
    "print('X3 = ', X3[: 5])\n",
    "print('Y = ', Y[: 5])"
   ]
  },
  {
   "cell_type": "markdown",
   "id": "5c99b93a",
   "metadata": {},
   "source": [
    "Because this time we want to use all 3 independent variables in the same algorithm instead they are placed into one extra wide matrix. The matrix has the format where each column is filled with the respective data. Column 1 is filled with 1s.\n",
    "\n",
    "[X0, X1, X2, X3]"
   ]
  },
  {
   "cell_type": "code",
   "execution_count": 2,
   "id": "c3cdc07c",
   "metadata": {},
   "outputs": [
    {
     "data": {
      "text/plain": [
       "array([[1.        , 0.04040404, 0.13494949, 0.88848485],\n",
       "       [1.        , 0.08080808, 0.82989899, 1.3369697 ],\n",
       "       [1.        , 0.12121212, 1.52484848, 1.78545455],\n",
       "       [1.        , 0.16161616, 2.21979798, 2.23393939],\n",
       "       [1.        , 0.2020202 , 2.91474747, 2.68242424]])"
      ]
     },
     "execution_count": 2,
     "metadata": {},
     "output_type": "execute_result"
    }
   ],
   "source": [
    "X_0 = np.ones((numTraining, 1))\n",
    "X1_1 = X1.reshape(numTraining, 1)\n",
    "X2_1 = X2.reshape(numTraining, 1)\n",
    "X3_1 = X3.reshape(numTraining, 1)\n",
    "\n",
    "X = np.hstack((X_0, X1_1, X2_1, X3_1))\n",
    "X[:5]"
   ]
  },
  {
   "cell_type": "markdown",
   "id": "6ce698ca",
   "metadata": {},
   "source": [
    "When there are 3 independent variables we will need a respective number of theta values. In this case 4 (theta0, theta1, theta2, theta3). These values are initialized as zeros below."
   ]
  },
  {
   "cell_type": "code",
   "execution_count": 3,
   "id": "efbe213c",
   "metadata": {},
   "outputs": [
    {
     "data": {
      "text/plain": [
       "array([0., 0., 0., 0.])"
      ]
     },
     "execution_count": 3,
     "metadata": {},
     "output_type": "execute_result"
    }
   ],
   "source": [
    "theta = np.zeros(4)\n",
    "theta[:5]"
   ]
  },
  {
   "cell_type": "markdown",
   "id": "7e5ea218",
   "metadata": {},
   "source": [
    "Because we are already using dot products to calculate the cost and gradients the code will not change to exand the number of variables. It is required that the theta and X matrices are the same width. The code for compute_costs and gradients has been borrowed from Part 1 of his Homework."
   ]
  },
  {
   "cell_type": "code",
   "execution_count": 4,
   "id": "5506e130",
   "metadata": {},
   "outputs": [],
   "source": [
    "def compute_cost(XVals, YVals, theta):\n",
    "    predictions = XVals.dot(theta) #Makes a prediction using the given values of they using \n",
    "                                   #the following equation: prediction = theta0 + theta1*X\n",
    "    errors = np.subtract(predictions, YVals) #calculates the error from the prediction to the actual Y value\n",
    "    sqrErrors = np.square(errors) #squaring the errors to make finding the minimum easier\n",
    "    J = 1/(2*numTraining) * np.sum(sqrErrors)\n",
    "    \n",
    "    return J"
   ]
  },
  {
   "cell_type": "code",
   "execution_count": 5,
   "id": "ca3c2c0a",
   "metadata": {},
   "outputs": [],
   "source": [
    "def gradient_descent(XVals, YVals, theta, alpha, iterations):\n",
    "    cost_history = np.zeros(iterations) #stores the calculated cost for each iteration of the algorithm\n",
    "    for i in range(iterations):\n",
    "        predictions = XVals.dot(theta) #tests the current theta value with each independent variable value\n",
    "        errors = np.subtract(predictions, YVals)\n",
    "        sum_delta = (alpha/numTraining) * XVals.transpose().dot(errors);\n",
    "        theta = theta - sum_delta; #updating the value of theta based on the new data\n",
    "        cost_history[i] = compute_cost(XVals, YVals, theta) #logging the cost to the cost history log\n",
    "        \n",
    "        \n",
    "    return theta, cost_history  "
   ]
  },
  {
   "cell_type": "markdown",
   "id": "e2d0e937",
   "metadata": {},
   "source": [
    "The cost using the default value of zero for theta is calculated below"
   ]
  },
  {
   "cell_type": "code",
   "execution_count": 6,
   "id": "d81abc52",
   "metadata": {},
   "outputs": [
    {
     "name": "stdout",
     "output_type": "stream",
     "text": [
      "The initial cost using 0 for all theta values is:  5.483015861682611\n"
     ]
    }
   ],
   "source": [
    "cost = compute_cost(X, Y, theta)\n",
    "print('The initial cost using 0 for all theta values is: ', cost)"
   ]
  },
  {
   "cell_type": "code",
   "execution_count": 7,
   "id": "e405f718",
   "metadata": {},
   "outputs": [],
   "source": [
    "iterations = 2500;\n",
    "alpha = 0.01"
   ]
  },
  {
   "cell_type": "code",
   "execution_count": 8,
   "id": "6a7d1a31",
   "metadata": {},
   "outputs": [
    {
     "name": "stdout",
     "output_type": "stream",
     "text": [
      "The final value of theta with all 3 independent variables is:  [ 4.97179118 -1.97799437  0.63132059 -0.22656625]\n",
      "The cost history with all 3 variables is:  [5.18323354 4.94729184 4.75868156 ... 0.71859223 0.71857157 0.71855095]\n",
      "The final cost using the final value of theta is:  0.7185509476994792\n"
     ]
    }
   ],
   "source": [
    "theta, cost_history = gradient_descent(X, Y, theta, alpha, iterations)\n",
    "print('The final value of theta with all 3 independent variables is: ', theta)\n",
    "print('The cost history with all 3 variables is: ', cost_history)\n",
    "final_cost = compute_cost(X, Y, theta)\n",
    "print('The final cost using the final value of theta is: ', final_cost)"
   ]
  },
  {
   "cell_type": "code",
   "execution_count": 9,
   "id": "d35f5147",
   "metadata": {},
   "outputs": [
    {
     "data": {
      "text/plain": [
       "Text(0.5, 1.0, 'Convergence of gradient descent for all 3 independent variables')"
      ]
     },
     "execution_count": 9,
     "metadata": {},
     "output_type": "execute_result"
    },
    {
     "data": {
      "image/png": "[encoded data removed]",
      "text/plain": [
       "<Figure size 432x288 with 1 Axes>"
      ]
     },
     "metadata": {
      "needs_background": "light"
     },
     "output_type": "display_data"
    }
   ],
   "source": [
    "plt.plot(range(1, iterations + 1), cost_history, color = 'orange')\n",
    "plt.grid()\n",
    "plt.xlabel(\"Number of iterations\")\n",
    "plt.ylabel(\"Cost\")\n",
    "plt.title(\"Convergence of gradient descent for all 3 independent variables\")"
   ]
  },
  {
   "cell_type": "code",
   "execution_count": null,
   "id": "7ae4e43f",
   "metadata": {},
   "outputs": [],
   "source": []
  }
 ],
 "metadata": {
  "kernelspec": {
   "display_name": "Python 3",
   "language": "python",
   "name": "python3"
  },
  "language_info": {
   "codemirror_mode": {
    "name": "ipython",
    "version": 3
   },
   "file_extension": ".py",
   "mimetype": "text/x-python",
   "name": "python",
   "nbconvert_exporter": "python",
   "pygments_lexer": "ipython3",
   "version": "3.8.8"
  }
 },
 "nbformat": 4,
 "nbformat_minor": 5
}
