{
 "cells": [
  {
   "cell_type": "markdown",
   "id": "b177eb02",
   "metadata": {},
   "source": [
    "# Intro to Machine Learning Homework 1 \n",
    "\n",
    "### Bryce Readyhough \n",
    "### ID-801005029"
   ]
  },
  {
   "cell_type": "markdown",
   "id": "609f275b",
   "metadata": {},
   "source": [
    "## Question 1a"
   ]
  },
  {
   "cell_type": "markdown",
   "id": "988fb6c1",
   "metadata": {},
   "source": [
    "Importing required libraries"
   ]
  },
  {
   "cell_type": "code",
   "execution_count": 1,
   "id": "d404e08f",
   "metadata": {},
   "outputs": [],
   "source": [
    "import numpy as np\n",
    "import pandas as pd\n",
    "import matplotlib.pyplot as plt\n",
    "from sklearn.model_selection import train_test_split"
   ]
  },
  {
   "cell_type": "markdown",
   "id": "6b5f2c5d",
   "metadata": {},
   "source": [
    "Loading in housing data from the provided CSV file"
   ]
  },
  {
   "cell_type": "code",
   "execution_count": 2,
   "id": "8af1237e",
   "metadata": {},
   "outputs": [
    {
     "name": "stdout",
     "output_type": "stream",
     "text": [
      "<class 'pandas.core.frame.DataFrame'>\n",
      "RangeIndex: 545 entries, 0 to 544\n",
      "Data columns (total 13 columns):\n",
      " #   Column            Non-Null Count  Dtype \n",
      "---  ------            --------------  ----- \n",
      " 0   price             545 non-null    int64 \n",
      " 1   area              545 non-null    int64 \n",
      " 2   bedrooms          545 non-null    int64 \n",
      " 3   bathrooms         545 non-null    int64 \n",
      " 4   stories           545 non-null    int64 \n",
      " 5   mainroad          545 non-null    object\n",
      " 6   guestroom         545 non-null    object\n",
      " 7   basement          545 non-null    object\n",
      " 8   hotwaterheating   545 non-null    object\n",
      " 9   airconditioning   545 non-null    object\n",
      " 10  parking           545 non-null    int64 \n",
      " 11  prefarea          545 non-null    object\n",
      " 12  furnishingstatus  545 non-null    object\n",
      "dtypes: int64(6), object(7)\n",
      "memory usage: 55.5+ KB\n"
     ]
    }
   ],
   "source": [
    "housingData = pd.DataFrame(pd.read_csv('Housing.csv'))\n",
    "numRows = len(housingData)\n",
    "housingData.info()"
   ]
  },
  {
   "cell_type": "markdown",
   "id": "0826fdee",
   "metadata": {},
   "source": [
    "The data above contains several datapoints which are boolean yes or no. For a linear regression line these will need to be converted into numeric 1s or 0s. These can be mapped using an xmap. \n",
    "\n",
    "The dataset provided already has the data categorized so each variable does not need to be split."
   ]
  },
  {
   "cell_type": "code",
   "execution_count": 3,
   "id": "d60dc515",
   "metadata": {},
   "outputs": [
    {
     "data": {
      "text/html": [
       "<div>\n",
       "<style scoped>\n",
       "    .dataframe tbody tr th:only-of-type {\n",
       "        vertical-align: middle;\n",
       "    }\n",
       "\n",
       "    .dataframe tbody tr th {\n",
       "        vertical-align: top;\n",
       "    }\n",
       "\n",
       "    .dataframe thead th {\n",
       "        text-align: right;\n",
       "    }\n",
       "</style>\n",
       "<table border=\"1\" class=\"dataframe\">\n",
       "  <thead>\n",
       "    <tr style=\"text-align: right;\">\n",
       "      <th></th>\n",
       "      <th>price</th>\n",
       "      <th>area</th>\n",
       "      <th>bedrooms</th>\n",
       "      <th>bathrooms</th>\n",
       "      <th>stories</th>\n",
       "      <th>mainroad</th>\n",
       "      <th>guestroom</th>\n",
       "      <th>basement</th>\n",
       "      <th>hotwaterheating</th>\n",
       "      <th>airconditioning</th>\n",
       "      <th>parking</th>\n",
       "      <th>prefarea</th>\n",
       "      <th>furnishingstatus</th>\n",
       "    </tr>\n",
       "  </thead>\n",
       "  <tbody>\n",
       "    <tr>\n",
       "      <th>540</th>\n",
       "      <td>1820000</td>\n",
       "      <td>3000</td>\n",
       "      <td>2</td>\n",
       "      <td>1</td>\n",
       "      <td>1</td>\n",
       "      <td>1</td>\n",
       "      <td>0</td>\n",
       "      <td>1</td>\n",
       "      <td>0</td>\n",
       "      <td>0</td>\n",
       "      <td>2</td>\n",
       "      <td>0</td>\n",
       "      <td>unfurnished</td>\n",
       "    </tr>\n",
       "    <tr>\n",
       "      <th>541</th>\n",
       "      <td>1767150</td>\n",
       "      <td>2400</td>\n",
       "      <td>3</td>\n",
       "      <td>1</td>\n",
       "      <td>1</td>\n",
       "      <td>0</td>\n",
       "      <td>0</td>\n",
       "      <td>0</td>\n",
       "      <td>0</td>\n",
       "      <td>0</td>\n",
       "      <td>0</td>\n",
       "      <td>0</td>\n",
       "      <td>semi-furnished</td>\n",
       "    </tr>\n",
       "    <tr>\n",
       "      <th>542</th>\n",
       "      <td>1750000</td>\n",
       "      <td>3620</td>\n",
       "      <td>2</td>\n",
       "      <td>1</td>\n",
       "      <td>1</td>\n",
       "      <td>1</td>\n",
       "      <td>0</td>\n",
       "      <td>0</td>\n",
       "      <td>0</td>\n",
       "      <td>0</td>\n",
       "      <td>0</td>\n",
       "      <td>0</td>\n",
       "      <td>unfurnished</td>\n",
       "    </tr>\n",
       "    <tr>\n",
       "      <th>543</th>\n",
       "      <td>1750000</td>\n",
       "      <td>2910</td>\n",
       "      <td>3</td>\n",
       "      <td>1</td>\n",
       "      <td>1</td>\n",
       "      <td>0</td>\n",
       "      <td>0</td>\n",
       "      <td>0</td>\n",
       "      <td>0</td>\n",
       "      <td>0</td>\n",
       "      <td>0</td>\n",
       "      <td>0</td>\n",
       "      <td>furnished</td>\n",
       "    </tr>\n",
       "    <tr>\n",
       "      <th>544</th>\n",
       "      <td>1750000</td>\n",
       "      <td>3850</td>\n",
       "      <td>3</td>\n",
       "      <td>1</td>\n",
       "      <td>2</td>\n",
       "      <td>1</td>\n",
       "      <td>0</td>\n",
       "      <td>0</td>\n",
       "      <td>0</td>\n",
       "      <td>0</td>\n",
       "      <td>0</td>\n",
       "      <td>0</td>\n",
       "      <td>unfurnished</td>\n",
       "    </tr>\n",
       "  </tbody>\n",
       "</table>\n",
       "</div>"
      ],
      "text/plain": [
       "       price  area  bedrooms  bathrooms  stories  mainroad  guestroom  \\\n",
       "540  1820000  3000         2          1        1         1          0   \n",
       "541  1767150  2400         3          1        1         0          0   \n",
       "542  1750000  3620         2          1        1         1          0   \n",
       "543  1750000  2910         3          1        1         0          0   \n",
       "544  1750000  3850         3          1        2         1          0   \n",
       "\n",
       "     basement  hotwaterheating  airconditioning  parking  prefarea  \\\n",
       "540         1                0                0        2         0   \n",
       "541         0                0                0        0         0   \n",
       "542         0                0                0        0         0   \n",
       "543         0                0                0        0         0   \n",
       "544         0                0                0        0         0   \n",
       "\n",
       "    furnishingstatus  \n",
       "540      unfurnished  \n",
       "541   semi-furnished  \n",
       "542      unfurnished  \n",
       "543        furnished  \n",
       "544      unfurnished  "
      ]
     },
     "execution_count": 3,
     "metadata": {},
     "output_type": "execute_result"
    }
   ],
   "source": [
    "mapVars = ['mainroad', 'guestroom', 'hotwaterheating', 'basement', 'airconditioning', 'prefarea']\n",
    "\n",
    "def binaryMap(x):\n",
    "    return x.map({\"yes\" : 1, \"no\" : 0})\n",
    "\n",
    "housingData[mapVars] = housingData[mapVars].apply(binaryMap)\n",
    "\n",
    "housingData.tail()"
   ]
  },
  {
   "cell_type": "markdown",
   "id": "92817380",
   "metadata": {},
   "source": [
    "For this model 70% of the data will be used for training, and 30% will be used as test data. The data will be split randomly into 2 sets, the first being the training set containing 70% of the original data, and the second being the test set containing 30% of the original data."
   ]
  },
  {
   "cell_type": "code",
   "execution_count": 4,
   "id": "997bff5f",
   "metadata": {},
   "outputs": [],
   "source": [
    "np.random.seed(2)\n",
    "trainingSet, testSet = train_test_split(housingData, train_size = 0.7, test_size = 0.3, random_state = \n",
    "np.random.randint(1), shuffle = 0)"
   ]
  },
  {
   "cell_type": "markdown",
   "id": "da1f8ad7",
   "metadata": {},
   "source": [
    "For this model the price of the house will be modeled using the following data types:\n",
    "- area\n",
    "- number of bedrooms\n",
    "- number of bathrooms\n",
    "- number of stories\n",
    "- number of parking spaces\n",
    "\n",
    "The price of the house will be considered the output or dependent variable (Y). The training and test sets are then reduced to only contain these variables."
   ]
  },
  {
   "cell_type": "code",
   "execution_count": 5,
   "id": "e38becc8",
   "metadata": {},
   "outputs": [
    {
     "name": "stdout",
     "output_type": "stream",
     "text": [
      "381\n",
      "164\n"
     ]
    },
    {
     "data": {
      "text/html": [
       "<div>\n",
       "<style scoped>\n",
       "    .dataframe tbody tr th:only-of-type {\n",
       "        vertical-align: middle;\n",
       "    }\n",
       "\n",
       "    .dataframe tbody tr th {\n",
       "        vertical-align: top;\n",
       "    }\n",
       "\n",
       "    .dataframe thead th {\n",
       "        text-align: right;\n",
       "    }\n",
       "</style>\n",
       "<table border=\"1\" class=\"dataframe\">\n",
       "  <thead>\n",
       "    <tr style=\"text-align: right;\">\n",
       "      <th></th>\n",
       "      <th>area</th>\n",
       "      <th>bedrooms</th>\n",
       "      <th>bathrooms</th>\n",
       "      <th>stories</th>\n",
       "      <th>parking</th>\n",
       "      <th>price</th>\n",
       "    </tr>\n",
       "  </thead>\n",
       "  <tbody>\n",
       "    <tr>\n",
       "      <th>454</th>\n",
       "      <td>4500</td>\n",
       "      <td>3</td>\n",
       "      <td>1</td>\n",
       "      <td>2</td>\n",
       "      <td>0</td>\n",
       "      <td>3143000</td>\n",
       "    </tr>\n",
       "    <tr>\n",
       "      <th>392</th>\n",
       "      <td>3990</td>\n",
       "      <td>3</td>\n",
       "      <td>1</td>\n",
       "      <td>2</td>\n",
       "      <td>0</td>\n",
       "      <td>3500000</td>\n",
       "    </tr>\n",
       "    <tr>\n",
       "      <th>231</th>\n",
       "      <td>4320</td>\n",
       "      <td>3</td>\n",
       "      <td>1</td>\n",
       "      <td>1</td>\n",
       "      <td>0</td>\n",
       "      <td>4690000</td>\n",
       "    </tr>\n",
       "    <tr>\n",
       "      <th>271</th>\n",
       "      <td>1905</td>\n",
       "      <td>5</td>\n",
       "      <td>1</td>\n",
       "      <td>2</td>\n",
       "      <td>0</td>\n",
       "      <td>4340000</td>\n",
       "    </tr>\n",
       "    <tr>\n",
       "      <th>250</th>\n",
       "      <td>3510</td>\n",
       "      <td>3</td>\n",
       "      <td>1</td>\n",
       "      <td>3</td>\n",
       "      <td>0</td>\n",
       "      <td>4515000</td>\n",
       "    </tr>\n",
       "  </tbody>\n",
       "</table>\n",
       "</div>"
      ],
      "text/plain": [
       "     area  bedrooms  bathrooms  stories  parking    price\n",
       "454  4500         3          1        2        0  3143000\n",
       "392  3990         3          1        2        0  3500000\n",
       "231  4320         3          1        1        0  4690000\n",
       "271  1905         5          1        2        0  4340000\n",
       "250  3510         3          1        3        0  4515000"
      ]
     },
     "execution_count": 5,
     "metadata": {},
     "output_type": "execute_result"
    }
   ],
   "source": [
    "model1_vars = ['area', 'bedrooms', 'bathrooms', 'stories', 'parking', 'price']\n",
    "model1_train = trainingSet[model1_vars]\n",
    "model1_test = testSet[model1_vars]\n",
    "model1_train_length = len(model1_train)\n",
    "print(model1_train_length)\n",
    "model1_test_length = len(model1_test)\n",
    "print(model1_test_length)\n",
    "model1_train.head()"
   ]
  },
  {
   "cell_type": "markdown",
   "id": "7f4ecf0f",
   "metadata": {},
   "source": [
    "Both the training and testing sets are then converted into 2 Matrices. One containing the X values and one containing the Y values."
   ]
  },
  {
   "cell_type": "code",
   "execution_count": 6,
   "id": "b455d735",
   "metadata": {},
   "outputs": [],
   "source": [
    "model1_X0_train = np.ones((model1_train_length, 1))\n",
    "model1_X1_train = model1_train.values[:, 0] #area\n",
    "model1_X2_train = model1_train.values[:, 1] #bedrooms\n",
    "model1_X3_train = model1_train.values[:, 2] #bathrooms\n",
    "model1_X4_train = model1_train.values[:, 3] #stories\n",
    "model1_X5_train = model1_train.values[:, 4] #parking\n",
    "model1_Y_train = model1_train.values[:, 5] #price\n",
    "\n",
    "model1_X0_test = np.ones((model1_test_length, 1))\n",
    "model1_X1_test = model1_test.values[:, 0] #area\n",
    "model1_X2_test = model1_test.values[:, 1] #bedrooms\n",
    "model1_X3_test = model1_test.values[:, 2] #bathrooms\n",
    "model1_X4_test = model1_test.values[:, 3] #stories\n",
    "model1_X5_test = model1_test.values[:, 4] #parking\n",
    "model1_Y_test = model1_test.values[:, 5] #price"
   ]
  },
  {
   "cell_type": "markdown",
   "id": "e6eba6ae",
   "metadata": {},
   "source": [
    "The X sets are then combined into 5xnumRows matrices. The first column is the X0 place containing only ones."
   ]
  },
  {
   "cell_type": "code",
   "execution_count": 7,
   "id": "926388e5",
   "metadata": {},
   "outputs": [
    {
     "name": "stdout",
     "output_type": "stream",
     "text": [
      "[[1.000e+00 4.500e+03 3.000e+00 1.000e+00 2.000e+00 0.000e+00]\n",
      " [1.000e+00 3.990e+03 3.000e+00 1.000e+00 2.000e+00 0.000e+00]\n",
      " [1.000e+00 4.320e+03 3.000e+00 1.000e+00 1.000e+00 0.000e+00]\n",
      " [1.000e+00 1.905e+03 5.000e+00 1.000e+00 2.000e+00 0.000e+00]\n",
      " [1.000e+00 3.510e+03 3.000e+00 1.000e+00 3.000e+00 0.000e+00]]\n",
      "[[1.00e+00 4.00e+03 3.00e+00 1.00e+00 2.00e+00 1.00e+00]\n",
      " [1.00e+00 9.62e+03 3.00e+00 1.00e+00 1.00e+00 2.00e+00]\n",
      " [1.00e+00 3.46e+03 4.00e+00 1.00e+00 2.00e+00 0.00e+00]\n",
      " [1.00e+00 1.32e+04 2.00e+00 1.00e+00 1.00e+00 1.00e+00]\n",
      " [1.00e+00 3.66e+03 4.00e+00 1.00e+00 2.00e+00 0.00e+00]]\n"
     ]
    }
   ],
   "source": [
    "model1_X1_train_1 = model1_X1_train.reshape((model1_train_length, 1))\n",
    "model1_X2_train_1 = model1_X2_train.reshape((model1_train_length, 1))\n",
    "model1_X3_train_1 = model1_X3_train.reshape((model1_train_length, 1))\n",
    "model1_X4_train_1 = model1_X4_train.reshape((model1_train_length, 1))\n",
    "model1_X5_train_1 = model1_X5_train.reshape((model1_train_length, 1))\n",
    "\n",
    "model1_X1_test_1 = model1_X1_test.reshape((model1_test_length, 1))\n",
    "model1_X2_test_1 = model1_X2_test.reshape((model1_test_length, 1))\n",
    "model1_X3_test_1 = model1_X3_test.reshape((model1_test_length, 1))\n",
    "model1_X4_test_1 = model1_X4_test.reshape((model1_test_length, 1))\n",
    "model1_X5_test_1 = model1_X5_test.reshape((model1_test_length, 1))\n",
    "\n",
    "model1_X_train = np.hstack((model1_X0_train, model1_X1_train_1, model1_X2_train_1, model1_X3_train_1, model1_X4_train_1, model1_X5_train_1))\n",
    "model1_X_test = np.hstack((model1_X0_test, model1_X1_test_1, model1_X2_test_1, model1_X3_test_1, model1_X4_test_1, model1_X5_test_1))\n",
    "\n",
    "print(model1_X_train[:5])\n",
    "print(model1_X_test[:5])"
   ]
  },
  {
   "cell_type": "markdown",
   "id": "a98ac564",
   "metadata": {},
   "source": [
    "The first question doesn't require standardization or normalization. Defining basic cost and gradient descent functions:"
   ]
  },
  {
   "cell_type": "code",
   "execution_count": 8,
   "id": "e46d106f",
   "metadata": {},
   "outputs": [],
   "source": [
    "def compute_cost(XVals, YVals, theta):\n",
    "    numSamples = len(XVals)\n",
    "    predictions = XVals.dot(theta) #Makes a prediction using the given values of they using \n",
    "                                   #the following equation: prediction = theta0 + theta1*X\n",
    "    errors = np.subtract(predictions, YVals) #calculates the error from the prediction to the actual Y value\n",
    "    sqrErrors = np.square(errors) #squaring the errors to make finding the minimum easier\n",
    "    J = (1/(2 * numSamples)) * np.sum(sqrErrors)\n",
    "    return J\n",
    "def gradient_descent(training_XVals, training_YVals, testing_XVals, testing_YVals, theta, alpha, iterations):\n",
    "    numSamples = len(training_XVals)\n",
    "    training_loss_history = np.zeros(iterations) #stores the calculated cost for each iteration of the algorithm\n",
    "    testing_loss_history = np.zeros(iterations)\n",
    "    for i in range(iterations):\n",
    "        predictions = training_XVals.dot(theta) #tests the current theta value with each independent variable value\n",
    "        errors = np.subtract(predictions, training_YVals)\n",
    "        sum_delta = (alpha/numSamples) * (training_XVals.transpose().dot(errors));\n",
    "        theta = theta - sum_delta; #updating the value of theta based on the new data\n",
    "        training_loss_history[i] = compute_cost(training_XVals, training_YVals, theta) #logging the training cost to the cost history log\n",
    "        testing_loss_history[i] = compute_cost(testing_XVals, testing_YVals, theta)\n",
    "    return theta, training_loss_history, testing_loss_history"
   ]
  },
  {
   "cell_type": "markdown",
   "id": "91a9b7e1",
   "metadata": {},
   "source": [
    "Defining the number of iterations and the alpha that will be used and creating memory for apha."
   ]
  },
  {
   "cell_type": "code",
   "execution_count": 9,
   "id": "2c1f52bf",
   "metadata": {},
   "outputs": [],
   "source": [
    "model1_theta = np.zeros(6)\n",
    "model1_alpha = 0.0000000001\n",
    "model1_iterations = 1000"
   ]
  },
  {
   "cell_type": "code",
   "execution_count": 10,
   "id": "5f852987",
   "metadata": {},
   "outputs": [
    {
     "name": "stdout",
     "output_type": "stream",
     "text": [
      "13118565517688.451\n"
     ]
    }
   ],
   "source": [
    "model1_initial_training_cost = compute_cost(model1_X_train, model1_Y_train, model1_theta)\n",
    "print(model1_initial_training_cost)"
   ]
  },
  {
   "cell_type": "code",
   "execution_count": 11,
   "id": "eeac4c89",
   "metadata": {},
   "outputs": [
    {
     "name": "stdout",
     "output_type": "stream",
     "text": [
      "[1.30508916e+13 1.29836171e+13 1.29167396e+13 1.28502568e+13\n",
      " 1.27841664e+13]\n",
      "Model 1 Final Training Set Cost:  1682418252640.2073\n"
     ]
    }
   ],
   "source": [
    "model1_theta, model1_cost_history, model1_testLoss_history = gradient_descent(model1_X_train, model1_Y_train, model1_X_test, model1_Y_test, model1_theta, model1_alpha, model1_iterations)\n",
    "print(model1_cost_history[:5])\n",
    "model1_final_training_cost = compute_cost(model1_X_train, model1_Y_train, model1_theta)\n",
    "print('Model 1 Final Training Set Cost: ', model1_final_training_cost)"
   ]
  },
  {
   "cell_type": "code",
   "execution_count": 12,
   "id": "6307154f",
   "metadata": {},
   "outputs": [
    {
     "data": {
      "text/plain": [
       "<matplotlib.legend.Legend at 0x239f080dfd0>"
      ]
     },
     "execution_count": 12,
     "metadata": {},
     "output_type": "execute_result"
    },
    {
     "data": {
      "image/png": "[encoded data removed]",
      "text/plain": [
       "<Figure size 432x288 with 1 Axes>"
      ]
     },
     "metadata": {
      "needs_background": "light"
     },
     "output_type": "display_data"
    }
   ],
   "source": [
    "plt.plot(range(1, model1_iterations + 1), model1_cost_history, color = 'blue', label = 'Training Loss')\n",
    "plt.plot(range(1, model1_iterations + 1), model1_testLoss_history, color = 'red', label = 'Validation Loss')\n",
    "plt.grid()\n",
    "plt.xlabel(\"Number of iterations\")\n",
    "plt.ylabel(\"Cost\")\n",
    "plt.title(\"Convergence of gradient descent\")\n",
    "plt.legend()"
   ]
  },
  {
   "cell_type": "markdown",
   "id": "8e8b7f56",
   "metadata": {},
   "source": [
    "## Question 1b"
   ]
  },
  {
   "cell_type": "markdown",
   "id": "3db8927c",
   "metadata": {},
   "source": [
    "For the second question the same data will be used. The data will not be not be standardized. This time the following datapoints will be used for the model:\n",
    "- Area\n",
    "- Bedrooms\n",
    "- Bathrooms\n",
    "- Stories\n",
    "- Mainroad \n",
    "- Guestroom\n",
    "- Basement\n",
    "- Hotwaterheating\n",
    "- Airconditioning\n",
    "- Parking\n",
    "- Prefarea"
   ]
  },
  {
   "cell_type": "code",
   "execution_count": 13,
   "id": "2392197c",
   "metadata": {},
   "outputs": [
    {
     "name": "stdout",
     "output_type": "stream",
     "text": [
      "381\n",
      "164\n"
     ]
    },
    {
     "data": {
      "text/html": [
       "<div>\n",
       "<style scoped>\n",
       "    .dataframe tbody tr th:only-of-type {\n",
       "        vertical-align: middle;\n",
       "    }\n",
       "\n",
       "    .dataframe tbody tr th {\n",
       "        vertical-align: top;\n",
       "    }\n",
       "\n",
       "    .dataframe thead th {\n",
       "        text-align: right;\n",
       "    }\n",
       "</style>\n",
       "<table border=\"1\" class=\"dataframe\">\n",
       "  <thead>\n",
       "    <tr style=\"text-align: right;\">\n",
       "      <th></th>\n",
       "      <th>price</th>\n",
       "      <th>area</th>\n",
       "      <th>bedrooms</th>\n",
       "      <th>bathrooms</th>\n",
       "      <th>stories</th>\n",
       "      <th>mainroad</th>\n",
       "      <th>guestroom</th>\n",
       "      <th>basement</th>\n",
       "      <th>hotwaterheating</th>\n",
       "      <th>airconditioning</th>\n",
       "      <th>parking</th>\n",
       "      <th>prefarea</th>\n",
       "    </tr>\n",
       "  </thead>\n",
       "  <tbody>\n",
       "    <tr>\n",
       "      <th>454</th>\n",
       "      <td>3143000</td>\n",
       "      <td>4500</td>\n",
       "      <td>3</td>\n",
       "      <td>1</td>\n",
       "      <td>2</td>\n",
       "      <td>1</td>\n",
       "      <td>0</td>\n",
       "      <td>0</td>\n",
       "      <td>0</td>\n",
       "      <td>1</td>\n",
       "      <td>0</td>\n",
       "      <td>0</td>\n",
       "    </tr>\n",
       "    <tr>\n",
       "      <th>392</th>\n",
       "      <td>3500000</td>\n",
       "      <td>3990</td>\n",
       "      <td>3</td>\n",
       "      <td>1</td>\n",
       "      <td>2</td>\n",
       "      <td>1</td>\n",
       "      <td>0</td>\n",
       "      <td>0</td>\n",
       "      <td>0</td>\n",
       "      <td>0</td>\n",
       "      <td>0</td>\n",
       "      <td>0</td>\n",
       "    </tr>\n",
       "    <tr>\n",
       "      <th>231</th>\n",
       "      <td>4690000</td>\n",
       "      <td>4320</td>\n",
       "      <td>3</td>\n",
       "      <td>1</td>\n",
       "      <td>1</td>\n",
       "      <td>1</td>\n",
       "      <td>0</td>\n",
       "      <td>0</td>\n",
       "      <td>0</td>\n",
       "      <td>0</td>\n",
       "      <td>0</td>\n",
       "      <td>1</td>\n",
       "    </tr>\n",
       "    <tr>\n",
       "      <th>271</th>\n",
       "      <td>4340000</td>\n",
       "      <td>1905</td>\n",
       "      <td>5</td>\n",
       "      <td>1</td>\n",
       "      <td>2</td>\n",
       "      <td>0</td>\n",
       "      <td>0</td>\n",
       "      <td>1</td>\n",
       "      <td>0</td>\n",
       "      <td>0</td>\n",
       "      <td>0</td>\n",
       "      <td>0</td>\n",
       "    </tr>\n",
       "    <tr>\n",
       "      <th>250</th>\n",
       "      <td>4515000</td>\n",
       "      <td>3510</td>\n",
       "      <td>3</td>\n",
       "      <td>1</td>\n",
       "      <td>3</td>\n",
       "      <td>1</td>\n",
       "      <td>0</td>\n",
       "      <td>0</td>\n",
       "      <td>0</td>\n",
       "      <td>0</td>\n",
       "      <td>0</td>\n",
       "      <td>0</td>\n",
       "    </tr>\n",
       "  </tbody>\n",
       "</table>\n",
       "</div>"
      ],
      "text/plain": [
       "       price  area  bedrooms  bathrooms  stories  mainroad  guestroom  \\\n",
       "454  3143000  4500         3          1        2         1          0   \n",
       "392  3500000  3990         3          1        2         1          0   \n",
       "231  4690000  4320         3          1        1         1          0   \n",
       "271  4340000  1905         5          1        2         0          0   \n",
       "250  4515000  3510         3          1        3         1          0   \n",
       "\n",
       "     basement  hotwaterheating  airconditioning  parking  prefarea  \n",
       "454         0                0                1        0         0  \n",
       "392         0                0                0        0         0  \n",
       "231         0                0                0        0         1  \n",
       "271         1                0                0        0         0  \n",
       "250         0                0                0        0         0  "
      ]
     },
     "execution_count": 13,
     "metadata": {},
     "output_type": "execute_result"
    }
   ],
   "source": [
    "model2_vars = ['price','area', 'bedrooms', 'bathrooms', 'stories', 'mainroad', 'guestroom', 'basement', 'hotwaterheating', 'airconditioning', 'parking', 'prefarea']\n",
    "model2_train = trainingSet[model2_vars]\n",
    "model2_test = testSet[model2_vars]\n",
    "model2_train_length = len(model2_train)\n",
    "print(model2_train_length)\n",
    "model2_test_length = len(model2_test)\n",
    "print(model2_test_length)\n",
    "model2_train.head()"
   ]
  },
  {
   "cell_type": "code",
   "execution_count": 14,
   "id": "b37ecf89",
   "metadata": {},
   "outputs": [],
   "source": [
    "model2_Y_train = model2_train.values[:, 0] #price\n",
    "\n",
    "model2_X0_train = np.ones((model2_train_length, 1))\n",
    "model2_X1_train = model2_train.values[:, 1] #area\n",
    "model2_X2_train = model2_train.values[:, 2] #bedrooms\n",
    "model2_X3_train = model2_train.values[:, 3] #bathrooms\n",
    "model2_X4_train = model2_train.values[:, 4] #stories\n",
    "model2_X5_train = model2_train.values[:, 5] #mainroad\n",
    "model2_X6_train = model2_train.values[:, 6] #guestroom\n",
    "model2_X7_train = model2_train.values[:, 7] #basement\n",
    "model2_X8_train = model2_train.values[:, 8] #hotwaterheating\n",
    "model2_X9_train = model2_train.values[:, 9] #airconditioning\n",
    "model2_X10_train = model2_train.values[:, 10] #parking\n",
    "model2_X11_train = model2_train.values[:, 11] #prefarea\n",
    "\n",
    "model2_Y_test = model2_test.values[:, 5] #price\n",
    "\n",
    "\n",
    "model2_X0_test = np.ones((model2_test_length, 1))\n",
    "model2_X1_test = model2_test.values[:, 1] #area\n",
    "model2_X2_test = model2_test.values[:, 2] #bedrooms\n",
    "model2_X3_test = model2_test.values[:, 3] #bathrooms\n",
    "model2_X4_test = model2_test.values[:, 4] #stories\n",
    "model2_X5_test = model2_test.values[:, 5] #mainroad\n",
    "model2_X6_test = model2_test.values[:, 6] #guestroom\n",
    "model2_X7_test = model2_test.values[:, 7] #basement\n",
    "model2_X8_test = model2_test.values[:, 8] #hotwaterheating\n",
    "model2_X9_test = model2_test.values[:, 9] #airconditioning\n",
    "model2_X10_test = model2_test.values[:, 10] #parking\n",
    "model2_X11_test = model2_test.values[:, 11] #prefarea"
   ]
  },
  {
   "cell_type": "code",
   "execution_count": 15,
   "id": "abb448a5",
   "metadata": {},
   "outputs": [
    {
     "name": "stdout",
     "output_type": "stream",
     "text": [
      "[[1.000e+00 4.500e+03 3.000e+00 1.000e+00 2.000e+00 1.000e+00 0.000e+00\n",
      "  0.000e+00 0.000e+00 1.000e+00 0.000e+00 0.000e+00]\n",
      " [1.000e+00 3.990e+03 3.000e+00 1.000e+00 2.000e+00 1.000e+00 0.000e+00\n",
      "  0.000e+00 0.000e+00 0.000e+00 0.000e+00 0.000e+00]\n",
      " [1.000e+00 4.320e+03 3.000e+00 1.000e+00 1.000e+00 1.000e+00 0.000e+00\n",
      "  0.000e+00 0.000e+00 0.000e+00 0.000e+00 1.000e+00]\n",
      " [1.000e+00 1.905e+03 5.000e+00 1.000e+00 2.000e+00 0.000e+00 0.000e+00\n",
      "  1.000e+00 0.000e+00 0.000e+00 0.000e+00 0.000e+00]\n",
      " [1.000e+00 3.510e+03 3.000e+00 1.000e+00 3.000e+00 1.000e+00 0.000e+00\n",
      "  0.000e+00 0.000e+00 0.000e+00 0.000e+00 0.000e+00]]\n",
      "[[1.00e+00 4.00e+03 3.00e+00 1.00e+00 2.00e+00 1.00e+00 0.00e+00 0.00e+00\n",
      "  0.00e+00 0.00e+00 1.00e+00 0.00e+00]\n",
      " [1.00e+00 9.62e+03 3.00e+00 1.00e+00 1.00e+00 1.00e+00 0.00e+00 1.00e+00\n",
      "  0.00e+00 0.00e+00 2.00e+00 1.00e+00]\n",
      " [1.00e+00 3.46e+03 4.00e+00 1.00e+00 2.00e+00 1.00e+00 0.00e+00 0.00e+00\n",
      "  0.00e+00 1.00e+00 0.00e+00 0.00e+00]\n",
      " [1.00e+00 1.32e+04 2.00e+00 1.00e+00 1.00e+00 1.00e+00 0.00e+00 1.00e+00\n",
      "  1.00e+00 0.00e+00 1.00e+00 0.00e+00]\n",
      " [1.00e+00 3.66e+03 4.00e+00 1.00e+00 2.00e+00 0.00e+00 0.00e+00 0.00e+00\n",
      "  0.00e+00 0.00e+00 0.00e+00 0.00e+00]]\n"
     ]
    }
   ],
   "source": [
    "model2_X1_train_1 = model2_X1_train.reshape((model2_train_length, 1))\n",
    "model2_X2_train_1 = model2_X2_train.reshape((model2_train_length, 1))\n",
    "model2_X3_train_1 = model2_X3_train.reshape((model2_train_length, 1))\n",
    "model2_X4_train_1 = model2_X4_train.reshape((model2_train_length, 1))\n",
    "model2_X5_train_1 = model2_X5_train.reshape((model2_train_length, 1))\n",
    "model2_X6_train_1 = model2_X6_train.reshape((model2_train_length, 1))\n",
    "model2_X7_train_1 = model2_X7_train.reshape((model2_train_length, 1))\n",
    "model2_X8_train_1 = model2_X8_train.reshape((model2_train_length, 1))\n",
    "model2_X9_train_1 = model2_X9_train.reshape((model2_train_length, 1))\n",
    "model2_X10_train_1 = model2_X10_train.reshape((model2_train_length, 1))\n",
    "model2_X11_train_1 = model2_X11_train.reshape((model2_train_length, 1))\n",
    "\n",
    "model2_X1_test_1 = model2_X1_test.reshape((model2_test_length, 1))\n",
    "model2_X2_test_1 = model2_X2_test.reshape((model2_test_length, 1))\n",
    "model2_X3_test_1 = model2_X3_test.reshape((model2_test_length, 1))\n",
    "model2_X4_test_1 = model2_X4_test.reshape((model2_test_length, 1))\n",
    "model2_X5_test_1 = model2_X5_test.reshape((model2_test_length, 1))\n",
    "model2_X6_test_1 = model2_X6_test.reshape((model2_test_length, 1))\n",
    "model2_X7_test_1 = model2_X7_test.reshape((model2_test_length, 1))\n",
    "model2_X8_test_1 = model2_X8_test.reshape((model2_test_length, 1))\n",
    "model2_X9_test_1 = model2_X9_test.reshape((model2_test_length, 1))\n",
    "model2_X10_test_1 = model2_X10_test.reshape((model2_test_length, 1))\n",
    "model2_X11_test_1 = model2_X11_test.reshape((model2_test_length, 1))\n",
    "\n",
    "model2_X_train = np.hstack((model2_X0_train, model2_X1_train_1, model2_X2_train_1, model2_X3_train_1, model2_X4_train_1, model2_X5_train_1, model2_X6_train_1, model2_X7_train_1, model2_X8_train_1, model2_X9_train_1, model2_X10_train_1, model2_X11_train_1))\n",
    "model2_X_test = np.hstack((model2_X0_test, model2_X1_test_1, model2_X2_test_1, model2_X3_test_1, model2_X4_test_1, model2_X5_test_1, model2_X6_test_1, model2_X7_test_1, model2_X8_test_1, model2_X9_test_1, model2_X10_test_1, model2_X11_test_1))\n",
    "\n",
    "print(model2_X_train[:5])\n",
    "print(model2_X_test[:5])"
   ]
  },
  {
   "cell_type": "code",
   "execution_count": 16,
   "id": "c2d83e69",
   "metadata": {},
   "outputs": [],
   "source": [
    "model2_theta = np.zeros(12)\n",
    "model2_alpha = 0.0000000001\n",
    "model2_iterations = 1000"
   ]
  },
  {
   "cell_type": "code",
   "execution_count": 17,
   "id": "a428fbfb",
   "metadata": {},
   "outputs": [
    {
     "name": "stdout",
     "output_type": "stream",
     "text": [
      "13118565517688.451\n"
     ]
    }
   ],
   "source": [
    "model2_initial_training_cost = compute_cost(model2_X_train, model2_Y_train, model2_theta)\n",
    "print(model2_initial_training_cost)"
   ]
  },
  {
   "cell_type": "code",
   "execution_count": 18,
   "id": "ce143d2b",
   "metadata": {},
   "outputs": [
    {
     "name": "stdout",
     "output_type": "stream",
     "text": [
      "[1.30508916e+13 1.29836171e+13 1.29167396e+13 1.28502568e+13\n",
      " 1.27841664e+13]\n",
      "Model 2 Final Training Set Cost:  1682418141241.2002\n"
     ]
    }
   ],
   "source": [
    "model2_theta, model2_cost_history, model2_testLoss_history = gradient_descent(model2_X_train, model2_Y_train, model2_X_test, model2_Y_test, model2_theta, model2_alpha, model2_iterations)\n",
    "print(model2_cost_history[:5])\n",
    "model2_final_training_cost = compute_cost(model2_X_train, model2_Y_train, model2_theta)\n",
    "print('Model 2 Final Training Set Cost: ', model2_final_training_cost)"
   ]
  },
  {
   "cell_type": "code",
   "execution_count": 19,
   "id": "e8c5cc9a",
   "metadata": {},
   "outputs": [
    {
     "data": {
      "text/plain": [
       "<matplotlib.legend.Legend at 0x239f08fcf70>"
      ]
     },
     "execution_count": 19,
     "metadata": {},
     "output_type": "execute_result"
    },
    {
     "data": {
      "image/png": "[encoded data removed]",
      "text/plain": [
       "<Figure size 432x288 with 1 Axes>"
      ]
     },
     "metadata": {
      "needs_background": "light"
     },
     "output_type": "display_data"
    }
   ],
   "source": [
    "plt.plot(range(1, model2_iterations + 1), model2_cost_history, color = 'blue', label = 'Training Loss')\n",
    "plt.plot(range(1, model2_iterations + 1), model2_testLoss_history, color = 'red', label = 'Validation Loss')\n",
    "plt.grid()\n",
    "plt.xlabel(\"Number of iterations\")\n",
    "plt.ylabel(\"Cost\")\n",
    "plt.title(\"Convergence of gradient descent\")\n",
    "plt.legend()"
   ]
  },
  {
   "cell_type": "markdown",
   "id": "e3654e23",
   "metadata": {},
   "source": [
    "## Question 2a\n",
    "For question 2a the same model as 1a will be used. However, this time input normalization and standarization will be applied seperatly to the input datasets. Both the training and testing sets will receive the same input normalization and standardization.\n",
    "\n",
    "To start with the dataset used for question 1a is copied into 2 matrices. One that will be normalized and one that will be standardized.\n",
    "\n",
    "Note: The matrix being copied contains all X values as well as Y in one variable."
   ]
  },
  {
   "cell_type": "code",
   "execution_count": 20,
   "id": "ea69a934",
   "metadata": {},
   "outputs": [
    {
     "name": "stdout",
     "output_type": "stream",
     "text": [
      "     area  bedrooms  bathrooms  stories  parking    price\n",
      "454  4500         3          1        2        0  3143000\n",
      "392  3990         3          1        2        0  3500000\n",
      "231  4320         3          1        1        0  4690000\n",
      "271  1905         5          1        2        0  4340000\n",
      "250  3510         3          1        3        0  4515000\n",
      "381\n",
      "164\n"
     ]
    }
   ],
   "source": [
    "import warnings\n",
    "warnings.filterwarnings('ignore')\n",
    "from sklearn.preprocessing import MinMaxScaler, StandardScaler\n",
    "\n",
    "model3_vars = model1_vars\n",
    "\n",
    "model3_stand_train = model1_train\n",
    "print(model3_stand_train[:5])\n",
    "model3_norm_train = model1_train\n",
    "\n",
    "model3_stand_test = model1_test\n",
    "model3_norm_test = model1_test\n",
    "\n",
    "model3_trainLength = len(model3_stand_train)\n",
    "print(model3_trainLength)\n",
    "model3_testLength = len(model3_stand_test)\n",
    "print(model3_testLength)"
   ]
  },
  {
   "cell_type": "markdown",
   "id": "e9dd8e8f",
   "metadata": {},
   "source": [
    "### Normalization\n",
    "The data was first normalized using MinMax Normalization. Using this technique the data is scaled so all values fall within 0 and 1."
   ]
  },
  {
   "cell_type": "code",
   "execution_count": 21,
   "id": "7a68b50e",
   "metadata": {},
   "outputs": [
    {
     "name": "stdout",
     "output_type": "stream",
     "text": [
      "         area  bedrooms  bathrooms   stories   parking     price\n",
      "454  0.193548      0.50        0.0  0.333333  0.000000  0.120606\n",
      "392  0.156495      0.50        0.0  0.333333  0.000000  0.151515\n",
      "231  0.180471      0.50        0.0  0.000000  0.000000  0.254545\n",
      "271  0.005013      1.00        0.0  0.333333  0.000000  0.224242\n",
      "250  0.121622      0.50        0.0  0.666667  0.000000  0.239394\n",
      "541  0.040976      0.50        0.0  0.000000  0.000000  0.001485\n",
      "461  0.226969      0.25        0.0  0.000000  0.000000  0.115152\n",
      "124  0.340671      0.50        0.5  1.000000  0.333333  0.363636\n",
      "154  0.131793      0.50        0.5  0.333333  0.666667  0.327273\n",
      "451  0.357018      0.25        0.0  0.000000  0.000000  0.121212\n",
      "         area  bedrooms  bathrooms   stories   parking     price\n",
      "239  0.161512       0.4   0.000000  0.333333  0.333333  0.270000\n",
      "113  0.547766       0.4   0.000000  0.000000  0.666667  0.412667\n",
      "325  0.124399       0.6   0.000000  0.333333  0.000000  0.215000\n",
      "66   0.793814       0.2   0.000000  0.000000  0.333333  0.493333\n",
      "479  0.138144       0.6   0.000000  0.333333  0.000000  0.113333\n",
      "103  0.323024       0.4   0.333333  0.666667  0.000000  0.423333\n",
      "386  0.151203       0.4   0.000000  0.000000  0.666667  0.170000\n",
      "480  0.125773       0.4   0.000000  0.333333  0.333333  0.113333\n",
      "400  0.127973       0.2   0.000000  0.000000  0.333333  0.166667\n",
      "37   0.505155       0.6   0.333333  1.000000  0.666667  0.593333\n",
      "[[ 0.05656357  0.6         0.83333333  0.33333333  0.66666667 -0.13809524]]\n",
      "[[1.62000000e+04 6.00000000e+00 4.00000000e+00 4.00000000e+00\n",
      "  3.00000000e+00 1.14823796e+07]]\n"
     ]
    }
   ],
   "source": [
    "scaler = MinMaxScaler()\n",
    "model3_norm_train[model3_vars] = scaler.fit_transform(model3_norm_train[model3_vars])\n",
    "print(model3_norm_train.head(10))\n",
    "\n",
    "model3_norm_test[model3_vars] = scaler.fit_transform(model3_norm_test[model3_vars])\n",
    "\n",
    "print(model3_norm_test.head(10))\n",
    "print(scaler.transform([[2473, 4, 3.5, 2, 2, 300000]]))\n",
    "print(scaler.inverse_transform([[1, 1, 1, 1, 1, 0.926893299]]))"
   ]
  },
  {
   "cell_type": "markdown",
   "id": "eaed7dab",
   "metadata": {},
   "source": [
    "As with questions 1a and 1b the data is then split and stripped down to only the values."
   ]
  },
  {
   "cell_type": "code",
   "execution_count": 22,
   "id": "c2642471",
   "metadata": {},
   "outputs": [
    {
     "name": "stdout",
     "output_type": "stream",
     "text": [
      "[[1.         0.19354839 0.5        0.         0.33333333 0.        ]\n",
      " [1.         0.1564952  0.5        0.         0.33333333 0.        ]\n",
      " [1.         0.18047079 0.5        0.         0.         0.        ]\n",
      " [1.         0.00501308 1.         0.         0.33333333 0.        ]\n",
      " [1.         0.12162162 0.5        0.         0.66666667 0.        ]]\n",
      "[[1.         0.16151203 0.4        0.         0.33333333 0.33333333]\n",
      " [1.         0.54776632 0.4        0.         0.         0.66666667]\n",
      " [1.         0.12439863 0.6        0.         0.33333333 0.        ]\n",
      " [1.         0.79381443 0.2        0.         0.         0.33333333]\n",
      " [1.         0.13814433 0.6        0.         0.33333333 0.        ]]\n"
     ]
    }
   ],
   "source": [
    "model3_norm_X0_train = np.ones((model3_trainLength, 1))\n",
    "model3_norm_X1_train = model3_norm_train.values[:, 0] #area\n",
    "model3_norm_X2_train = model3_norm_train.values[:, 1] #bedrooms\n",
    "model3_norm_X3_train = model3_norm_train.values[:, 2] #bathrooms\n",
    "model3_norm_X4_train = model3_norm_train.values[:, 3] #stories\n",
    "model3_norm_X5_train = model3_norm_train.values[:, 4] #parking\n",
    "model3_norm_Y_train = model3_norm_train.values[:, 5] #price\n",
    "\n",
    "model3_norm_X0_test = np.ones((model3_testLength, 1))\n",
    "model3_norm_X1_test = model3_norm_test.values[:, 0] #area\n",
    "model3_norm_X2_test = model3_norm_test.values[:, 1] #bedrooms\n",
    "model3_norm_X3_test = model3_norm_test.values[:, 2] #bathrooms\n",
    "model3_norm_X4_test = model3_norm_test.values[:, 3] #stories\n",
    "model3_norm_X5_test = model3_norm_test.values[:, 4] #parking\n",
    "model3_norm_Y_test = model3_norm_test.values[:, 5] #price\n",
    "\n",
    "model3_norm_X1_train_1 = model3_norm_X1_train.reshape((model3_trainLength, 1))\n",
    "model3_norm_X2_train_1 = model3_norm_X2_train.reshape((model3_trainLength, 1))\n",
    "model3_norm_X3_train_1 = model3_norm_X3_train.reshape((model3_trainLength, 1))\n",
    "model3_norm_X4_train_1 = model3_norm_X4_train.reshape((model3_trainLength, 1))\n",
    "model3_norm_X5_train_1 = model3_norm_X5_train.reshape((model3_trainLength, 1))\n",
    "\n",
    "model3_norm_X1_test_1 = model3_norm_X1_test.reshape((model3_testLength, 1))\n",
    "model3_norm_X2_test_1 = model3_norm_X2_test.reshape((model3_testLength, 1))\n",
    "model3_norm_X3_test_1 = model3_norm_X3_test.reshape((model3_testLength, 1))\n",
    "model3_norm_X4_test_1 = model3_norm_X4_test.reshape((model3_testLength, 1))\n",
    "model3_norm_X5_test_1 = model3_norm_X5_test.reshape((model3_testLength, 1))\n",
    "\n",
    "model3_norm_X_train = np.hstack((model3_norm_X0_train, model3_norm_X1_train_1, model3_norm_X2_train_1, model3_norm_X3_train_1, model3_norm_X4_train_1, model3_norm_X5_train_1))\n",
    "model3_norm_X_test = np.hstack((model3_norm_X0_test, model3_norm_X1_test_1, model3_norm_X2_test_1, model3_norm_X3_test_1, model3_norm_X4_test_1, model3_norm_X5_test_1))\n",
    "\n",
    "print(model3_norm_X_train[:5])\n",
    "print(model3_norm_X_test[:5])"
   ]
  },
  {
   "cell_type": "markdown",
   "id": "52d72d6a",
   "metadata": {},
   "source": [
    "The data was then run through the gradient descent algorithm exactly the same was as in 1a"
   ]
  },
  {
   "cell_type": "code",
   "execution_count": 23,
   "id": "463fa667",
   "metadata": {},
   "outputs": [
    {
     "name": "stdout",
     "output_type": "stream",
     "text": [
      "0.04726753099662817\n",
      "[0.0461728  0.0451099  0.0440779  0.04307589 0.042103  ]\n",
      "Model 1 Final Training Set Cost:  0.009228390540192841\n",
      "Final theta =  [0.15724769 0.05680007 0.09040642 0.05119613 0.06876144 0.06157817]\n"
     ]
    }
   ],
   "source": [
    "model3_norm_theta = np.zeros(6)\n",
    "model3_norm_alpha = 0.01\n",
    "model3_norm_iterations = 200\n",
    "\n",
    "model3_norm_initial_training_cost = compute_cost(model3_norm_X_train, model3_norm_Y_train, model3_norm_theta)\n",
    "print(model3_norm_initial_training_cost)\n",
    "\n",
    "model3_norm_theta, model3_norm_cost_history, model3_norm_testLoss_history = gradient_descent(model3_norm_X_train, model3_norm_Y_train, model3_norm_X_test, model3_norm_Y_test, model3_norm_theta, model3_norm_alpha, model3_norm_iterations)\n",
    "print(model3_norm_cost_history[:5])\n",
    "model3_norm_final_training_cost = compute_cost(model3_norm_X_train, model3_norm_Y_train, model3_norm_theta)\n",
    "print('Model 1 Final Training Set Cost: ', model3_norm_final_training_cost)\n",
    "print('Final theta = ', model3_norm_theta)"
   ]
  },
  {
   "cell_type": "code",
   "execution_count": 24,
   "id": "ed734140",
   "metadata": {},
   "outputs": [
    {
     "data": {
      "text/plain": [
       "<matplotlib.legend.Legend at 0x239f0972c70>"
      ]
     },
     "execution_count": 24,
     "metadata": {},
     "output_type": "execute_result"
    },
    {
     "data": {
      "image/png": "[encoded data removed]",
      "text/plain": [
       "<Figure size 432x288 with 1 Axes>"
      ]
     },
     "metadata": {
      "needs_background": "light"
     },
     "output_type": "display_data"
    }
   ],
   "source": [
    "plt.plot(range(1, model3_norm_iterations + 1), model3_norm_cost_history, color = 'blue', label = 'Training Loss')\n",
    "plt.plot(range(1, model3_norm_iterations + 1), model3_norm_testLoss_history, color = 'red', label = 'Validation Loss')\n",
    "plt.grid()\n",
    "plt.xlabel(\"Number of iterations\")\n",
    "plt.ylabel(\"Cost\")\n",
    "plt.title(\"Convergence of gradient descent\")\n",
    "plt.legend()"
   ]
  },
  {
   "cell_type": "markdown",
   "id": "0a3bc083",
   "metadata": {},
   "source": [
    "### Standardization\n",
    "The data was then Standardized. The goal with standardization is to scale the data to achieve a mean of zero"
   ]
  },
  {
   "cell_type": "code",
   "execution_count": 25,
   "id": "aa609d82",
   "metadata": {},
   "outputs": [
    {
     "name": "stdout",
     "output_type": "stream",
     "text": [
      "         area  bedrooms  bathrooms   stories   parking     price\n",
      "454 -0.286366  0.073764  -0.581230  0.207401 -0.822960 -0.868394\n",
      "392 -0.544762  0.073764  -0.581230  0.207401 -0.822960 -0.677628\n",
      "231 -0.377564  0.073764  -0.581230 -0.937813 -0.822960 -0.041744\n",
      "271 -1.601145  2.884176  -0.581230  0.207401 -0.822960 -0.228768\n",
      "250 -0.787958  0.073764  -0.581230  1.352614 -0.822960 -0.135256\n",
      "541 -1.350349  0.073764  -0.581230 -0.937813 -0.822960 -1.603589\n",
      "461 -0.053303 -1.331442  -0.581230 -0.937813 -0.822960 -0.902058\n",
      "124  0.739618  0.073764   1.488383  2.497828  0.321375  0.631546\n",
      "154 -0.717026  0.073764   1.488383  0.207401  1.465710  0.407116\n",
      "451  0.853616 -1.331442  -0.581230 -0.937813 -0.822960 -0.864653\n",
      "         area  bedrooms  bathrooms   stories   parking     price\n",
      "239 -0.528409 -0.007694  -0.550215  0.265241  0.442615 -0.095841\n",
      "113  1.673306 -0.007694  -0.550215 -0.910424  1.652428  0.708470\n",
      "325 -0.739961  1.254180  -0.550215  0.265241 -0.767199 -0.405914\n",
      "66   3.075822 -1.269569  -0.550215 -0.910424  0.442615  1.163244\n",
      "479 -0.661608  1.254180  -0.550215  0.265241 -0.767199 -0.979079\n",
      "103  0.392237 -0.007694   1.291320  1.440906 -0.767199  0.768605\n",
      "386 -0.587173 -0.007694  -0.550215 -0.910424  1.652428 -0.659610\n",
      "480 -0.732126 -0.007694  -0.550215  0.265241  0.442615 -0.979079\n",
      "400 -0.719590 -1.269569  -0.550215 -0.910424  0.442615 -0.678402\n",
      "37   1.430412  1.254180   1.291320  2.616571  1.652428  1.727013\n"
     ]
    }
   ],
   "source": [
    "scaler = StandardScaler()\n",
    "model3_stand_train[model3_vars] = scaler.fit_transform(model3_stand_train[model3_vars])\n",
    "print(model3_stand_train.head(10))\n",
    "\n",
    "model3_stand_test[model3_vars] = scaler.fit_transform(model3_stand_test[model3_vars])\n",
    "print(model3_stand_test.head(10))"
   ]
  },
  {
   "cell_type": "code",
   "execution_count": 26,
   "id": "b11b260e",
   "metadata": {},
   "outputs": [
    {
     "name": "stdout",
     "output_type": "stream",
     "text": [
      "[[ 1.         -0.28636589  0.07376409 -0.58122996  0.20740088 -0.82296013]\n",
      " [ 1.         -0.54476182  0.07376409 -0.58122996  0.20740088 -0.82296013]\n",
      " [ 1.         -0.37756445  0.07376409 -0.58122996 -0.93781267 -0.82296013]\n",
      " [ 1.         -1.60114518  2.88417578 -0.58122996  0.20740088 -0.82296013]\n",
      " [ 1.         -0.78795799  0.07376409 -0.58122996  1.35261443 -0.82296013]]\n",
      "[[ 1.         -0.52840866 -0.00769436 -0.55021459  0.26524149  0.44261462]\n",
      " [ 1.          1.67330604 -0.00769436 -0.55021459 -0.91042351  1.65242793]\n",
      " [ 1.         -0.73996132  1.25418015 -0.55021459  0.26524149 -0.76719868]\n",
      " [ 1.          3.07582182 -1.26956887 -0.55021459 -0.91042351  0.44261462]\n",
      " [ 1.         -0.66160849  1.25418015 -0.55021459  0.26524149 -0.76719868]]\n"
     ]
    }
   ],
   "source": [
    "model3_stand_X0_train = np.ones((model3_trainLength, 1))\n",
    "model3_stand_X1_train = model3_stand_train.values[:, 0] #area\n",
    "model3_stand_X2_train = model3_stand_train.values[:, 1] #bedrooms\n",
    "model3_stand_X3_train = model3_stand_train.values[:, 2] #bathrooms\n",
    "model3_stand_X4_train = model3_stand_train.values[:, 3] #stories\n",
    "model3_stand_X5_train = model3_stand_train.values[:, 4] #parking\n",
    "model3_stand_Y_train = model3_stand_train.values[:, 5] #price\n",
    "\n",
    "model3_stand_X0_test = np.ones((model3_testLength, 1))\n",
    "model3_stand_X1_test = model3_stand_test.values[:, 0] #area\n",
    "model3_stand_X2_test = model3_stand_test.values[:, 1] #bedrooms\n",
    "model3_stand_X3_test = model3_stand_test.values[:, 2] #bathrooms\n",
    "model3_stand_X4_test = model3_stand_test.values[:, 3] #stories\n",
    "model3_stand_X5_test = model3_stand_test.values[:, 4] #parking\n",
    "model3_stand_Y_test = model3_stand_test.values[:, 5] #price\n",
    "\n",
    "model3_stand_X1_train_1 = model3_stand_X1_train.reshape((model3_trainLength, 1))\n",
    "model3_stand_X2_train_1 = model3_stand_X2_train.reshape((model3_trainLength, 1))\n",
    "model3_stand_X3_train_1 = model3_stand_X3_train.reshape((model3_trainLength, 1))\n",
    "model3_stand_X4_train_1 = model3_stand_X4_train.reshape((model3_trainLength, 1))\n",
    "model3_stand_X5_train_1 = model3_stand_X5_train.reshape((model3_trainLength, 1))\n",
    "\n",
    "model3_stand_X1_test_1 = model3_stand_X1_test.reshape((model3_testLength, 1))\n",
    "model3_stand_X2_test_1 = model3_stand_X2_test.reshape((model3_testLength, 1))\n",
    "model3_stand_X3_test_1 = model3_stand_X3_test.reshape((model3_testLength, 1))\n",
    "model3_stand_X4_test_1 = model3_stand_X4_test.reshape((model3_testLength, 1))\n",
    "model3_stand_X5_test_1 = model3_stand_X5_test.reshape((model3_testLength, 1))\n",
    "\n",
    "model3_stand_X_train = np.hstack((model3_stand_X0_train, model3_stand_X1_train_1, model3_stand_X2_train_1, model3_stand_X3_train_1, model3_stand_X4_train_1, model3_stand_X5_train_1))\n",
    "model3_stand_X_test = np.hstack((model3_stand_X0_test, model3_stand_X1_test_1, model3_stand_X2_test_1, model3_stand_X3_test_1, model3_stand_X4_test_1, model3_stand_X5_test_1))\n",
    "\n",
    "print(model3_stand_X_train[:5])\n",
    "print(model3_stand_X_test[:5])"
   ]
  },
  {
   "cell_type": "code",
   "execution_count": 27,
   "id": "db014325",
   "metadata": {},
   "outputs": [
    {
     "name": "stdout",
     "output_type": "stream",
     "text": [
      "0.5\n",
      "[0.49079323 0.48191797 0.47336212 0.46511402 0.45716242]\n",
      "Model 1 Final Training Set Cost:  0.23725486070682103\n",
      "Final theta =  [8.22322671e-17 3.39616121e-01 1.37824332e-01 2.73297227e-01\n",
      " 2.17907414e-01 1.68372458e-01]\n"
     ]
    }
   ],
   "source": [
    "model3_stand_theta = np.zeros(6)\n",
    "model3_stand_alpha = 0.01\n",
    "model3_stand_iterations = 200\n",
    "\n",
    "model3_stand_initial_training_cost = compute_cost(model3_stand_X_train, model3_stand_Y_train, model3_stand_theta)\n",
    "print(model3_stand_initial_training_cost)\n",
    "\n",
    "model3_stand_theta, model3_stand_cost_history, model3_stand_testLoss_history = gradient_descent(model3_stand_X_train, model3_stand_Y_train, model3_stand_X_test, model3_stand_Y_test, model3_stand_theta, model3_stand_alpha, model3_stand_iterations)\n",
    "print(model3_stand_cost_history[:5])\n",
    "model3_stand_final_training_cost = compute_cost(model3_stand_X_train, model3_stand_Y_train, model3_stand_theta)\n",
    "print('Model 1 Final Training Set Cost: ', model3_stand_final_training_cost)\n",
    "print('Final theta = ', model3_stand_theta)"
   ]
  },
  {
   "cell_type": "code",
   "execution_count": 28,
   "id": "08e8ddbb",
   "metadata": {},
   "outputs": [
    {
     "data": {
      "text/plain": [
       "<matplotlib.legend.Legend at 0x239f09e7ee0>"
      ]
     },
     "execution_count": 28,
     "metadata": {},
     "output_type": "execute_result"
    },
    {
     "data": {
      "image/png": "[encoded data removed]",
      "text/plain": [
       "<Figure size 432x288 with 1 Axes>"
      ]
     },
     "metadata": {
      "needs_background": "light"
     },
     "output_type": "display_data"
    }
   ],
   "source": [
    "plt.plot(range(1, model3_stand_iterations + 1), model3_stand_cost_history, color = 'blue', label = 'Training Loss')\n",
    "plt.plot(range(1, model3_stand_iterations + 1), model3_stand_testLoss_history, color = 'red', label = 'Validation Loss')\n",
    "plt.grid()\n",
    "plt.xlabel(\"Number of iterations\")\n",
    "plt.ylabel(\"Cost\")\n",
    "plt.title(\"Convergence of gradient descent\")\n",
    "plt.legend()"
   ]
  },
  {
   "cell_type": "markdown",
   "id": "58712c3d",
   "metadata": {},
   "source": [
    "## Question 2b\n",
    "For question 2b the same model as 1b will be used. However, this time input normalization and standarization will be applied seperatly to the input datasets. Both the training and testing sets will receive the same input normalization and standardization.\n",
    "\n",
    "To start with the dataset used for question 1b is copied into 2 matrices. One that will be normalized and one that will be standardized.\n",
    "\n",
    "Note: The matrix being copied contains all X values as well as Y in one variable."
   ]
  },
  {
   "cell_type": "code",
   "execution_count": 29,
   "id": "a754ae6b",
   "metadata": {},
   "outputs": [
    {
     "name": "stdout",
     "output_type": "stream",
     "text": [
      "       price  area  bedrooms  bathrooms  stories  mainroad  guestroom  \\\n",
      "454  3143000  4500         3          1        2         1          0   \n",
      "392  3500000  3990         3          1        2         1          0   \n",
      "231  4690000  4320         3          1        1         1          0   \n",
      "271  4340000  1905         5          1        2         0          0   \n",
      "250  4515000  3510         3          1        3         1          0   \n",
      "\n",
      "     basement  hotwaterheating  airconditioning  parking  prefarea  \n",
      "454         0                0                1        0         0  \n",
      "392         0                0                0        0         0  \n",
      "231         0                0                0        0         1  \n",
      "271         1                0                0        0         0  \n",
      "250         0                0                0        0         0  \n",
      "381\n",
      "164\n"
     ]
    }
   ],
   "source": [
    "model4_vars = model2_vars\n",
    "\n",
    "model4_stand_train = model2_train\n",
    "print(model4_stand_train[:5])\n",
    "model4_norm_train = model2_train\n",
    "\n",
    "model4_stand_test = model2_test\n",
    "model4_norm_test = model2_test\n",
    "\n",
    "model4_trainLength = len(model4_stand_train)\n",
    "print(model4_trainLength)\n",
    "model4_testLength = len(model4_stand_test)\n",
    "print(model4_testLength)"
   ]
  },
  {
   "cell_type": "markdown",
   "id": "57a27cb0",
   "metadata": {},
   "source": [
    "### Normalization\n",
    "The data was first normalized using MinMax Normalization. Using this technique the data is scaled so all values fall within 0 and 1. This is done in exactly the same way as in Question 2a."
   ]
  },
  {
   "cell_type": "code",
   "execution_count": 30,
   "id": "4cbe986d",
   "metadata": {},
   "outputs": [
    {
     "name": "stdout",
     "output_type": "stream",
     "text": [
      "        price      area  bedrooms  bathrooms   stories  mainroad  guestroom  \\\n",
      "454  0.120606  0.193548      0.50        0.0  0.333333       1.0        0.0   \n",
      "392  0.151515  0.156495      0.50        0.0  0.333333       1.0        0.0   \n",
      "231  0.254545  0.180471      0.50        0.0  0.000000       1.0        0.0   \n",
      "271  0.224242  0.005013      1.00        0.0  0.333333       0.0        0.0   \n",
      "250  0.239394  0.121622      0.50        0.0  0.666667       1.0        0.0   \n",
      "541  0.001485  0.040976      0.50        0.0  0.000000       0.0        0.0   \n",
      "461  0.115152  0.226969      0.25        0.0  0.000000       1.0        0.0   \n",
      "124  0.363636  0.340671      0.50        0.5  1.000000       1.0        0.0   \n",
      "154  0.327273  0.131793      0.50        0.5  0.333333       1.0        0.0   \n",
      "451  0.121212  0.357018      0.25        0.0  0.000000       1.0        0.0   \n",
      "\n",
      "     basement  hotwaterheating  airconditioning   parking  prefarea  \n",
      "454       0.0              0.0              1.0  0.000000       0.0  \n",
      "392       0.0              0.0              0.0  0.000000       0.0  \n",
      "231       0.0              0.0              0.0  0.000000       1.0  \n",
      "271       1.0              0.0              0.0  0.000000       0.0  \n",
      "250       0.0              0.0              0.0  0.000000       0.0  \n",
      "541       0.0              0.0              0.0  0.000000       0.0  \n",
      "461       1.0              0.0              1.0  0.000000       0.0  \n",
      "124       0.0              0.0              0.0  0.333333       0.0  \n",
      "154       0.0              0.0              0.0  0.666667       0.0  \n",
      "451       0.0              0.0              0.0  0.000000       0.0  \n",
      "        price      area  bedrooms  bathrooms   stories  mainroad  guestroom  \\\n",
      "239  0.270000  0.161512       0.4   0.000000  0.333333       1.0        0.0   \n",
      "113  0.412667  0.547766       0.4   0.000000  0.000000       1.0        0.0   \n",
      "325  0.215000  0.124399       0.6   0.000000  0.333333       1.0        0.0   \n",
      "66   0.493333  0.793814       0.2   0.000000  0.000000       1.0        0.0   \n",
      "479  0.113333  0.138144       0.6   0.000000  0.333333       0.0        0.0   \n",
      "103  0.423333  0.323024       0.4   0.333333  0.666667       1.0        1.0   \n",
      "386  0.170000  0.151203       0.4   0.000000  0.000000       1.0        0.0   \n",
      "480  0.113333  0.125773       0.4   0.000000  0.333333       0.0        0.0   \n",
      "400  0.166667  0.127973       0.2   0.000000  0.000000       1.0        0.0   \n",
      "37   0.593333  0.505155       0.6   0.333333  1.000000       1.0        0.0   \n",
      "\n",
      "     basement  hotwaterheating  airconditioning   parking  prefarea  \n",
      "239       0.0              0.0              0.0  0.333333       0.0  \n",
      "113       1.0              0.0              0.0  0.666667       1.0  \n",
      "325       0.0              0.0              1.0  0.000000       0.0  \n",
      "66        1.0              1.0              0.0  0.333333       0.0  \n",
      "479       0.0              0.0              0.0  0.000000       0.0  \n",
      "103       0.0              0.0              1.0  0.000000       0.0  \n",
      "386       0.0              0.0              0.0  0.666667       0.0  \n",
      "480       0.0              0.0              0.0  0.333333       0.0  \n",
      "400       0.0              0.0              0.0  0.333333       1.0  \n",
      "37        0.0              0.0              1.0  0.666667       0.0  \n"
     ]
    }
   ],
   "source": [
    "scaler = MinMaxScaler()\n",
    "model4_norm_train[model4_vars] = scaler.fit_transform(model4_norm_train[model4_vars])\n",
    "print(model4_norm_train.head(10))\n",
    "\n",
    "model4_norm_test[model4_vars] = scaler.fit_transform(model4_norm_test[model4_vars])\n",
    "print(model4_norm_test.head(10))"
   ]
  },
  {
   "cell_type": "code",
   "execution_count": 31,
   "id": "3e22fdd9",
   "metadata": {},
   "outputs": [],
   "source": [
    "model4_norm_Y_train = model4_norm_train.values[:, 0] #price\n",
    "\n",
    "model4_norm_X0_train = np.ones((model4_trainLength, 1))\n",
    "model4_norm_X1_train = model4_norm_train.values[:, 1] #area\n",
    "model4_norm_X2_train = model4_norm_train.values[:, 2] #bedrooms\n",
    "model4_norm_X3_train = model4_norm_train.values[:, 3] #bathrooms\n",
    "model4_norm_X4_train = model4_norm_train.values[:, 4] #stories\n",
    "model4_norm_X5_train = model4_norm_train.values[:, 5] #mainroad\n",
    "model4_norm_X6_train = model4_norm_train.values[:, 6] #guestroom\n",
    "model4_norm_X7_train = model4_norm_train.values[:, 7] #basement\n",
    "model4_norm_X8_train = model4_norm_train.values[:, 8] #hotwaterheating\n",
    "model4_norm_X9_train = model4_norm_train.values[:, 9] #airconditioning\n",
    "model4_norm_X10_train = model4_norm_train.values[:, 10] #parking\n",
    "model4_norm_X11_train = model4_norm_train.values[:, 11] #prefarea\n",
    "\n",
    "model4_norm_Y_test = model4_norm_test.values[:, 5] #price\n",
    "\n",
    "\n",
    "model4_norm_X0_test = np.ones((model4_testLength, 1))\n",
    "model4_norm_X1_test = model4_norm_test.values[:, 1] #area\n",
    "model4_norm_X2_test = model4_norm_test.values[:, 2] #bedrooms\n",
    "model4_norm_X3_test = model4_norm_test.values[:, 3] #bathrooms\n",
    "model4_norm_X4_test = model4_norm_test.values[:, 4] #stories\n",
    "model4_norm_X5_test = model4_norm_test.values[:, 5] #mainroad\n",
    "model4_norm_X6_test = model4_norm_test.values[:, 6] #guestroom\n",
    "model4_norm_X7_test = model4_norm_test.values[:, 7] #basement\n",
    "model4_norm_X8_test = model4_norm_test.values[:, 8] #hotwaterheating\n",
    "model4_norm_X9_test = model4_norm_test.values[:, 9] #airconditioning\n",
    "model4_norm_X10_test = model4_norm_test.values[:, 10] #parking\n",
    "model4_norm_X11_test = model4_norm_test.values[:, 11] #prefarea"
   ]
  },
  {
   "cell_type": "code",
   "execution_count": 32,
   "id": "769fb811",
   "metadata": {},
   "outputs": [
    {
     "name": "stdout",
     "output_type": "stream",
     "text": [
      "[[1.         0.19354839 0.5        0.         0.33333333 1.\n",
      "  0.         0.         0.         1.         0.         0.        ]\n",
      " [1.         0.1564952  0.5        0.         0.33333333 1.\n",
      "  0.         0.         0.         0.         0.         0.        ]\n",
      " [1.         0.18047079 0.5        0.         0.         1.\n",
      "  0.         0.         0.         0.         0.         1.        ]\n",
      " [1.         0.00501308 1.         0.         0.33333333 0.\n",
      "  0.         1.         0.         0.         0.         0.        ]\n",
      " [1.         0.12162162 0.5        0.         0.66666667 1.\n",
      "  0.         0.         0.         0.         0.         0.        ]]\n",
      "[[1.         0.16151203 0.4        0.         0.33333333 1.\n",
      "  0.         0.         0.         0.         0.33333333 0.        ]\n",
      " [1.         0.54776632 0.4        0.         0.         1.\n",
      "  0.         1.         0.         0.         0.66666667 1.        ]\n",
      " [1.         0.12439863 0.6        0.         0.33333333 1.\n",
      "  0.         0.         0.         1.         0.         0.        ]\n",
      " [1.         0.79381443 0.2        0.         0.         1.\n",
      "  0.         1.         1.         0.         0.33333333 0.        ]\n",
      " [1.         0.13814433 0.6        0.         0.33333333 0.\n",
      "  0.         0.         0.         0.         0.         0.        ]]\n"
     ]
    }
   ],
   "source": [
    "model4_norm_X1_train_1 = model4_norm_X1_train.reshape((model4_trainLength, 1))\n",
    "model4_norm_X2_train_1 = model4_norm_X2_train.reshape((model4_trainLength, 1))\n",
    "model4_norm_X3_train_1 = model4_norm_X3_train.reshape((model4_trainLength, 1))\n",
    "model4_norm_X4_train_1 = model4_norm_X4_train.reshape((model4_trainLength, 1))\n",
    "model4_norm_X5_train_1 = model4_norm_X5_train.reshape((model4_trainLength, 1))\n",
    "model4_norm_X6_train_1 = model4_norm_X6_train.reshape((model4_trainLength, 1))\n",
    "model4_norm_X7_train_1 = model4_norm_X7_train.reshape((model4_trainLength, 1))\n",
    "model4_norm_X8_train_1 = model4_norm_X8_train.reshape((model4_trainLength, 1))\n",
    "model4_norm_X9_train_1 = model4_norm_X9_train.reshape((model4_trainLength, 1))\n",
    "model4_norm_X10_train_1 = model4_norm_X10_train.reshape((model4_trainLength, 1))\n",
    "model4_norm_X11_train_1 = model4_norm_X11_train.reshape((model4_trainLength, 1))\n",
    "\n",
    "model4_norm_X1_test_1 = model4_norm_X1_test.reshape((model4_testLength, 1))\n",
    "model4_norm_X2_test_1 = model4_norm_X2_test.reshape((model4_testLength, 1))\n",
    "model4_norm_X3_test_1 = model4_norm_X3_test.reshape((model4_testLength, 1))\n",
    "model4_norm_X4_test_1 = model4_norm_X4_test.reshape((model4_testLength, 1))\n",
    "model4_norm_X5_test_1 = model4_norm_X5_test.reshape((model4_testLength, 1))\n",
    "model4_norm_X6_test_1 = model4_norm_X6_test.reshape((model4_testLength, 1))\n",
    "model4_norm_X7_test_1 = model4_norm_X7_test.reshape((model4_testLength, 1))\n",
    "model4_norm_X8_test_1 = model4_norm_X8_test.reshape((model4_testLength, 1))\n",
    "model4_norm_X9_test_1 = model4_norm_X9_test.reshape((model4_testLength, 1))\n",
    "model4_norm_X10_test_1 = model4_norm_X10_test.reshape((model4_testLength, 1))\n",
    "model4_norm_X11_test_1 = model4_norm_X11_test.reshape((model4_testLength, 1))\n",
    "\n",
    "model4_norm_X_train = np.hstack((model4_norm_X0_train, model4_norm_X1_train_1, model4_norm_X2_train_1, model4_norm_X3_train_1, model4_norm_X4_train_1, model4_norm_X5_train_1, model4_norm_X6_train_1, model4_norm_X7_train_1, model4_norm_X8_train_1, model4_norm_X9_train_1, model4_norm_X10_train_1, model4_norm_X11_train_1))\n",
    "model4_norm_X_test = np.hstack((model4_norm_X0_test, model4_norm_X1_test_1, model4_norm_X2_test_1, model4_norm_X3_test_1, model4_norm_X4_test_1, model4_norm_X5_test_1, model4_norm_X6_test_1, model4_norm_X7_test_1, model4_norm_X8_test_1, model4_norm_X9_test_1, model4_norm_X10_test_1, model4_norm_X11_test_1))\n",
    "\n",
    "print(model4_norm_X_train[:5])\n",
    "print(model4_norm_X_test[:5])"
   ]
  },
  {
   "cell_type": "code",
   "execution_count": 33,
   "id": "8b441424",
   "metadata": {},
   "outputs": [
    {
     "name": "stdout",
     "output_type": "stream",
     "text": [
      "0.04726753099662817\n",
      "[0.04134195 0.03631037 0.03203739 0.02840811 0.02532503]\n",
      "Model 2 Final Training Set Cost:  0.006405123940970754\n"
     ]
    }
   ],
   "source": [
    "model4_norm_theta = np.zeros(12)\n",
    "model4_norm_alpha = 0.03\n",
    "model4_norm_iterations = 120\n",
    "\n",
    "model4_norm_initial_training_cost = compute_cost(model4_norm_X_train, model4_norm_Y_train, model4_norm_theta)\n",
    "print(model4_norm_initial_training_cost)\n",
    "\n",
    "model4_norm_theta, model4_norm_cost_history, model4_norm_testLoss_history = gradient_descent(model4_norm_X_train, model4_norm_Y_train, model4_norm_X_test, model4_norm_Y_test, model4_norm_theta, model4_norm_alpha, model4_norm_iterations)\n",
    "print(model4_norm_cost_history[:5])\n",
    "model4_norm_final_training_cost = compute_cost(model4_norm_X_train, model4_norm_Y_train, model4_norm_theta)\n",
    "print('Model 2 Final Training Set Cost: ', model4_norm_final_training_cost)"
   ]
  },
  {
   "cell_type": "code",
   "execution_count": 34,
   "id": "f44bdbdb",
   "metadata": {},
   "outputs": [
    {
     "data": {
      "text/plain": [
       "<matplotlib.legend.Legend at 0x239f0a6d2e0>"
      ]
     },
     "execution_count": 34,
     "metadata": {},
     "output_type": "execute_result"
    },
    {
     "data": {
      "image/png": "[encoded data removed]",
      "text/plain": [
       "<Figure size 432x288 with 1 Axes>"
      ]
     },
     "metadata": {
      "needs_background": "light"
     },
     "output_type": "display_data"
    }
   ],
   "source": [
    "plt.plot(range(1, model4_norm_iterations + 1), model4_norm_cost_history, color = 'blue', label = 'Training Loss')\n",
    "plt.plot(range(1, model4_norm_iterations + 1), model4_norm_testLoss_history, color = 'red', label = 'Validation Loss')\n",
    "plt.grid()\n",
    "plt.xlabel(\"Number of iterations\")\n",
    "plt.ylabel(\"Cost\")\n",
    "plt.title(\"Convergence of gradient descent\")\n",
    "plt.legend()"
   ]
  },
  {
   "cell_type": "markdown",
   "id": "70b04d3e",
   "metadata": {},
   "source": [
    "### Standardization\n",
    "The data was then Standardized. The goal with standardization is to scale the data to achieve a mean of zero"
   ]
  },
  {
   "cell_type": "code",
   "execution_count": 35,
   "id": "e89daf43",
   "metadata": {},
   "outputs": [
    {
     "name": "stdout",
     "output_type": "stream",
     "text": [
      "        price      area  bedrooms  bathrooms   stories  mainroad  guestroom  \\\n",
      "454 -0.868394 -0.286366  0.073764  -0.581230  0.207401  0.393123  -0.457738   \n",
      "392 -0.677628 -0.544762  0.073764  -0.581230  0.207401  0.393123  -0.457738   \n",
      "231 -0.041744 -0.377564  0.073764  -0.581230 -0.937813  0.393123  -0.457738   \n",
      "271 -0.228768 -1.601145  2.884176  -0.581230  0.207401 -2.543735  -0.457738   \n",
      "250 -0.135256 -0.787958  0.073764  -0.581230  1.352614  0.393123  -0.457738   \n",
      "541 -1.603589 -1.350349  0.073764  -0.581230 -0.937813 -2.543735  -0.457738   \n",
      "461 -0.902058 -0.053303 -1.331442  -0.581230 -0.937813  0.393123  -0.457738   \n",
      "124  0.631546  0.739618  0.073764   1.488383  2.497828  0.393123  -0.457738   \n",
      "154  0.407116 -0.717026  0.073764   1.488383  0.207401  0.393123  -0.457738   \n",
      "451 -0.864653  0.853616 -1.331442  -0.581230 -0.937813  0.393123  -0.457738   \n",
      "\n",
      "     basement  hotwaterheating  airconditioning   parking  prefarea  \n",
      "454 -0.711287        -0.216109         1.422607 -0.822960 -0.564215  \n",
      "392 -0.711287        -0.216109        -0.702935 -0.822960 -0.564215  \n",
      "231 -0.711287        -0.216109        -0.702935 -0.822960  1.772373  \n",
      "271  1.405903        -0.216109        -0.702935 -0.822960 -0.564215  \n",
      "250 -0.711287        -0.216109        -0.702935 -0.822960 -0.564215  \n",
      "541 -0.711287        -0.216109        -0.702935 -0.822960 -0.564215  \n",
      "461  1.405903        -0.216109         1.422607 -0.822960 -0.564215  \n",
      "124 -0.711287        -0.216109        -0.702935  0.321375 -0.564215  \n",
      "154 -0.711287        -0.216109        -0.702935  1.465710 -0.564215  \n",
      "451 -0.711287        -0.216109        -0.702935 -0.822960 -0.564215  \n",
      "        price      area  bedrooms  bathrooms   stories  mainroad  guestroom  \\\n",
      "239 -0.095841 -0.528409 -0.007694  -0.550215  0.265241  0.434057  -0.482786   \n",
      "113  0.708470  1.673306 -0.007694  -0.550215 -0.910424  0.434057  -0.482786   \n",
      "325 -0.405914 -0.739961  1.254180  -0.550215  0.265241  0.434057  -0.482786   \n",
      "66   1.163244  3.075822 -1.269569  -0.550215 -0.910424  0.434057  -0.482786   \n",
      "479 -0.979079 -0.661608  1.254180  -0.550215  0.265241 -2.303843  -0.482786   \n",
      "103  0.768605  0.392237 -0.007694   1.291320  1.440906  0.434057   2.071309   \n",
      "386 -0.659610 -0.587173 -0.007694  -0.550215 -0.910424  0.434057  -0.482786   \n",
      "480 -0.979079 -0.732126 -0.007694  -0.550215  0.265241 -2.303843  -0.482786   \n",
      "400 -0.678402 -0.719590 -1.269569  -0.550215 -0.910424  0.434057  -0.482786   \n",
      "37   1.727013  1.430412  1.254180   1.291320  2.616571  0.434057  -0.482786   \n",
      "\n",
      "     basement  hotwaterheating  airconditioning   parking  prefarea  \n",
      "239 -0.789786        -0.226455        -0.624364  0.442615 -0.530330  \n",
      "113  1.266165        -0.226455        -0.624364  1.652428  1.885618  \n",
      "325 -0.789786        -0.226455         1.601630 -0.767199 -0.530330  \n",
      "66   1.266165         4.415880        -0.624364  0.442615 -0.530330  \n",
      "479 -0.789786        -0.226455        -0.624364 -0.767199 -0.530330  \n",
      "103 -0.789786        -0.226455         1.601630 -0.767199 -0.530330  \n",
      "386 -0.789786        -0.226455        -0.624364  1.652428 -0.530330  \n",
      "480 -0.789786        -0.226455        -0.624364  0.442615 -0.530330  \n",
      "400 -0.789786        -0.226455        -0.624364  0.442615  1.885618  \n",
      "37  -0.789786        -0.226455         1.601630  1.652428 -0.530330  \n"
     ]
    }
   ],
   "source": [
    "scaler = StandardScaler()\n",
    "model4_stand_train[model4_vars] = scaler.fit_transform(model4_stand_train[model4_vars])\n",
    "print(model4_stand_train.head(10))\n",
    "\n",
    "model4_stand_test[model4_vars] = scaler.fit_transform(model4_stand_test[model4_vars])\n",
    "print(model4_stand_test.head(10))"
   ]
  },
  {
   "cell_type": "code",
   "execution_count": 36,
   "id": "62c74476",
   "metadata": {},
   "outputs": [
    {
     "name": "stdout",
     "output_type": "stream",
     "text": [
      "[[ 1.         -0.28636589  0.07376409 -0.58122996  0.20740088  0.3931227\n",
      "  -0.45773771 -0.71128676 -0.21610946  1.42260659 -0.82296013 -0.56421547]\n",
      " [ 1.         -0.54476182  0.07376409 -0.58122996  0.20740088  0.3931227\n",
      "  -0.45773771 -0.71128676 -0.21610946 -0.70293502 -0.82296013 -0.56421547]\n",
      " [ 1.         -0.37756445  0.07376409 -0.58122996 -0.93781267  0.3931227\n",
      "  -0.45773771 -0.71128676 -0.21610946 -0.70293502 -0.82296013  1.77237252]\n",
      " [ 1.         -1.60114518  2.88417578 -0.58122996  0.20740088 -2.5437351\n",
      "  -0.45773771  1.40590273 -0.21610946 -0.70293502 -0.82296013 -0.56421547]\n",
      " [ 1.         -0.78795799  0.07376409 -0.58122996  1.35261443  0.3931227\n",
      "  -0.45773771 -0.71128676 -0.21610946 -0.70293502 -0.82296013 -0.56421547]]\n",
      "[[ 1.         -0.52840866 -0.00769436 -0.55021459  0.26524149  0.43405737\n",
      "  -0.4827864  -0.78978629 -0.22645541 -0.62436408  0.44261462 -0.53033009]\n",
      " [ 1.          1.67330604 -0.00769436 -0.55021459 -0.91042351  0.43405737\n",
      "  -0.4827864   1.26616531 -0.22645541 -0.62436408  1.65242793  1.88561808]\n",
      " [ 1.         -0.73996132  1.25418015 -0.55021459  0.26524149  0.43405737\n",
      "  -0.4827864  -0.78978629 -0.22645541  1.6016296  -0.76719868 -0.53033009]\n",
      " [ 1.          3.07582182 -1.26956887 -0.55021459 -0.91042351  0.43405737\n",
      "  -0.4827864   1.26616531  4.41588043 -0.62436408  0.44261462 -0.53033009]\n",
      " [ 1.         -0.66160849  1.25418015 -0.55021459  0.26524149 -2.30384294\n",
      "  -0.4827864  -0.78978629 -0.22645541 -0.62436408 -0.76719868 -0.53033009]]\n"
     ]
    }
   ],
   "source": [
    "model4_stand_Y_train = model4_stand_train.values[:, 0] #price\n",
    "\n",
    "model4_stand_X0_train = np.ones((model4_trainLength, 1))\n",
    "model4_stand_X1_train = model4_stand_train.values[:, 1] #area\n",
    "model4_stand_X2_train = model4_stand_train.values[:, 2] #bedrooms\n",
    "model4_stand_X3_train = model4_stand_train.values[:, 3] #bathrooms\n",
    "model4_stand_X4_train = model4_stand_train.values[:, 4] #stories\n",
    "model4_stand_X5_train = model4_stand_train.values[:, 5] #mainroad\n",
    "model4_stand_X6_train = model4_stand_train.values[:, 6] #guestroom\n",
    "model4_stand_X7_train = model4_stand_train.values[:, 7] #basement\n",
    "model4_stand_X8_train = model4_stand_train.values[:, 8] #hotwaterheating\n",
    "model4_stand_X9_train = model4_stand_train.values[:, 9] #airconditioning\n",
    "model4_stand_X10_train = model4_stand_train.values[:, 10] #parking\n",
    "model4_stand_X11_train = model4_stand_train.values[:, 11] #prefarea\n",
    "\n",
    "model4_stand_Y_test = model4_stand_test.values[:, 5] #price\n",
    "\n",
    "\n",
    "model4_stand_X0_test = np.ones((model4_testLength, 1))\n",
    "model4_stand_X1_test = model4_stand_test.values[:, 1] #area\n",
    "model4_stand_X2_test = model4_stand_test.values[:, 2] #bedrooms\n",
    "model4_stand_X3_test = model4_stand_test.values[:, 3] #bathrooms\n",
    "model4_stand_X4_test = model4_stand_test.values[:, 4] #stories\n",
    "model4_stand_X5_test = model4_stand_test.values[:, 5] #mainroad\n",
    "model4_stand_X6_test = model4_stand_test.values[:, 6] #guestroom\n",
    "model4_stand_X7_test = model4_stand_test.values[:, 7] #basement\n",
    "model4_stand_X8_test = model4_stand_test.values[:, 8] #hotwaterheating\n",
    "model4_stand_X9_test = model4_stand_test.values[:, 9] #airconditioning\n",
    "model4_stand_X10_test = model4_stand_test.values[:, 10] #parking\n",
    "model4_stand_X11_test = model4_stand_test.values[:, 11] #prefarea\n",
    "\n",
    "\n",
    "\n",
    "\n",
    "model4_stand_X1_train_1 = model4_stand_X1_train.reshape((model4_trainLength, 1))\n",
    "model4_stand_X2_train_1 = model4_stand_X2_train.reshape((model4_trainLength, 1))\n",
    "model4_stand_X3_train_1 = model4_stand_X3_train.reshape((model4_trainLength, 1))\n",
    "model4_stand_X4_train_1 = model4_stand_X4_train.reshape((model4_trainLength, 1))\n",
    "model4_stand_X5_train_1 = model4_stand_X5_train.reshape((model4_trainLength, 1))\n",
    "model4_stand_X6_train_1 = model4_stand_X6_train.reshape((model4_trainLength, 1))\n",
    "model4_stand_X7_train_1 = model4_stand_X7_train.reshape((model4_trainLength, 1))\n",
    "model4_stand_X8_train_1 = model4_stand_X8_train.reshape((model4_trainLength, 1))\n",
    "model4_stand_X9_train_1 = model4_stand_X9_train.reshape((model4_trainLength, 1))\n",
    "model4_stand_X10_train_1 = model4_stand_X10_train.reshape((model4_trainLength, 1))\n",
    "model4_stand_X11_train_1 = model4_stand_X11_train.reshape((model4_trainLength, 1))\n",
    "\n",
    "model4_stand_X1_test_1 = model4_stand_X1_test.reshape((model4_testLength, 1))\n",
    "model4_stand_X2_test_1 = model4_stand_X2_test.reshape((model4_testLength, 1))\n",
    "model4_stand_X3_test_1 = model4_stand_X3_test.reshape((model4_testLength, 1))\n",
    "model4_stand_X4_test_1 = model4_stand_X4_test.reshape((model4_testLength, 1))\n",
    "model4_stand_X5_test_1 = model4_stand_X5_test.reshape((model4_testLength, 1))\n",
    "model4_stand_X6_test_1 = model4_stand_X6_test.reshape((model4_testLength, 1))\n",
    "model4_stand_X7_test_1 = model4_stand_X7_test.reshape((model4_testLength, 1))\n",
    "model4_stand_X8_test_1 = model4_stand_X8_test.reshape((model4_testLength, 1))\n",
    "model4_stand_X9_test_1 = model4_stand_X9_test.reshape((model4_testLength, 1))\n",
    "model4_stand_X10_test_1 = model4_stand_X10_test.reshape((model4_testLength, 1))\n",
    "model4_stand_X11_test_1 = model4_stand_X11_test.reshape((model4_testLength, 1))\n",
    "\n",
    "model4_stand_X_train = np.hstack((model4_stand_X0_train, model4_stand_X1_train_1, model4_stand_X2_train_1, model4_stand_X3_train_1, model4_stand_X4_train_1, model4_stand_X5_train_1, model4_stand_X6_train_1, model4_stand_X7_train_1, model4_stand_X8_train_1, model4_stand_X9_train_1, model4_stand_X10_train_1, model4_stand_X11_train_1))\n",
    "model4_stand_X_test = np.hstack((model4_stand_X0_test, model4_stand_X1_test_1, model4_stand_X2_test_1, model4_stand_X3_test_1, model4_stand_X4_test_1, model4_stand_X5_test_1, model4_stand_X6_test_1, model4_stand_X7_test_1, model4_stand_X8_test_1, model4_stand_X9_test_1, model4_stand_X10_test_1, model4_stand_X11_test_1))\n",
    "\n",
    "print(model4_stand_X_train[:5])\n",
    "print(model4_stand_X_test[:5])"
   ]
  },
  {
   "cell_type": "code",
   "execution_count": 37,
   "id": "acc66b6c",
   "metadata": {},
   "outputs": [
    {
     "name": "stdout",
     "output_type": "stream",
     "text": [
      "0.5\n",
      "[0.45755647 0.42080677 0.38898085 0.36141309 0.33752811]\n",
      "Model 1 Final Training Set Cost:  0.17511921020127166\n",
      "Final Theta:  [1.37387914e-16 2.66846116e-01 6.35693079e-02 2.47022045e-01\n",
      " 1.95994266e-01 9.33406551e-02 8.48051681e-02 9.10985779e-02\n",
      " 1.38523764e-01 2.32094167e-01 1.17845119e-01 1.63411355e-01]\n"
     ]
    }
   ],
   "source": [
    "model4_stand_theta = np.zeros(12)\n",
    "model4_stand_alpha = 0.03\n",
    "model4_stand_iterations = 200\n",
    "\n",
    "model4_stand_initial_training_cost = compute_cost(model4_stand_X_train, model4_stand_Y_train, model4_stand_theta)\n",
    "print(model4_stand_initial_training_cost)\n",
    "\n",
    "model4_stand_theta, model4_stand_cost_history, model4_stand_testLoss_history = gradient_descent(model4_stand_X_train, model4_stand_Y_train, model4_stand_X_test, model4_stand_Y_test, model4_stand_theta, model4_stand_alpha, model4_stand_iterations)\n",
    "print(model4_stand_cost_history[:5])\n",
    "model4_stand_final_training_cost = compute_cost(model4_stand_X_train, model4_stand_Y_train, model4_stand_theta)\n",
    "print('Model 1 Final Training Set Cost: ', model4_stand_final_training_cost)\n",
    "print('Final Theta: ', model4_stand_theta)"
   ]
  },
  {
   "cell_type": "code",
   "execution_count": 38,
   "id": "22d2524e",
   "metadata": {},
   "outputs": [
    {
     "data": {
      "text/plain": [
       "<matplotlib.legend.Legend at 0x239f0af43d0>"
      ]
     },
     "execution_count": 38,
     "metadata": {},
     "output_type": "execute_result"
    },
    {
     "data": {
      "image/png": "[encoded data removed]",
      "text/plain": [
       "<Figure size 432x288 with 1 Axes>"
      ]
     },
     "metadata": {
      "needs_background": "light"
     },
     "output_type": "display_data"
    }
   ],
   "source": [
    "plt.plot(range(1, model4_stand_iterations + 1), model4_stand_cost_history, color = 'blue', label = 'Training Loss')\n",
    "plt.plot(range(1, model4_stand_iterations + 1), model4_stand_testLoss_history, color = 'red', label = 'Validation Loss')\n",
    "plt.grid()\n",
    "plt.xlabel(\"Number of iterations\")\n",
    "plt.ylabel(\"Cost\")\n",
    "plt.title(\"Convergence of gradient descent\")\n",
    "plt.legend()"
   ]
  },
  {
   "cell_type": "markdown",
   "id": "0110dbbf",
   "metadata": {},
   "source": [
    "## Question 3a\n",
    "For question 3a the same datasets used in Question 2a will be used. As with question 2 both the standardized and normalized sets will be run seperatly. The difference with Question 3 is that Parameter Penalties regularization will be added to the gradient descent logic. This will be done by changing the loss function and adding the parameter penalties.\n",
    "\n",
    "The first thing is to create a new loss function which adds the parameter penalties. It is important that X0 is not penalized which is why it is calculated seperatly. "
   ]
  },
  {
   "cell_type": "code",
   "execution_count": 39,
   "id": "9d3db6c6",
   "metadata": {},
   "outputs": [],
   "source": [
    "def gradient_descent_regularized(training_XVals, training_YVals, testing_XVals, testing_YVals, theta, alpha, lam, iterations):\n",
    "    numSamples = len(training_XVals)\n",
    "    training_loss_history = np.zeros(iterations) #stores the calculated cost for each iteration of the algorithm\n",
    "    testing_loss_history = np.zeros(iterations)\n",
    "    for i in range(iterations):\n",
    "        predictions = training_XVals.dot(theta) #tests the current theta value with each independent variable value\n",
    "        errors = np.subtract(predictions, training_YVals)\n",
    "        \n",
    "        sum_delta = (alpha/numSamples) * (training_XVals.transpose().dot(errors));\n",
    "        theta[0] = theta[0] - sum_delta[0] #updating the value of theta based on the new data\n",
    "        \n",
    "        theta[1:] = (1 - alpha*(lam / numSamples))*theta[1:] - sum_delta[1:]\n",
    "        \n",
    "        training_loss_history[i] = compute_cost(training_XVals, training_YVals, theta) #logging the training cost to the cost history log\n",
    "        testing_loss_history[i] = compute_cost(testing_XVals, testing_YVals, theta)\n",
    "    return theta, training_loss_history, testing_loss_history"
   ]
  },
  {
   "cell_type": "markdown",
   "id": "7c27f671",
   "metadata": {},
   "source": [
    "### Normalization\n",
    "The normalized dataset from Question 2a is then copied"
   ]
  },
  {
   "cell_type": "code",
   "execution_count": 40,
   "id": "4bed8088",
   "metadata": {},
   "outputs": [],
   "source": [
    "model5_norm_X_train = model3_norm_X_train\n",
    "model5_norm_X_test = model3_norm_X_test\n",
    "model5_norm_Y_train = model3_norm_Y_train\n",
    "model5_norm_Y_test = model3_norm_Y_test"
   ]
  },
  {
   "cell_type": "code",
   "execution_count": 41,
   "id": "9ac31650",
   "metadata": {},
   "outputs": [
    {
     "name": "stdout",
     "output_type": "stream",
     "text": [
      "0.5\n",
      "[0.49761225 0.49531972 0.49311094 0.49097602 0.48890647]\n",
      "Model 1 Final Training Set Cost:  0.24744735048806357\n",
      "Final Theta =  [-1.15629506  1.55820524  0.40955265  1.24243502  0.8946345   0.7417923 ]\n"
     ]
    }
   ],
   "source": [
    "model5_norm_theta = np.zeros(6)\n",
    "model5_norm_alpha = 0.05\n",
    "model5_norm_iterations = 1000\n",
    "model5_lam = 0.01\n",
    "\n",
    "model5_norm_initial_training_cost = compute_cost(model5_norm_X_train, model5_norm_Y_train, model5_norm_theta)\n",
    "print(model5_norm_initial_training_cost)\n",
    "\n",
    "model5_norm_theta, model5_norm_cost_history, model5_norm_testLoss_history = gradient_descent_regularized(model5_norm_X_train, model5_norm_Y_train, model5_norm_X_test, model5_norm_Y_test, model5_norm_theta, model5_norm_alpha, model5_lam, model5_norm_iterations)\n",
    "print(model5_norm_cost_history[:5])\n",
    "model5_norm_final_training_cost = compute_cost(model5_norm_X_train, model5_norm_Y_train, model5_norm_theta)\n",
    "print('Model 1 Final Training Set Cost: ', model5_norm_final_training_cost)\n",
    "print('Final Theta = ', model5_norm_theta)"
   ]
  },
  {
   "cell_type": "code",
   "execution_count": 42,
   "id": "96bcfe2a",
   "metadata": {},
   "outputs": [
    {
     "data": {
      "text/plain": [
       "<matplotlib.legend.Legend at 0x239f0b60df0>"
      ]
     },
     "execution_count": 42,
     "metadata": {},
     "output_type": "execute_result"
    },
    {
     "data": {
      "image/png": "[encoded data removed]",
      "text/plain": [
       "<Figure size 432x288 with 1 Axes>"
      ]
     },
     "metadata": {
      "needs_background": "light"
     },
     "output_type": "display_data"
    }
   ],
   "source": [
    "plt.plot(range(1, model5_norm_iterations + 1), model5_norm_cost_history, color = 'blue', label = 'Training Loss')\n",
    "plt.plot(range(1, model5_norm_iterations + 1), model5_norm_testLoss_history, color = 'red', label = 'Validation Loss')\n",
    "plt.grid()\n",
    "plt.xlabel(\"Number of iterations\")\n",
    "plt.ylabel(\"Cost\")\n",
    "plt.title(\"Convergence of gradient descent\")\n",
    "plt.legend()"
   ]
  },
  {
   "cell_type": "markdown",
   "id": "e5355804",
   "metadata": {},
   "source": [
    "### Standardized\n",
    "The standardized dataset from Question 2b is then copied"
   ]
  },
  {
   "cell_type": "code",
   "execution_count": 43,
   "id": "a890225f",
   "metadata": {},
   "outputs": [],
   "source": [
    "model5_stand_X_train = model3_stand_X_train\n",
    "model5_stand_X_test = model3_stand_X_test\n",
    "model5_stand_Y_train = model3_stand_Y_train\n",
    "model5_stand_Y_test = model3_stand_Y_test"
   ]
  },
  {
   "cell_type": "code",
   "execution_count": 44,
   "id": "f1ae65e8",
   "metadata": {},
   "outputs": [
    {
     "name": "stdout",
     "output_type": "stream",
     "text": [
      "0.5\n",
      "[0.4556547  0.41899208 0.38866242 0.36355466 0.34275408]\n",
      "Model 1 Final Training Set Cost:  0.23576639581134798\n",
      "Final Theta =  [7.94931342e-17 3.81454633e-01 1.07394037e-01 2.96404655e-01\n",
      " 2.33469429e-01 1.51847491e-01]\n"
     ]
    }
   ],
   "source": [
    "model5_stand_theta = np.zeros(6)\n",
    "model5_stand_alpha = 0.05\n",
    "model5_stand_iterations = 120\n",
    "model5_lam = 0.01\n",
    "\n",
    "model5_stand_initial_training_cost = compute_cost(model5_stand_X_train, model5_stand_Y_train, model5_stand_theta)\n",
    "print(model5_stand_initial_training_cost)\n",
    "\n",
    "model5_stand_theta, model5_stand_cost_history, model5_stand_testLoss_history = gradient_descent_regularized(model5_stand_X_train, model5_stand_Y_train, model5_stand_X_test, model5_stand_Y_test, model5_stand_theta, model5_stand_alpha, model5_lam, model5_stand_iterations)\n",
    "print(model5_stand_cost_history[:5])\n",
    "model5_stand_final_training_cost = compute_cost(model5_stand_X_train, model5_stand_Y_train, model5_stand_theta)\n",
    "print('Model 1 Final Training Set Cost: ', model5_stand_final_training_cost)\n",
    "print('Final Theta = ', model5_stand_theta)"
   ]
  },
  {
   "cell_type": "code",
   "execution_count": 45,
   "id": "0d64a06a",
   "metadata": {},
   "outputs": [
    {
     "data": {
      "text/plain": [
       "<matplotlib.legend.Legend at 0x239f014d6d0>"
      ]
     },
     "execution_count": 45,
     "metadata": {},
     "output_type": "execute_result"
    },
    {
     "data": {
      "image/png": "[encoded data removed]",
      "text/plain": [
       "<Figure size 432x288 with 1 Axes>"
      ]
     },
     "metadata": {
      "needs_background": "light"
     },
     "output_type": "display_data"
    }
   ],
   "source": [
    "plt.plot(range(1, model5_stand_iterations + 1), model5_stand_cost_history, color = 'blue', label = 'Training Loss')\n",
    "plt.plot(range(1, model5_stand_iterations + 1), model5_stand_testLoss_history, color = 'red', label = 'Validation Loss')\n",
    "plt.grid()\n",
    "plt.xlabel(\"Number of iterations\")\n",
    "plt.ylabel(\"Cost\")\n",
    "plt.title(\"Convergence of gradient descent\")\n",
    "plt.legend()"
   ]
  },
  {
   "cell_type": "markdown",
   "id": "f28d1f7a",
   "metadata": {},
   "source": [
    "## Question 3b\n",
    "\n",
    "### Normalized"
   ]
  },
  {
   "cell_type": "code",
   "execution_count": 46,
   "id": "a6023dbd",
   "metadata": {},
   "outputs": [],
   "source": [
    "model6_norm_X_train = model4_norm_X_train\n",
    "model6_norm_X_test = model4_norm_X_test\n",
    "model6_norm_Y_train = model4_norm_Y_train\n",
    "model6_norm_Y_test = model4_norm_Y_test"
   ]
  },
  {
   "cell_type": "code",
   "execution_count": 47,
   "id": "f95eefcd",
   "metadata": {},
   "outputs": [
    {
     "name": "stdout",
     "output_type": "stream",
     "text": [
      "0.5\n",
      "[0.49855872 0.49715074 0.49577449 0.49442846 0.49311125]\n",
      "Model 1 Final Training Set Cost:  0.28184122013125934\n",
      "Final Theta =  [-0.47203706  0.17691789  0.01806798  0.37395394  0.3029176  -0.03051697\n",
      "  0.22423356  0.12137438  0.12065172  0.44750775  0.27569434  0.3706948 ]\n"
     ]
    }
   ],
   "source": [
    "model6_norm_theta = np.zeros(12)\n",
    "model6_norm_alpha = 0.01\n",
    "model6_norm_iterations = 500\n",
    "model5_lam = 0.1\n",
    "\n",
    "model6_norm_initial_training_cost = compute_cost(model6_norm_X_train, model6_norm_Y_train, model6_norm_theta)\n",
    "print(model6_norm_initial_training_cost)\n",
    "\n",
    "model6_norm_theta, model6_norm_cost_history, model6_norm_testLoss_history = gradient_descent_regularized(model6_norm_X_train, model6_norm_Y_train, model6_norm_X_test, model6_norm_Y_test, model6_norm_theta, model6_norm_alpha, model5_lam, model6_norm_iterations)\n",
    "print(model6_norm_cost_history[:5])\n",
    "model6_norm_final_training_cost = compute_cost(model6_norm_X_train, model6_norm_Y_train, model6_norm_theta)\n",
    "print('Model 1 Final Training Set Cost: ', model6_norm_final_training_cost)\n",
    "print('Final Theta = ', model6_norm_theta)"
   ]
  },
  {
   "cell_type": "code",
   "execution_count": 48,
   "id": "14658778",
   "metadata": {},
   "outputs": [
    {
     "data": {
      "text/plain": [
       "<matplotlib.legend.Legend at 0x239f0bc4400>"
      ]
     },
     "execution_count": 48,
     "metadata": {},
     "output_type": "execute_result"
    },
    {
     "data": {
      "image/png": "[encoded data removed]",
      "text/plain": [
       "<Figure size 432x288 with 1 Axes>"
      ]
     },
     "metadata": {
      "needs_background": "light"
     },
     "output_type": "display_data"
    }
   ],
   "source": [
    "plt.plot(range(1, model6_norm_iterations + 1), model6_norm_cost_history, color = 'blue', label = 'Training Loss')\n",
    "plt.plot(range(1, model6_norm_iterations + 1), model6_norm_testLoss_history, color = 'red', label = 'Validation Loss')\n",
    "plt.grid()\n",
    "plt.xlabel(\"Number of iterations\")\n",
    "plt.ylabel(\"Cost\")\n",
    "plt.title(\"Convergence of gradient descent\")\n",
    "plt.legend()"
   ]
  },
  {
   "cell_type": "markdown",
   "id": "b282846d",
   "metadata": {},
   "source": [
    "### Standardized"
   ]
  },
  {
   "cell_type": "code",
   "execution_count": 49,
   "id": "d7f78de6",
   "metadata": {},
   "outputs": [
    {
     "name": "stdout",
     "output_type": "stream",
     "text": [
      "(381, 12)\n"
     ]
    }
   ],
   "source": [
    "model6_stand_X_train = model4_stand_X_train\n",
    "print(model6_stand_X_train.shape)\n",
    "model6_stand_X_test = model4_stand_X_test\n",
    "model6_stand_Y_train = model4_stand_Y_train\n",
    "model6_stand_Y_test = model4_stand_Y_test"
   ]
  },
  {
   "cell_type": "code",
   "execution_count": 50,
   "id": "6fafcbdd",
   "metadata": {},
   "outputs": [
    {
     "name": "stdout",
     "output_type": "stream",
     "text": [
      "0.5\n",
      "[0.48551244 0.47168857 0.45849774 0.44591071 0.43389961]\n",
      "Model 1 Final Training Set Cost:  0.17514858650063017\n",
      "Final Theta =  [1.37213076e-16 2.65116210e-01 6.70472869e-02 2.45794313e-01\n",
      " 1.94389271e-01 9.41943521e-02 8.60324133e-02 8.96516605e-02\n",
      " 1.36791688e-01 2.31001742e-01 1.19331952e-01 1.63412515e-01]\n"
     ]
    }
   ],
   "source": [
    "model6_stand_theta = np.zeros(12)\n",
    "model6_stand_alpha = 0.01\n",
    "model6_stand_iterations = 500\n",
    "model5_lam = 0.1\n",
    "\n",
    "model6_stand_initial_training_cost = compute_cost(model6_stand_X_train, model6_stand_Y_train, model6_stand_theta)\n",
    "print(model6_stand_initial_training_cost)\n",
    "\n",
    "model6_stand_theta, model6_stand_cost_history, model6_stand_testLoss_history = gradient_descent_regularized(model6_stand_X_train, model6_stand_Y_train, model6_stand_X_test, model6_stand_Y_test, model6_stand_theta, model6_stand_alpha, model5_lam, model6_stand_iterations)\n",
    "print(model6_stand_cost_history[:5])\n",
    "model6_stand_final_training_cost = compute_cost(model6_stand_X_train, model6_stand_Y_train, model6_stand_theta)\n",
    "print('Model 1 Final Training Set Cost: ', model6_stand_final_training_cost)\n",
    "print('Final Theta = ', model6_stand_theta)"
   ]
  },
  {
   "cell_type": "code",
   "execution_count": 51,
   "id": "cb13ee7c",
   "metadata": {},
   "outputs": [
    {
     "data": {
      "text/plain": [
       "<matplotlib.legend.Legend at 0x239f0c772b0>"
      ]
     },
     "execution_count": 51,
     "metadata": {},
     "output_type": "execute_result"
    },
    {
     "data": {
      "image/png": "[encoded data removed]",
      "text/plain": [
       "<Figure size 432x288 with 1 Axes>"
      ]
     },
     "metadata": {
      "needs_background": "light"
     },
     "output_type": "display_data"
    }
   ],
   "source": [
    "plt.plot(range(1, model6_stand_iterations + 1), model6_stand_cost_history, color = 'blue', label = 'Training Loss')\n",
    "plt.plot(range(1, model6_stand_iterations + 1), model6_stand_testLoss_history, color = 'red', label = 'Validation Loss')\n",
    "plt.grid()\n",
    "plt.xlabel(\"Number of iterations\")\n",
    "plt.ylabel(\"Cost\")\n",
    "plt.title(\"Convergence of gradient descent\")\n",
    "plt.legend()"
   ]
  },
  {
   "cell_type": "code",
   "execution_count": null,
   "id": "bf989357",
   "metadata": {},
   "outputs": [],
   "source": [
    "guess = model5_norm_theta.dot([1, 0.05656357, 0.6, 0.83333333  0.33333333  0.66666667])"
   ]
  },
  {
   "cell_type": "code",
   "execution_count": null,
   "id": "a417d297",
   "metadata": {},
   "outputs": [],
   "source": []
  },
  {
   "cell_type": "code",
   "execution_count": null,
   "id": "8b2653ff",
   "metadata": {},
   "outputs": [],
   "source": []
  }
 ],
 "metadata": {
  "kernelspec": {
   "display_name": "Python 3",
   "language": "python",
   "name": "python3"
  },
  "language_info": {
   "codemirror_mode": {
    "name": "ipython",
    "version": 3
   },
   "file_extension": ".py",
   "mimetype": "text/x-python",
   "name": "python",
   "nbconvert_exporter": "python",
   "pygments_lexer": "ipython3",
   "version": "3.8.8"
  }
 },
 "nbformat": 4,
 "nbformat_minor": 5
}
