{
 "cells": [
  {
   "cell_type": "markdown",
   "id": "5c680652",
   "metadata": {},
   "source": [
    "# Intro to Machine Learning Homework 4 SVR\n",
    "\n",
    "### Bryce Readyhough \n",
    "### ID-801005029"
   ]
  },
  {
   "cell_type": "code",
   "execution_count": 49,
   "id": "d404e08f",
   "metadata": {},
   "outputs": [],
   "source": [
    "import numpy as np\n",
    "import pandas as pd\n",
    "import matplotlib.pyplot as plt\n",
    "from sklearn.model_selection import train_test_split\n",
    "from sklearn.preprocessing import StandardScaler\n",
    "from sklearn.svm import SVR\n",
    "from sklearn.metrics import mean_squared_error"
   ]
  },
  {
   "cell_type": "markdown",
   "id": "6b5f2c5d",
   "metadata": {},
   "source": [
    "Loading in housing data from the provided CSV file"
   ]
  },
  {
   "cell_type": "code",
   "execution_count": 29,
   "id": "8af1237e",
   "metadata": {},
   "outputs": [
    {
     "name": "stdout",
     "output_type": "stream",
     "text": [
      "<class 'pandas.core.frame.DataFrame'>\n",
      "RangeIndex: 545 entries, 0 to 544\n",
      "Data columns (total 13 columns):\n",
      " #   Column            Non-Null Count  Dtype \n",
      "---  ------            --------------  ----- \n",
      " 0   price             545 non-null    int64 \n",
      " 1   area              545 non-null    int64 \n",
      " 2   bedrooms          545 non-null    int64 \n",
      " 3   bathrooms         545 non-null    int64 \n",
      " 4   stories           545 non-null    int64 \n",
      " 5   mainroad          545 non-null    object\n",
      " 6   guestroom         545 non-null    object\n",
      " 7   basement          545 non-null    object\n",
      " 8   hotwaterheating   545 non-null    object\n",
      " 9   airconditioning   545 non-null    object\n",
      " 10  parking           545 non-null    int64 \n",
      " 11  prefarea          545 non-null    object\n",
      " 12  furnishingstatus  545 non-null    object\n",
      "dtypes: int64(6), object(7)\n",
      "memory usage: 55.5+ KB\n"
     ]
    }
   ],
   "source": [
    "housingData = pd.DataFrame(pd.read_csv('Housing.csv'))\n",
    "numRows = len(housingData)\n",
    "housingData.info()"
   ]
  },
  {
   "cell_type": "markdown",
   "id": "0826fdee",
   "metadata": {},
   "source": [
    "The data above contains several datapoints which are boolean yes or no. For a linear regression line these will need to be converted into numeric 1s or 0s. These can be mapped using an xmap. \n",
    "\n",
    "The dataset provided already has the data categorized so each variable does not need to be split."
   ]
  },
  {
   "cell_type": "code",
   "execution_count": 30,
   "id": "d60dc515",
   "metadata": {},
   "outputs": [
    {
     "data": {
      "text/html": [
       "<div>\n",
       "<style scoped>\n",
       "    .dataframe tbody tr th:only-of-type {\n",
       "        vertical-align: middle;\n",
       "    }\n",
       "\n",
       "    .dataframe tbody tr th {\n",
       "        vertical-align: top;\n",
       "    }\n",
       "\n",
       "    .dataframe thead th {\n",
       "        text-align: right;\n",
       "    }\n",
       "</style>\n",
       "<table border=\"1\" class=\"dataframe\">\n",
       "  <thead>\n",
       "    <tr style=\"text-align: right;\">\n",
       "      <th></th>\n",
       "      <th>price</th>\n",
       "      <th>area</th>\n",
       "      <th>bedrooms</th>\n",
       "      <th>bathrooms</th>\n",
       "      <th>stories</th>\n",
       "      <th>mainroad</th>\n",
       "      <th>guestroom</th>\n",
       "      <th>basement</th>\n",
       "      <th>hotwaterheating</th>\n",
       "      <th>airconditioning</th>\n",
       "      <th>parking</th>\n",
       "      <th>prefarea</th>\n",
       "      <th>furnishingstatus</th>\n",
       "    </tr>\n",
       "  </thead>\n",
       "  <tbody>\n",
       "    <tr>\n",
       "      <th>0</th>\n",
       "      <td>13300000</td>\n",
       "      <td>7420</td>\n",
       "      <td>4</td>\n",
       "      <td>2</td>\n",
       "      <td>3</td>\n",
       "      <td>1</td>\n",
       "      <td>0</td>\n",
       "      <td>0</td>\n",
       "      <td>0</td>\n",
       "      <td>1</td>\n",
       "      <td>2</td>\n",
       "      <td>1</td>\n",
       "      <td>furnished</td>\n",
       "    </tr>\n",
       "    <tr>\n",
       "      <th>1</th>\n",
       "      <td>12250000</td>\n",
       "      <td>8960</td>\n",
       "      <td>4</td>\n",
       "      <td>4</td>\n",
       "      <td>4</td>\n",
       "      <td>1</td>\n",
       "      <td>0</td>\n",
       "      <td>0</td>\n",
       "      <td>0</td>\n",
       "      <td>1</td>\n",
       "      <td>3</td>\n",
       "      <td>0</td>\n",
       "      <td>furnished</td>\n",
       "    </tr>\n",
       "    <tr>\n",
       "      <th>2</th>\n",
       "      <td>12250000</td>\n",
       "      <td>9960</td>\n",
       "      <td>3</td>\n",
       "      <td>2</td>\n",
       "      <td>2</td>\n",
       "      <td>1</td>\n",
       "      <td>0</td>\n",
       "      <td>1</td>\n",
       "      <td>0</td>\n",
       "      <td>0</td>\n",
       "      <td>2</td>\n",
       "      <td>1</td>\n",
       "      <td>semi-furnished</td>\n",
       "    </tr>\n",
       "    <tr>\n",
       "      <th>3</th>\n",
       "      <td>12215000</td>\n",
       "      <td>7500</td>\n",
       "      <td>4</td>\n",
       "      <td>2</td>\n",
       "      <td>2</td>\n",
       "      <td>1</td>\n",
       "      <td>0</td>\n",
       "      <td>1</td>\n",
       "      <td>0</td>\n",
       "      <td>1</td>\n",
       "      <td>3</td>\n",
       "      <td>1</td>\n",
       "      <td>furnished</td>\n",
       "    </tr>\n",
       "    <tr>\n",
       "      <th>4</th>\n",
       "      <td>11410000</td>\n",
       "      <td>7420</td>\n",
       "      <td>4</td>\n",
       "      <td>1</td>\n",
       "      <td>2</td>\n",
       "      <td>1</td>\n",
       "      <td>1</td>\n",
       "      <td>1</td>\n",
       "      <td>0</td>\n",
       "      <td>1</td>\n",
       "      <td>2</td>\n",
       "      <td>0</td>\n",
       "      <td>furnished</td>\n",
       "    </tr>\n",
       "  </tbody>\n",
       "</table>\n",
       "</div>"
      ],
      "text/plain": [
       "      price  area  bedrooms  bathrooms  stories  mainroad  guestroom  \\\n",
       "0  13300000  7420         4          2        3         1          0   \n",
       "1  12250000  8960         4          4        4         1          0   \n",
       "2  12250000  9960         3          2        2         1          0   \n",
       "3  12215000  7500         4          2        2         1          0   \n",
       "4  11410000  7420         4          1        2         1          1   \n",
       "\n",
       "   basement  hotwaterheating  airconditioning  parking  prefarea  \\\n",
       "0         0                0                1        2         1   \n",
       "1         0                0                1        3         0   \n",
       "2         1                0                0        2         1   \n",
       "3         1                0                1        3         1   \n",
       "4         1                0                1        2         0   \n",
       "\n",
       "  furnishingstatus  \n",
       "0        furnished  \n",
       "1        furnished  \n",
       "2   semi-furnished  \n",
       "3        furnished  \n",
       "4        furnished  "
      ]
     },
     "execution_count": 30,
     "metadata": {},
     "output_type": "execute_result"
    }
   ],
   "source": [
    "mapVars = ['mainroad', 'guestroom', 'hotwaterheating', 'basement', 'airconditioning', 'prefarea']\n",
    "\n",
    "def binaryMap(x):\n",
    "    return x.map({\"yes\" : 1, \"no\" : 0})\n",
    "\n",
    "housingData[mapVars] = housingData[mapVars].apply(binaryMap)\n",
    "\n",
    "housingData.head()"
   ]
  },
  {
   "cell_type": "markdown",
   "id": "3db8927c",
   "metadata": {},
   "source": [
    "The following datapoints will be used for the model:\n",
    "- Area\n",
    "- Bedrooms\n",
    "- Bathrooms\n",
    "- Stories\n",
    "- Mainroad \n",
    "- Guestroom\n",
    "- Basement\n",
    "- Hotwaterheating\n",
    "- Airconditioning\n",
    "- Parking\n",
    "- Prefarea"
   ]
  },
  {
   "cell_type": "code",
   "execution_count": 31,
   "id": "2392197c",
   "metadata": {},
   "outputs": [
    {
     "name": "stdout",
     "output_type": "stream",
     "text": [
      "[[ 7420     4     2     3     1     0     0     0     1     2     1]\n",
      " [ 8960     4     4     4     1     0     0     0     1     3     0]\n",
      " [ 9960     3     2     2     1     0     1     0     0     2     1]\n",
      " [ 7500     4     2     2     1     0     1     0     1     3     1]\n",
      " [ 7420     4     1     2     1     1     1     0     1     2     0]\n",
      " [ 7500     3     3     1     1     0     1     0     1     2     1]\n",
      " [ 8580     4     3     4     1     0     0     0     1     2     1]\n",
      " [16200     5     3     2     1     0     0     0     0     0     0]\n",
      " [ 8100     4     1     2     1     1     1     0     1     2     1]\n",
      " [ 5750     3     2     4     1     1     0     0     1     1     1]]\n",
      "[13300000 12250000 12250000 12215000 11410000 10850000 10150000 10150000\n",
      "  9870000  9800000]\n"
     ]
    }
   ],
   "source": [
    "model_vars = ['price','area', 'bedrooms', 'bathrooms', 'stories', 'mainroad', 'guestroom', 'basement', 'hotwaterheating', 'airconditioning', 'parking', 'prefarea']\n",
    "\n",
    "data = housingData[model_vars]\n",
    "data.tail()\n",
    "\n",
    "X = data.iloc[:,1:13].values\n",
    "print(X[:10])\n",
    "\n",
    "Y = data.iloc[:,0].values\n",
    "print(Y[:10])"
   ]
  },
  {
   "cell_type": "markdown",
   "id": "2eed255a",
   "metadata": {},
   "source": [
    "## Using an RBF Kernel"
   ]
  },
  {
   "cell_type": "code",
   "execution_count": 48,
   "id": "8b2653ff",
   "metadata": {},
   "outputs": [
    {
     "name": "stdout",
     "output_type": "stream",
     "text": [
      "1\n"
     ]
    },
    {
     "data": {
      "image/png": "[encoded data removed]",
      "text/plain": [
       "<Figure size 432x288 with 1 Axes>"
      ]
     },
     "metadata": {
      "needs_background": "light"
     },
     "output_type": "display_data"
    }
   ],
   "source": [
    "classifierRBF = SVR(kernel='rbf', C=1E3, gamma=0.1)\n",
    "classifierLin = SVR(kernel='linear', C=1e3)\n",
    "classifierPoly = SVR(kernel='poly', C=1e3, degree=2)\n",
    "\n",
    "\n",
    "N = 1\n",
    "#prob2Accuracy.append([N,1])\n",
    "pca = PCA(N)\n",
    "XPCA = pca.fit_transform(X)\n",
    "\n",
    "X_train, X_test, Y_train, Y_test = train_test_split(XPCA, Y, test_size = 0.2, random_state = 1, shuffle = True)\n",
    "print(N)\n",
    "Y_pred_RBF = classifierRBF.fit(X_train, np.ravel(Y_train)).predict(X_test)\n",
    "Y_pred_Lin = classifierLin.fit(X_train, np.ravel(Y_train)).predict(X_test)\n",
    "Y_pred_Poly = classifierPoly.fit(X_train, np.ravel(Y_train)).predict(X_test)\n",
    "accuracy = 1\n",
    "\n",
    "lw = 2 \n",
    "plt.scatter(X_test, Y_test, color='darkorange', label='data') \n",
    "plt.plot(X_test, Y_pred_RBF, color='navy', lw=lw, label='RBF model') \n",
    "plt.plot(X_test, Y_pred_Lin, color='c', lw=lw, label='Linear model') \n",
    "plt.plot(X_test, Y_pred_Poly, color='cornflowerblue', lw=lw, label='Polynomial model') \n",
    "plt.xlabel('data') \n",
    "plt.ylabel('target') \n",
    "plt.title('Support Vector Regression') \n",
    "plt.legend() \n",
    "plt.show()\n",
    "\n",
    "prob2Data.append([N,accuracy])    "
   ]
  },
  {
   "cell_type": "code",
   "execution_count": 52,
   "id": "acfda23c",
   "metadata": {},
   "outputs": [
    {
     "name": "stdout",
     "output_type": "stream",
     "text": [
      "11\n",
      "10\n",
      "9\n",
      "8\n",
      "7\n",
      "6\n",
      "5\n",
      "4\n",
      "3\n",
      "2\n",
      "1\n"
     ]
    }
   ],
   "source": [
    "ErrorData = []\n",
    "for i in range(11,0,-1):\n",
    "    N = i\n",
    "    #prob2Accuracy.append([N,1])\n",
    "    pca = PCA(N)\n",
    "    XPCA = pca.fit_transform(X)\n",
    "\n",
    "    X_train, X_test, Y_train, Y_test = train_test_split(XPCA, Y, test_size = 0.2, random_state = 1, shuffle = True)\n",
    "    print(N)\n",
    "    Y_pred_RBF = classifierRBF.fit(X_train, np.ravel(Y_train)).predict(X_test)\n",
    "    Y_pred_Lin = classifierLin.fit(X_train, np.ravel(Y_train)).predict(X_test)\n",
    "    Y_pred_Poly = classifierPoly.fit(X_train, np.ravel(Y_train)).predict(X_test)\n",
    "    \n",
    "    errorRBF = mean_squared_error(Y_test, Y_pred_RBF)\n",
    "    errorLin = mean_squared_error(Y_test, Y_pred_Lin)\n",
    "    errorPoly = mean_squared_error(Y_test, Y_pred_Poly)\n",
    "\n",
    "    ErrorData.append([N,errorRBF, errorLin, errorPoly])    "
   ]
  },
  {
   "cell_type": "code",
   "execution_count": 54,
   "id": "009d340e",
   "metadata": {},
   "outputs": [],
   "source": [
    "#function to get specific items from lists\n",
    "def Extract(lst, i):\n",
    "    return [item[i] for item in lst]"
   ]
  },
  {
   "cell_type": "code",
   "execution_count": 56,
   "id": "38ed81ff",
   "metadata": {},
   "outputs": [
    {
     "data": {
      "image/png": "[encoded data removed]",
      "text/plain": [
       "<Figure size 432x288 with 1 Axes>"
      ]
     },
     "metadata": {
      "needs_background": "light"
     },
     "output_type": "display_data"
    }
   ],
   "source": [
    "N_Values = Extract(ErrorData,0)\n",
    "RBF_Values = Extract(ErrorData,1)\n",
    "\n",
    "plt.plot(N_Values, RBF_Values, linewidth=3)\n",
    "plt.title(\"Mean Squared Error of RBF using different PCA N values\", fontsize=13)\n",
    "plt.xlabel(\"N Value\", fontsize=10)\n",
    "plt.ylabel(\"Error\", fontsize=10)\n",
    "plt.tick_params(axis='both', labelsize=9)\n",
    "\n",
    "plt.show()"
   ]
  },
  {
   "cell_type": "code",
   "execution_count": 57,
   "id": "4cb7ac40",
   "metadata": {},
   "outputs": [
    {
     "data": {
      "image/png": "[encoded data removed]",
      "text/plain": [
       "<Figure size 432x288 with 1 Axes>"
      ]
     },
     "metadata": {
      "needs_background": "light"
     },
     "output_type": "display_data"
    }
   ],
   "source": [
    "N_Values = Extract(ErrorData,0)\n",
    "Lin_Values = Extract(ErrorData,2)\n",
    "\n",
    "plt.plot(N_Values, Lin_Values, linewidth=3)\n",
    "plt.title(\"Mean Squared Error of Linear using different PCA N values\", fontsize=13)\n",
    "plt.xlabel(\"N Value\", fontsize=10)\n",
    "plt.ylabel(\"Error\", fontsize=10)\n",
    "plt.tick_params(axis='both', labelsize=9)\n",
    "\n",
    "plt.show()"
   ]
  },
  {
   "cell_type": "code",
   "execution_count": 58,
   "id": "2a1a411f",
   "metadata": {},
   "outputs": [
    {
     "data": {
      "image/png": "[encoded data removed]",
      "text/plain": [
       "<Figure size 432x288 with 1 Axes>"
      ]
     },
     "metadata": {
      "needs_background": "light"
     },
     "output_type": "display_data"
    }
   ],
   "source": [
    "N_Values = Extract(ErrorData,0)\n",
    "Poly_Values = Extract(ErrorData,1)\n",
    "\n",
    "plt.plot(N_Values, Poly_Values, linewidth=3)\n",
    "plt.title(\"Mean Squared Error of Poly using different PCA N values\", fontsize=13)\n",
    "plt.xlabel(\"N Value\", fontsize=10)\n",
    "plt.ylabel(\"Error\", fontsize=10)\n",
    "plt.tick_params(axis='both', labelsize=9)\n",
    "\n",
    "plt.show()"
   ]
  },
  {
   "cell_type": "code",
   "execution_count": null,
   "id": "b52a9195",
   "metadata": {},
   "outputs": [],
   "source": []
  }
 ],
 "metadata": {
  "kernelspec": {
   "display_name": "Python 3",
   "language": "python",
   "name": "python3"
  },
  "language_info": {
   "codemirror_mode": {
    "name": "ipython",
    "version": 3
   },
   "file_extension": ".py",
   "mimetype": "text/x-python",
   "name": "python",
   "nbconvert_exporter": "python",
   "pygments_lexer": "ipython3",
   "version": "3.8.8"
  }
 },
 "nbformat": 4,
 "nbformat_minor": 5
}
