{
 "cells": [
  {
   "cell_type": "markdown",
   "id": "a558546f",
   "metadata": {},
   "source": [
    "# Intro to Machine Learning Final Project\n",
    "\n",
    "### Bryce Readyhough \n",
    "### Robert Carter-Barkman"
   ]
  },
  {
   "cell_type": "code",
   "execution_count": 1,
   "id": "a7446458",
   "metadata": {},
   "outputs": [],
   "source": [
    "import numpy as np\n",
    "import matplotlib.pyplot as plt\n",
    "import pandas as pd\n",
    "from sklearn.decomposition import PCA\n",
    "from sklearn.linear_model import LogisticRegression\n",
    "from sklearn.metrics import confusion_matrix\n",
    "from sklearn import metrics\n",
    "from sklearn.model_selection import train_test_split\n",
    "from sklearn.svm import SVC\n",
    "from sklearn.model_selection import KFold\n",
    "from sklearn.model_selection import cross_validate\n",
    "import statistics"
   ]
  },
  {
   "cell_type": "markdown",
   "id": "5b313bb1",
   "metadata": {},
   "source": [
    "Loading in the dataset and displaying the first few rows"
   ]
  },
  {
   "cell_type": "code",
   "execution_count": 2,
   "id": "52f9dd8a",
   "metadata": {},
   "outputs": [],
   "source": [
    "dataset = pd.read_csv(\"Breast_GSE70947.csv\")"
   ]
  },
  {
   "cell_type": "code",
   "execution_count": 3,
   "id": "7c444f0e",
   "metadata": {},
   "outputs": [
    {
     "data": {
      "text/plain": [
       "(289, 35983)"
      ]
     },
     "execution_count": 3,
     "metadata": {},
     "output_type": "execute_result"
    }
   ],
   "source": [
    "dataset.shape"
   ]
  },
  {
   "cell_type": "code",
   "execution_count": 4,
   "id": "9e0161b9",
   "metadata": {},
   "outputs": [
    {
     "data": {
      "text/html": [
       "<div>\n",
       "<style scoped>\n",
       "    .dataframe tbody tr th:only-of-type {\n",
       "        vertical-align: middle;\n",
       "    }\n",
       "\n",
       "    .dataframe tbody tr th {\n",
       "        vertical-align: top;\n",
       "    }\n",
       "\n",
       "    .dataframe thead th {\n",
       "        text-align: right;\n",
       "    }\n",
       "</style>\n",
       "<table border=\"1\" class=\"dataframe\">\n",
       "  <thead>\n",
       "    <tr style=\"text-align: right;\">\n",
       "      <th></th>\n",
       "      <th>samples</th>\n",
       "      <th>type</th>\n",
       "      <th>NM_144987</th>\n",
       "      <th>NM_013290</th>\n",
       "      <th>ENST00000322831</th>\n",
       "      <th>NM_001625</th>\n",
       "      <th>lincRNA:chr7:226042-232442_R</th>\n",
       "      <th>NM_032391</th>\n",
       "      <th>ENST00000238571</th>\n",
       "      <th>XR_108906</th>\n",
       "      <th>...</th>\n",
       "      <th>lincRNA:chr4:77860976-77869926_F</th>\n",
       "      <th>NM_152343</th>\n",
       "      <th>NM_001005327</th>\n",
       "      <th>NM_001039355</th>\n",
       "      <th>lincRNA:chr21:44456656-44468556_R</th>\n",
       "      <th>lincRNA:chr9:4869500-4896050_F</th>\n",
       "      <th>NM_016053</th>\n",
       "      <th>NM_001080425</th>\n",
       "      <th>ENST00000555638</th>\n",
       "      <th>ENST00000508993</th>\n",
       "    </tr>\n",
       "  </thead>\n",
       "  <tbody>\n",
       "    <tr>\n",
       "      <th>0</th>\n",
       "      <td>GSM1823702_252800417016_S01_GE1_107_Sep09_1_2</td>\n",
       "      <td>normal</td>\n",
       "      <td>8.693318</td>\n",
       "      <td>7.718016</td>\n",
       "      <td>6.044438</td>\n",
       "      <td>10.747077</td>\n",
       "      <td>9.133777</td>\n",
       "      <td>4.735581</td>\n",
       "      <td>5.634732</td>\n",
       "      <td>4.670231</td>\n",
       "      <td>...</td>\n",
       "      <td>7.570363</td>\n",
       "      <td>6.368684</td>\n",
       "      <td>4.784042</td>\n",
       "      <td>10.747723</td>\n",
       "      <td>5.090500</td>\n",
       "      <td>5.994149</td>\n",
       "      <td>10.649336</td>\n",
       "      <td>8.969439</td>\n",
       "      <td>4.985693</td>\n",
       "      <td>5.090500</td>\n",
       "    </tr>\n",
       "    <tr>\n",
       "      <th>1</th>\n",
       "      <td>GSM1823703_252800417016_S01_GE1_107_Sep09_2_1</td>\n",
       "      <td>normal</td>\n",
       "      <td>9.375980</td>\n",
       "      <td>7.072232</td>\n",
       "      <td>6.976741</td>\n",
       "      <td>10.429671</td>\n",
       "      <td>9.526500</td>\n",
       "      <td>5.221089</td>\n",
       "      <td>5.425187</td>\n",
       "      <td>4.860931</td>\n",
       "      <td>...</td>\n",
       "      <td>7.903335</td>\n",
       "      <td>5.713115</td>\n",
       "      <td>4.421074</td>\n",
       "      <td>11.299200</td>\n",
       "      <td>4.447052</td>\n",
       "      <td>4.421074</td>\n",
       "      <td>10.746854</td>\n",
       "      <td>8.174489</td>\n",
       "      <td>4.464177</td>\n",
       "      <td>4.536891</td>\n",
       "    </tr>\n",
       "    <tr>\n",
       "      <th>2</th>\n",
       "      <td>GSM1823704_252800416877_S01_GE1_107_Sep09_2_3</td>\n",
       "      <td>normal</td>\n",
       "      <td>8.943442</td>\n",
       "      <td>7.964573</td>\n",
       "      <td>6.269055</td>\n",
       "      <td>10.825025</td>\n",
       "      <td>9.396855</td>\n",
       "      <td>5.258506</td>\n",
       "      <td>5.824921</td>\n",
       "      <td>4.964604</td>\n",
       "      <td>...</td>\n",
       "      <td>7.705765</td>\n",
       "      <td>6.595364</td>\n",
       "      <td>4.410870</td>\n",
       "      <td>10.576807</td>\n",
       "      <td>5.003699</td>\n",
       "      <td>6.529257</td>\n",
       "      <td>10.430034</td>\n",
       "      <td>8.473468</td>\n",
       "      <td>4.668447</td>\n",
       "      <td>5.084127</td>\n",
       "    </tr>\n",
       "    <tr>\n",
       "      <th>3</th>\n",
       "      <td>GSM1823705_252800416894_S01_GE1_107_Sep09_1_1</td>\n",
       "      <td>normal</td>\n",
       "      <td>9.020798</td>\n",
       "      <td>7.824639</td>\n",
       "      <td>6.165165</td>\n",
       "      <td>11.646788</td>\n",
       "      <td>8.776462</td>\n",
       "      <td>4.648655</td>\n",
       "      <td>6.676692</td>\n",
       "      <td>4.770186</td>\n",
       "      <td>...</td>\n",
       "      <td>6.633058</td>\n",
       "      <td>5.786781</td>\n",
       "      <td>4.572984</td>\n",
       "      <td>11.175090</td>\n",
       "      <td>4.990888</td>\n",
       "      <td>6.669871</td>\n",
       "      <td>11.110395</td>\n",
       "      <td>8.880818</td>\n",
       "      <td>4.537626</td>\n",
       "      <td>4.648655</td>\n",
       "    </tr>\n",
       "    <tr>\n",
       "      <th>4</th>\n",
       "      <td>GSM1823706_252800416894_S01_GE1_107_Sep09_1_3</td>\n",
       "      <td>normal</td>\n",
       "      <td>8.806154</td>\n",
       "      <td>7.555348</td>\n",
       "      <td>6.230969</td>\n",
       "      <td>11.635247</td>\n",
       "      <td>8.911383</td>\n",
       "      <td>4.518054</td>\n",
       "      <td>6.520691</td>\n",
       "      <td>4.540453</td>\n",
       "      <td>...</td>\n",
       "      <td>6.211581</td>\n",
       "      <td>5.538635</td>\n",
       "      <td>4.613828</td>\n",
       "      <td>12.014365</td>\n",
       "      <td>4.979883</td>\n",
       "      <td>6.414621</td>\n",
       "      <td>10.909805</td>\n",
       "      <td>9.526500</td>\n",
       "      <td>4.670490</td>\n",
       "      <td>4.613828</td>\n",
       "    </tr>\n",
       "  </tbody>\n",
       "</table>\n",
       "<p>5 rows × 35983 columns</p>\n",
       "</div>"
      ],
      "text/plain": [
       "                                         samples    type  NM_144987  \\\n",
       "0  GSM1823702_252800417016_S01_GE1_107_Sep09_1_2  normal   8.693318   \n",
       "1  GSM1823703_252800417016_S01_GE1_107_Sep09_2_1  normal   9.375980   \n",
       "2  GSM1823704_252800416877_S01_GE1_107_Sep09_2_3  normal   8.943442   \n",
       "3  GSM1823705_252800416894_S01_GE1_107_Sep09_1_1  normal   9.020798   \n",
       "4  GSM1823706_252800416894_S01_GE1_107_Sep09_1_3  normal   8.806154   \n",
       "\n",
       "   NM_013290  ENST00000322831  NM_001625  lincRNA:chr7:226042-232442_R  \\\n",
       "0   7.718016         6.044438  10.747077                      9.133777   \n",
       "1   7.072232         6.976741  10.429671                      9.526500   \n",
       "2   7.964573         6.269055  10.825025                      9.396855   \n",
       "3   7.824639         6.165165  11.646788                      8.776462   \n",
       "4   7.555348         6.230969  11.635247                      8.911383   \n",
       "\n",
       "   NM_032391  ENST00000238571  XR_108906  ...  \\\n",
       "0   4.735581         5.634732   4.670231  ...   \n",
       "1   5.221089         5.425187   4.860931  ...   \n",
       "2   5.258506         5.824921   4.964604  ...   \n",
       "3   4.648655         6.676692   4.770186  ...   \n",
       "4   4.518054         6.520691   4.540453  ...   \n",
       "\n",
       "   lincRNA:chr4:77860976-77869926_F  NM_152343  NM_001005327  NM_001039355  \\\n",
       "0                          7.570363   6.368684      4.784042     10.747723   \n",
       "1                          7.903335   5.713115      4.421074     11.299200   \n",
       "2                          7.705765   6.595364      4.410870     10.576807   \n",
       "3                          6.633058   5.786781      4.572984     11.175090   \n",
       "4                          6.211581   5.538635      4.613828     12.014365   \n",
       "\n",
       "   lincRNA:chr21:44456656-44468556_R  lincRNA:chr9:4869500-4896050_F  \\\n",
       "0                           5.090500                        5.994149   \n",
       "1                           4.447052                        4.421074   \n",
       "2                           5.003699                        6.529257   \n",
       "3                           4.990888                        6.669871   \n",
       "4                           4.979883                        6.414621   \n",
       "\n",
       "   NM_016053  NM_001080425  ENST00000555638  ENST00000508993  \n",
       "0  10.649336      8.969439         4.985693         5.090500  \n",
       "1  10.746854      8.174489         4.464177         4.536891  \n",
       "2  10.430034      8.473468         4.668447         5.084127  \n",
       "3  11.110395      8.880818         4.537626         4.648655  \n",
       "4  10.909805      9.526500         4.670490         4.613828  \n",
       "\n",
       "[5 rows x 35983 columns]"
      ]
     },
     "execution_count": 4,
     "metadata": {},
     "output_type": "execute_result"
    }
   ],
   "source": [
    "dataset.head()"
   ]
  },
  {
   "cell_type": "code",
   "execution_count": 5,
   "id": "dcaff949",
   "metadata": {},
   "outputs": [],
   "source": [
    "mapVars = ['type']\n",
    "\n",
    "def binaryMap(x):\n",
    "    return x.map({\"breast_adenocarcinoma\" : 1, \"normal\" : 0})\n",
    "\n",
    "dataset[mapVars] = dataset[mapVars].apply(binaryMap)"
   ]
  },
  {
   "cell_type": "code",
   "execution_count": 6,
   "id": "b988df3b",
   "metadata": {},
   "outputs": [
    {
     "name": "stdout",
     "output_type": "stream",
     "text": [
      "[[8.69331779 7.71801596 6.04443769 ... 8.96943885 4.98569278 5.09049955]\n",
      " [9.37597965 7.07223164 6.97674149 ... 8.17448935 4.46417694 4.53689133]]\n",
      "[0 0]\n"
     ]
    }
   ],
   "source": [
    "XVals = dataset.iloc[:,2:35984].values\n",
    "print(XVals[:2])\n",
    "YVals = dataset.iloc[:,1].values\n",
    "print(YVals[:2])"
   ]
  },
  {
   "cell_type": "code",
   "execution_count": 7,
   "id": "118e2288",
   "metadata": {},
   "outputs": [],
   "source": [
    "principalComponents = PCA(50).fit_transform(XVals)"
   ]
  },
  {
   "cell_type": "code",
   "execution_count": 8,
   "id": "d60a72d8",
   "metadata": {},
   "outputs": [],
   "source": [
    "X_train, X_test, Y_train, Y_test = train_test_split(principalComponents, YVals, test_size = 0.2, random_state = 1, shuffle = True)"
   ]
  },
  {
   "cell_type": "code",
   "execution_count": 9,
   "id": "db9fa5e3",
   "metadata": {},
   "outputs": [
    {
     "data": {
      "text/plain": [
       "SVC(C=10000000000.0)"
      ]
     },
     "execution_count": 9,
     "metadata": {},
     "output_type": "execute_result"
    }
   ],
   "source": [
    "classifier = SVC(kernel='rbf', C=1E10)\n",
    "classifier.fit(X_train, np.ravel(Y_train))"
   ]
  },
  {
   "cell_type": "code",
   "execution_count": 10,
   "id": "8414ff60",
   "metadata": {},
   "outputs": [],
   "source": [
    "Y_pred = classifier.predict(X_test)"
   ]
  },
  {
   "cell_type": "code",
   "execution_count": 11,
   "id": "9fdf1da6",
   "metadata": {},
   "outputs": [
    {
     "name": "stdout",
     "output_type": "stream",
     "text": [
      "[[23  3]\n",
      " [ 4 28]]\n",
      "Accuracy: 0.8793103448275862\n",
      "precisison: 0.9032258064516129\n",
      "Recall: 0.875\n"
     ]
    }
   ],
   "source": [
    "cnf_matrix = confusion_matrix(Y_test, Y_pred)\n",
    "print(cnf_matrix)\n",
    "accuracy = metrics.accuracy_score(Y_test, Y_pred)\n",
    "precisison = metrics.precision_score(Y_test, Y_pred)\n",
    "recall = metrics.recall_score(Y_test, Y_pred)\n",
    "print(\"Accuracy: \" + str(accuracy))\n",
    "print(\"precisison: \" + str(precisison))\n",
    "print(\"Recall: \" + str(recall))"
   ]
  },
  {
   "cell_type": "code",
   "execution_count": 12,
   "id": "8a17b4e2",
   "metadata": {},
   "outputs": [
    {
     "data": {
      "text/plain": [
       "SVC(C=1000000000.0, kernel='poly')"
      ]
     },
     "execution_count": 12,
     "metadata": {},
     "output_type": "execute_result"
    }
   ],
   "source": [
    "classifier = SVC(kernel='poly', C=1E9)\n",
    "classifier.fit(X_train, np.ravel(Y_train))"
   ]
  },
  {
   "cell_type": "code",
   "execution_count": 13,
   "id": "af00f469",
   "metadata": {},
   "outputs": [],
   "source": [
    "Y_pred = classifier.predict(X_test)"
   ]
  },
  {
   "cell_type": "code",
   "execution_count": 14,
   "id": "f2fbb1b6",
   "metadata": {},
   "outputs": [
    {
     "name": "stdout",
     "output_type": "stream",
     "text": [
      "[[20  6]\n",
      " [ 4 28]]\n",
      "Accuracy: 0.8275862068965517\n",
      "precisison: 0.8235294117647058\n",
      "Recall: 0.875\n"
     ]
    }
   ],
   "source": [
    "cnf_matrix = confusion_matrix(Y_test, Y_pred)\n",
    "print(cnf_matrix)\n",
    "accuracy = metrics.accuracy_score(Y_test, Y_pred)\n",
    "precisison = metrics.precision_score(Y_test, Y_pred)\n",
    "recall = metrics.recall_score(Y_test, Y_pred)\n",
    "print(\"Accuracy: \" + str(accuracy))\n",
    "print(\"precisison: \" + str(precisison))\n",
    "print(\"Recall: \" + str(recall))"
   ]
  },
  {
   "cell_type": "code",
   "execution_count": 15,
   "id": "42230e1f",
   "metadata": {},
   "outputs": [
    {
     "data": {
      "text/plain": [
       "SVC(C=10000000000.0, kernel='linear')"
      ]
     },
     "execution_count": 15,
     "metadata": {},
     "output_type": "execute_result"
    }
   ],
   "source": [
    "classifier = SVC(kernel='linear', C=1E10)\n",
    "classifier.fit(X_train, np.ravel(Y_train))"
   ]
  },
  {
   "cell_type": "code",
   "execution_count": 16,
   "id": "30d66ed2",
   "metadata": {},
   "outputs": [],
   "source": [
    "Y_pred = classifier.predict(X_test)"
   ]
  },
  {
   "cell_type": "code",
   "execution_count": 17,
   "id": "5b60a2d3",
   "metadata": {},
   "outputs": [
    {
     "name": "stdout",
     "output_type": "stream",
     "text": [
      "[[21  5]\n",
      " [ 3 29]]\n",
      "Accuracy: 0.8620689655172413\n",
      "precisison: 0.8529411764705882\n",
      "Recall: 0.90625\n"
     ]
    }
   ],
   "source": [
    "cnf_matrix = confusion_matrix(Y_test, Y_pred)\n",
    "print(cnf_matrix)\n",
    "accuracy = metrics.accuracy_score(Y_test, Y_pred)\n",
    "precisison = metrics.precision_score(Y_test, Y_pred)\n",
    "recall = metrics.recall_score(Y_test, Y_pred)\n",
    "print(\"Accuracy: \" + str(accuracy))\n",
    "print(\"precisison: \" + str(precisison))\n",
    "print(\"Recall: \" + str(recall))"
   ]
  },
  {
   "cell_type": "code",
   "execution_count": 18,
   "id": "179d5909",
   "metadata": {},
   "outputs": [
    {
     "name": "stdout",
     "output_type": "stream",
     "text": [
      "{'fit_time': array([1.68629932, 2.21788859, 1.99985147, 1.89033461, 2.00485182,\n",
      "       2.1028676 , 1.7783134 , 2.10086942, 2.09686995, 2.12087369]), 'score_time': array([0.12501907, 0.06301117, 0.18203092, 0.13952088, 0.18053055,\n",
      "       0.14002562, 0.13752747, 0.130023  , 0.1400249 , 0.11752057]), 'test_accuracy': array([0.89655172, 0.86206897, 0.96551724, 0.89655172, 0.93103448,\n",
      "       0.93103448, 0.86206897, 0.96551724, 0.89655172, 0.92857143]), 'test_precision': array([0.8       , 1.        , 1.        , 1.        , 0.90909091,\n",
      "       1.        , 1.        , 1.        , 0.83333333, 1.        ]), 'test_recall': array([1.        , 0.8       , 0.92857143, 0.8125    , 0.90909091,\n",
      "       0.88235294, 0.75      , 0.91666667, 0.90909091, 0.85714286])}\n"
     ]
    }
   ],
   "source": [
    "KFoldsClassifier = SVC(kernel='poly', C=1E9)\n",
    "\n",
    "evalMetrics = ['accuracy', 'precision', 'recall']\n",
    "K5Folds = KFold(n_splits=10, random_state=1, shuffle=True)\n",
    "Scores = cross_validate(KFoldsClassifier, XVals, YVals, scoring=evalMetrics, cv=K5Folds, n_jobs=-1)\n",
    "\n",
    "print(Scores)"
   ]
  },
  {
   "cell_type": "code",
   "execution_count": 19,
   "id": "dae3bd10",
   "metadata": {},
   "outputs": [
    {
     "data": {
      "text/plain": [
       "['fit_time', 'score_time', 'test_accuracy', 'test_precision', 'test_recall']"
      ]
     },
     "execution_count": 19,
     "metadata": {},
     "output_type": "execute_result"
    }
   ],
   "source": [
    "sorted(Scores)"
   ]
  },
  {
   "cell_type": "code",
   "execution_count": 20,
   "id": "1dd046fc",
   "metadata": {},
   "outputs": [
    {
     "name": "stdout",
     "output_type": "stream",
     "text": [
      "Accuracy: 0.9135467980295566\n",
      "Precision: 0.9542424242424242\n",
      "Recall: 0.8765415711739241\n"
     ]
    }
   ],
   "source": [
    "import statistics\n",
    "\n",
    "KFoldsAccuracy = statistics.mean(Scores['test_accuracy'])\n",
    "KFoldsPrecision = statistics.mean(Scores['test_precision'])\n",
    "KFoldsRecall = statistics.mean(Scores['test_recall'])\n",
    "\n",
    "print(\"Accuracy:\",KFoldsAccuracy) \n",
    "print(\"Precision:\",KFoldsPrecision) \n",
    "print(\"Recall:\",KFoldsRecall)"
   ]
  },
  {
   "cell_type": "code",
   "execution_count": null,
   "id": "2bf0d052",
   "metadata": {},
   "outputs": [],
   "source": []
  }
 ],
 "metadata": {
  "kernelspec": {
   "display_name": "Python 3",
   "language": "python",
   "name": "python3"
  },
  "language_info": {
   "codemirror_mode": {
    "name": "ipython",
    "version": 3
   },
   "file_extension": ".py",
   "mimetype": "text/x-python",
   "name": "python",
   "nbconvert_exporter": "python",
   "pygments_lexer": "ipython3",
   "version": "3.8.8"
  }
 },
 "nbformat": 4,
 "nbformat_minor": 5
}
