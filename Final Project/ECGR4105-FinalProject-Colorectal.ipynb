{
 "cells": [
  {
   "cell_type": "markdown",
   "id": "a558546f",
   "metadata": {},
   "source": [
    "# Intro to Machine Learning Final Project\n",
    "\n",
    "### Bryce Readyhough \n",
    "### Robert Carter-Barkman"
   ]
  },
  {
   "cell_type": "code",
   "execution_count": 1,
   "id": "a7446458",
   "metadata": {},
   "outputs": [],
   "source": [
    "import numpy as np\n",
    "import matplotlib.pyplot as plt\n",
    "import pandas as pd\n",
    "from sklearn.decomposition import PCA\n",
    "from sklearn.linear_model import LogisticRegression\n",
    "from sklearn.metrics import confusion_matrix\n",
    "from sklearn import metrics\n",
    "from sklearn.model_selection import train_test_split\n",
    "from sklearn.svm import SVC\n",
    "from sklearn.model_selection import KFold\n",
    "from sklearn.model_selection import cross_validate\n",
    "import statistics"
   ]
  },
  {
   "cell_type": "markdown",
   "id": "5b313bb1",
   "metadata": {},
   "source": [
    "Loading in the dataset and displaying the first few rows"
   ]
  },
  {
   "cell_type": "code",
   "execution_count": 2,
   "id": "52f9dd8a",
   "metadata": {},
   "outputs": [],
   "source": [
    "dataset = pd.read_csv(\"Colorectal_GSE44076.csv\")"
   ]
  },
  {
   "cell_type": "code",
   "execution_count": 3,
   "id": "7c444f0e",
   "metadata": {},
   "outputs": [
    {
     "data": {
      "text/plain": [
       "(194, 49388)"
      ]
     },
     "execution_count": 3,
     "metadata": {},
     "output_type": "execute_result"
    }
   ],
   "source": [
    "dataset.shape"
   ]
  },
  {
   "cell_type": "code",
   "execution_count": 4,
   "id": "9e0161b9",
   "metadata": {},
   "outputs": [
    {
     "data": {
      "text/html": [
       "<div>\n",
       "<style scoped>\n",
       "    .dataframe tbody tr th:only-of-type {\n",
       "        vertical-align: middle;\n",
       "    }\n",
       "\n",
       "    .dataframe tbody tr th {\n",
       "        vertical-align: top;\n",
       "    }\n",
       "\n",
       "    .dataframe thead th {\n",
       "        text-align: right;\n",
       "    }\n",
       "</style>\n",
       "<table border=\"1\" class=\"dataframe\">\n",
       "  <thead>\n",
       "    <tr style=\"text-align: right;\">\n",
       "      <th></th>\n",
       "      <th>samples</th>\n",
       "      <th>type</th>\n",
       "      <th>11715100_at</th>\n",
       "      <th>11715101_s_at</th>\n",
       "      <th>11715102_x_at</th>\n",
       "      <th>11715103_x_at</th>\n",
       "      <th>11715104_s_at</th>\n",
       "      <th>11715105_at</th>\n",
       "      <th>11715106_x_at</th>\n",
       "      <th>11715107_s_at</th>\n",
       "      <th>...</th>\n",
       "      <th>AFFX-r2-TagO-3_at</th>\n",
       "      <th>AFFX-r2-TagO-5_at</th>\n",
       "      <th>AFFX-r2-TagQ-3_at</th>\n",
       "      <th>AFFX-r2-TagQ-5_at</th>\n",
       "      <th>AFFX-ThrX-3_at</th>\n",
       "      <th>AFFX-ThrX-5_at</th>\n",
       "      <th>AFFX-ThrX-M_at</th>\n",
       "      <th>AFFX-TrpnX-3_at</th>\n",
       "      <th>AFFX-TrpnX-5_at</th>\n",
       "      <th>AFFX-TrpnX-M_at</th>\n",
       "    </tr>\n",
       "  </thead>\n",
       "  <tbody>\n",
       "    <tr>\n",
       "      <th>189</th>\n",
       "      <td>839</td>\n",
       "      <td>adenocarcinoma</td>\n",
       "      <td>2.949097</td>\n",
       "      <td>3.986188</td>\n",
       "      <td>3.269828</td>\n",
       "      <td>4.364195</td>\n",
       "      <td>2.962831</td>\n",
       "      <td>2.205185</td>\n",
       "      <td>2.573192</td>\n",
       "      <td>2.477530</td>\n",
       "      <td>...</td>\n",
       "      <td>1.818492</td>\n",
       "      <td>2.331696</td>\n",
       "      <td>2.409947</td>\n",
       "      <td>2.085928</td>\n",
       "      <td>6.934090</td>\n",
       "      <td>4.980856</td>\n",
       "      <td>5.952154</td>\n",
       "      <td>2.115150</td>\n",
       "      <td>1.987921</td>\n",
       "      <td>2.199241</td>\n",
       "    </tr>\n",
       "    <tr>\n",
       "      <th>190</th>\n",
       "      <td>840</td>\n",
       "      <td>adenocarcinoma</td>\n",
       "      <td>2.667807</td>\n",
       "      <td>3.916853</td>\n",
       "      <td>2.835128</td>\n",
       "      <td>3.335915</td>\n",
       "      <td>2.549352</td>\n",
       "      <td>2.070472</td>\n",
       "      <td>2.900022</td>\n",
       "      <td>2.370676</td>\n",
       "      <td>...</td>\n",
       "      <td>2.152947</td>\n",
       "      <td>2.166213</td>\n",
       "      <td>2.254691</td>\n",
       "      <td>2.047614</td>\n",
       "      <td>7.078561</td>\n",
       "      <td>5.036520</td>\n",
       "      <td>5.890267</td>\n",
       "      <td>1.951415</td>\n",
       "      <td>2.212261</td>\n",
       "      <td>2.019528</td>\n",
       "    </tr>\n",
       "    <tr>\n",
       "      <th>191</th>\n",
       "      <td>841</td>\n",
       "      <td>adenocarcinoma</td>\n",
       "      <td>3.280977</td>\n",
       "      <td>4.412883</td>\n",
       "      <td>3.490449</td>\n",
       "      <td>3.443940</td>\n",
       "      <td>2.907395</td>\n",
       "      <td>2.170415</td>\n",
       "      <td>2.843549</td>\n",
       "      <td>2.488809</td>\n",
       "      <td>...</td>\n",
       "      <td>1.896274</td>\n",
       "      <td>2.438472</td>\n",
       "      <td>2.198505</td>\n",
       "      <td>2.270089</td>\n",
       "      <td>6.521763</td>\n",
       "      <td>4.352320</td>\n",
       "      <td>5.219437</td>\n",
       "      <td>2.146429</td>\n",
       "      <td>2.131785</td>\n",
       "      <td>2.041606</td>\n",
       "    </tr>\n",
       "    <tr>\n",
       "      <th>192</th>\n",
       "      <td>842</td>\n",
       "      <td>adenocarcinoma</td>\n",
       "      <td>4.870618</td>\n",
       "      <td>5.608517</td>\n",
       "      <td>4.559007</td>\n",
       "      <td>4.708531</td>\n",
       "      <td>2.577943</td>\n",
       "      <td>2.287743</td>\n",
       "      <td>2.586730</td>\n",
       "      <td>2.298392</td>\n",
       "      <td>...</td>\n",
       "      <td>1.972080</td>\n",
       "      <td>2.524833</td>\n",
       "      <td>2.070878</td>\n",
       "      <td>2.236429</td>\n",
       "      <td>7.015886</td>\n",
       "      <td>4.995253</td>\n",
       "      <td>6.068636</td>\n",
       "      <td>2.063866</td>\n",
       "      <td>2.298868</td>\n",
       "      <td>2.246761</td>\n",
       "    </tr>\n",
       "    <tr>\n",
       "      <th>193</th>\n",
       "      <td>843</td>\n",
       "      <td>adenocarcinoma</td>\n",
       "      <td>3.453250</td>\n",
       "      <td>4.562236</td>\n",
       "      <td>3.322978</td>\n",
       "      <td>4.270554</td>\n",
       "      <td>2.253526</td>\n",
       "      <td>2.150965</td>\n",
       "      <td>2.510634</td>\n",
       "      <td>2.596587</td>\n",
       "      <td>...</td>\n",
       "      <td>1.770813</td>\n",
       "      <td>2.367669</td>\n",
       "      <td>2.712675</td>\n",
       "      <td>1.825407</td>\n",
       "      <td>7.011039</td>\n",
       "      <td>4.301665</td>\n",
       "      <td>5.633862</td>\n",
       "      <td>2.070172</td>\n",
       "      <td>2.289038</td>\n",
       "      <td>2.180846</td>\n",
       "    </tr>\n",
       "  </tbody>\n",
       "</table>\n",
       "<p>5 rows × 49388 columns</p>\n",
       "</div>"
      ],
      "text/plain": [
       "     samples            type  11715100_at  11715101_s_at  11715102_x_at  \\\n",
       "189      839  adenocarcinoma     2.949097       3.986188       3.269828   \n",
       "190      840  adenocarcinoma     2.667807       3.916853       2.835128   \n",
       "191      841  adenocarcinoma     3.280977       4.412883       3.490449   \n",
       "192      842  adenocarcinoma     4.870618       5.608517       4.559007   \n",
       "193      843  adenocarcinoma     3.453250       4.562236       3.322978   \n",
       "\n",
       "     11715103_x_at  11715104_s_at  11715105_at  11715106_x_at  11715107_s_at  \\\n",
       "189       4.364195       2.962831     2.205185       2.573192       2.477530   \n",
       "190       3.335915       2.549352     2.070472       2.900022       2.370676   \n",
       "191       3.443940       2.907395     2.170415       2.843549       2.488809   \n",
       "192       4.708531       2.577943     2.287743       2.586730       2.298392   \n",
       "193       4.270554       2.253526     2.150965       2.510634       2.596587   \n",
       "\n",
       "     ...  AFFX-r2-TagO-3_at  AFFX-r2-TagO-5_at  AFFX-r2-TagQ-3_at  \\\n",
       "189  ...           1.818492           2.331696           2.409947   \n",
       "190  ...           2.152947           2.166213           2.254691   \n",
       "191  ...           1.896274           2.438472           2.198505   \n",
       "192  ...           1.972080           2.524833           2.070878   \n",
       "193  ...           1.770813           2.367669           2.712675   \n",
       "\n",
       "     AFFX-r2-TagQ-5_at  AFFX-ThrX-3_at  AFFX-ThrX-5_at  AFFX-ThrX-M_at  \\\n",
       "189           2.085928        6.934090        4.980856        5.952154   \n",
       "190           2.047614        7.078561        5.036520        5.890267   \n",
       "191           2.270089        6.521763        4.352320        5.219437   \n",
       "192           2.236429        7.015886        4.995253        6.068636   \n",
       "193           1.825407        7.011039        4.301665        5.633862   \n",
       "\n",
       "     AFFX-TrpnX-3_at  AFFX-TrpnX-5_at  AFFX-TrpnX-M_at  \n",
       "189         2.115150         1.987921         2.199241  \n",
       "190         1.951415         2.212261         2.019528  \n",
       "191         2.146429         2.131785         2.041606  \n",
       "192         2.063866         2.298868         2.246761  \n",
       "193         2.070172         2.289038         2.180846  \n",
       "\n",
       "[5 rows x 49388 columns]"
      ]
     },
     "execution_count": 4,
     "metadata": {},
     "output_type": "execute_result"
    }
   ],
   "source": [
    "dataset.tail()"
   ]
  },
  {
   "cell_type": "code",
   "execution_count": 5,
   "id": "dcaff949",
   "metadata": {},
   "outputs": [],
   "source": [
    "mapVars = ['type']\n",
    "\n",
    "def binaryMap(x):\n",
    "    return x.map({\"adenocarcinoma\" : 1, \"normal\" : 0})\n",
    "\n",
    "dataset[mapVars] = dataset[mapVars].apply(binaryMap)"
   ]
  },
  {
   "cell_type": "code",
   "execution_count": 6,
   "id": "b988df3b",
   "metadata": {},
   "outputs": [
    {
     "name": "stdout",
     "output_type": "stream",
     "text": [
      "[[4.03308298 3.99132789 3.52248674 ... 2.19190714 2.0894311  2.19667821]\n",
      " [3.11727335 4.04725753 3.04270444 ... 2.01357765 2.18919182 2.10655443]]\n",
      "[0 0]\n"
     ]
    }
   ],
   "source": [
    "XVals = dataset.iloc[:,2:49389].values\n",
    "print(XVals[:2])\n",
    "YVals = dataset.iloc[:,1].values\n",
    "print(YVals[:2])"
   ]
  },
  {
   "cell_type": "code",
   "execution_count": 7,
   "id": "118e2288",
   "metadata": {},
   "outputs": [],
   "source": [
    "principalComponents = PCA(50).fit_transform(XVals)"
   ]
  },
  {
   "cell_type": "code",
   "execution_count": 8,
   "id": "d60a72d8",
   "metadata": {},
   "outputs": [],
   "source": [
    "X_train, X_test, Y_train, Y_test = train_test_split(principalComponents, YVals, test_size = 0.2, random_state = 1, shuffle = True)"
   ]
  },
  {
   "cell_type": "code",
   "execution_count": 9,
   "id": "db9fa5e3",
   "metadata": {},
   "outputs": [
    {
     "data": {
      "text/plain": [
       "SVC(C=10000000000.0)"
      ]
     },
     "execution_count": 9,
     "metadata": {},
     "output_type": "execute_result"
    }
   ],
   "source": [
    "classifier = SVC(kernel='rbf', C=1E10)\n",
    "classifier.fit(X_train, np.ravel(Y_train))"
   ]
  },
  {
   "cell_type": "code",
   "execution_count": 10,
   "id": "8414ff60",
   "metadata": {},
   "outputs": [],
   "source": [
    "Y_pred = classifier.predict(X_test)"
   ]
  },
  {
   "cell_type": "code",
   "execution_count": 11,
   "id": "9fdf1da6",
   "metadata": {},
   "outputs": [
    {
     "name": "stdout",
     "output_type": "stream",
     "text": [
      "[[20  0]\n",
      " [ 0 19]]\n",
      "Accuracy: 1.0\n",
      "precisison: 1.0\n",
      "Recall: 1.0\n"
     ]
    }
   ],
   "source": [
    "cnf_matrix = confusion_matrix(Y_test, Y_pred)\n",
    "print(cnf_matrix)\n",
    "accuracy = metrics.accuracy_score(Y_test, Y_pred)\n",
    "precisison = metrics.precision_score(Y_test, Y_pred)\n",
    "recall = metrics.recall_score(Y_test, Y_pred)\n",
    "print(\"Accuracy: \" + str(accuracy))\n",
    "print(\"precisison: \" + str(precisison))\n",
    "print(\"Recall: \" + str(recall))"
   ]
  },
  {
   "cell_type": "code",
   "execution_count": 12,
   "id": "8a17b4e2",
   "metadata": {},
   "outputs": [
    {
     "data": {
      "text/plain": [
       "SVC(C=1000000000.0, kernel='poly')"
      ]
     },
     "execution_count": 12,
     "metadata": {},
     "output_type": "execute_result"
    }
   ],
   "source": [
    "classifier = SVC(kernel='poly', C=1E9)\n",
    "classifier.fit(X_train, np.ravel(Y_train))"
   ]
  },
  {
   "cell_type": "code",
   "execution_count": 13,
   "id": "af00f469",
   "metadata": {},
   "outputs": [],
   "source": [
    "Y_pred = classifier.predict(X_test)"
   ]
  },
  {
   "cell_type": "code",
   "execution_count": 14,
   "id": "f2fbb1b6",
   "metadata": {},
   "outputs": [
    {
     "name": "stdout",
     "output_type": "stream",
     "text": [
      "[[20  0]\n",
      " [ 0 19]]\n",
      "Accuracy: 1.0\n",
      "precisison: 1.0\n",
      "Recall: 1.0\n"
     ]
    }
   ],
   "source": [
    "cnf_matrix = confusion_matrix(Y_test, Y_pred)\n",
    "print(cnf_matrix)\n",
    "accuracy = metrics.accuracy_score(Y_test, Y_pred)\n",
    "precisison = metrics.precision_score(Y_test, Y_pred)\n",
    "recall = metrics.recall_score(Y_test, Y_pred)\n",
    "print(\"Accuracy: \" + str(accuracy))\n",
    "print(\"precisison: \" + str(precisison))\n",
    "print(\"Recall: \" + str(recall))"
   ]
  },
  {
   "cell_type": "code",
   "execution_count": 15,
   "id": "42230e1f",
   "metadata": {},
   "outputs": [
    {
     "data": {
      "text/plain": [
       "SVC(C=10000000000.0, kernel='linear')"
      ]
     },
     "execution_count": 15,
     "metadata": {},
     "output_type": "execute_result"
    }
   ],
   "source": [
    "classifier = SVC(kernel='linear', C=1E10)\n",
    "classifier.fit(X_train, np.ravel(Y_train))"
   ]
  },
  {
   "cell_type": "code",
   "execution_count": 16,
   "id": "30d66ed2",
   "metadata": {},
   "outputs": [],
   "source": [
    "Y_pred = classifier.predict(X_test)"
   ]
  },
  {
   "cell_type": "code",
   "execution_count": 17,
   "id": "5b60a2d3",
   "metadata": {},
   "outputs": [
    {
     "name": "stdout",
     "output_type": "stream",
     "text": [
      "[[20  0]\n",
      " [ 0 19]]\n",
      "Accuracy: 1.0\n",
      "precisison: 1.0\n",
      "Recall: 1.0\n"
     ]
    }
   ],
   "source": [
    "cnf_matrix = confusion_matrix(Y_test, Y_pred)\n",
    "print(cnf_matrix)\n",
    "accuracy = metrics.accuracy_score(Y_test, Y_pred)\n",
    "precisison = metrics.precision_score(Y_test, Y_pred)\n",
    "recall = metrics.recall_score(Y_test, Y_pred)\n",
    "print(\"Accuracy: \" + str(accuracy))\n",
    "print(\"precisison: \" + str(precisison))\n",
    "print(\"Recall: \" + str(recall))"
   ]
  },
  {
   "cell_type": "code",
   "execution_count": 19,
   "id": "179d5909",
   "metadata": {},
   "outputs": [
    {
     "name": "stdout",
     "output_type": "stream",
     "text": [
      "{'fit_time': array([0.63210988, 0.56559825, 0.60060477, 0.59360409, 0.58710265,\n",
      "       0.42757392, 0.63511109, 0.62960958, 0.48208356, 0.56409931]), 'score_time': array([0.01750422, 0.03650665, 0.0240047 , 0.02250504, 0.02700472,\n",
      "       0.00750184, 0.00650096, 0.00750113, 0.0070014 , 0.02950406]), 'test_accuracy': array([1.        , 1.        , 1.        , 1.        , 1.        ,\n",
      "       1.        , 1.        , 1.        , 0.94736842, 1.        ]), 'test_precision': array([1., 1., 1., 1., 1., 1., 1., 1., 1., 1.]), 'test_recall': array([1.        , 1.        , 1.        , 1.        , 1.        ,\n",
      "       1.        , 1.        , 1.        , 0.83333333, 1.        ])}\n"
     ]
    }
   ],
   "source": [
    "KFoldsClassifier = SVC(kernel='poly', C=1E9)\n",
    "\n",
    "evalMetrics = ['accuracy', 'precision', 'recall']\n",
    "K5Folds = KFold(n_splits=10, random_state=1, shuffle=True)\n",
    "Scores = cross_validate(KFoldsClassifier, XVals, YVals, scoring=evalMetrics, cv=K5Folds, n_jobs=-1)\n",
    "\n",
    "print(Scores)"
   ]
  },
  {
   "cell_type": "code",
   "execution_count": null,
   "id": "dae3bd10",
   "metadata": {},
   "outputs": [],
   "source": []
  }
 ],
 "metadata": {
  "kernelspec": {
   "display_name": "Python 3",
   "language": "python",
   "name": "python3"
  },
  "language_info": {
   "codemirror_mode": {
    "name": "ipython",
    "version": 3
   },
   "file_extension": ".py",
   "mimetype": "text/x-python",
   "name": "python",
   "nbconvert_exporter": "python",
   "pygments_lexer": "ipython3",
   "version": "3.8.8"
  }
 },
 "nbformat": 4,
 "nbformat_minor": 5
}
