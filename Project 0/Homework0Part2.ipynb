{
 "cells": [
  {
   "cell_type": "markdown",
   "id": "79262f2b",
   "metadata": {},
   "source": [
    "The beigning of part 2 is exactly the same as in part 1. The data is loaded in and split into arrays"
   ]
  },
  {
   "cell_type": "code",
   "execution_count": 1,
   "id": "da6a88e4",
   "metadata": {},
   "outputs": [
    {
     "name": "stdout",
     "output_type": "stream",
     "text": [
      "99\n",
      "There are  99  training examples.\n",
      "X1 =  [0.04040404 0.08080808 0.12121212 0.16161616 0.2020202 ]\n",
      "X2 =  [0.13494949 0.82989899 1.52484848 2.21979798 2.91474747]\n",
      "X3 =  [0.88848485 1.3369697  1.78545455 2.23393939 2.68242424]\n",
      "Y =  [2.6796499  2.96848981 3.25406475 3.53637472 3.81541972]\n"
     ]
    }
   ],
   "source": [
    "import numpy as np\n",
    "import pandas as pd\n",
    "import matplotlib.pyplot as plt\n",
    "\n",
    "csv = pd.read_csv('D3.csv')\n",
    "numRows = len(csv)\n",
    "print(numRows)\n",
    "csv.head(numRows)\n",
    "\n",
    "X1 = csv.values[:,0]\n",
    "X2 = csv.values[:,1]\n",
    "X3 = csv.values[:,2]\n",
    "Y = csv.values[:,3]\n",
    "numTraining = len(Y)\n",
    "print('There are ', numTraining, ' training examples.')\n",
    "\n",
    "#Printing the first 5 records of each matrix\n",
    "print('X1 = ', X1[: 5])\n",
    "print('X2 = ', X2[: 5])\n",
    "print('X3 = ', X3[: 5])\n",
    "print('Y = ', Y[: 5])"
   ]
  },
  {
   "cell_type": "markdown",
   "id": "5c99b93a",
   "metadata": {},
   "source": [
    "Because this time we want to use all 3 independent variables in the same algorithm instead they are placed into one extra wide matrix. The matrix has the format where each column is filled with the respective data. Column 1 is filled with 1s.\n",
    "\n",
    "[X0, X1, X2, X3]"
   ]
  },
  {
   "cell_type": "code",
   "execution_count": 2,
   "id": "c3cdc07c",
   "metadata": {},
   "outputs": [
    {
     "data": {
      "text/plain": [
       "array([[1.        , 0.04040404, 0.13494949, 0.88848485],\n",
       "       [1.        , 0.08080808, 0.82989899, 1.3369697 ],\n",
       "       [1.        , 0.12121212, 1.52484848, 1.78545455],\n",
       "       [1.        , 0.16161616, 2.21979798, 2.23393939],\n",
       "       [1.        , 0.2020202 , 2.91474747, 2.68242424]])"
      ]
     },
     "execution_count": 2,
     "metadata": {},
     "output_type": "execute_result"
    }
   ],
   "source": [
    "X_0 = np.ones((numTraining, 1))\n",
    "X1_1 = X1.reshape(numTraining, 1)\n",
    "X2_1 = X2.reshape(numTraining, 1)\n",
    "X3_1 = X3.reshape(numTraining, 1)\n",
    "\n",
    "X = np.hstack((X_0, X1_1, X2_1, X3_1))\n",
    "X[:5]"
   ]
  },
  {
   "cell_type": "markdown",
   "id": "6ce698ca",
   "metadata": {},
   "source": [
    "When there are 3 independent variables we will need a respective number of theta values. In this case 4 (theta0, theta1, theta2, theta3). These values are initialized as zeros below."
   ]
  },
  {
   "cell_type": "code",
   "execution_count": 3,
   "id": "efbe213c",
   "metadata": {},
   "outputs": [
    {
     "data": {
      "text/plain": [
       "array([0., 0., 0., 0.])"
      ]
     },
     "execution_count": 3,
     "metadata": {},
     "output_type": "execute_result"
    }
   ],
   "source": [
    "theta = np.zeros(4)\n",
    "theta[:5]"
   ]
  },
  {
   "cell_type": "markdown",
   "id": "7e5ea218",
   "metadata": {},
   "source": [
    "Because we are already using dot products to calculate the cost and gradients the code will not change to exand the number of variables. It is required that the theta and X matrices are the same width. The code for compute_costs and gradients has been borrowed from Part 1 of his Homework."
   ]
  },
  {
   "cell_type": "code",
   "execution_count": 4,
   "id": "5506e130",
   "metadata": {},
   "outputs": [],
   "source": [
    "def compute_cost(XVals, YVals, theta):\n",
    "    predictions = XVals.dot(theta) #Makes a prediction using the given values of they using \n",
    "                                   #the following equation: prediction = theta0 + theta1*X\n",
    "    errors = np.subtract(predictions, YVals) #calculates the error from the prediction to the actual Y value\n",
    "    sqrErrors = np.square(errors) #squaring the errors to make finding the minimum easier\n",
    "    J = 1/(2*numTraining) * np.sum(sqrErrors)\n",
    "    \n",
    "    return J"
   ]
  },
  {
   "cell_type": "code",
   "execution_count": 5,
   "id": "ca3c2c0a",
   "metadata": {},
   "outputs": [],
   "source": [
    "def gradient_descent(XVals, YVals, theta, alpha, iterations):\n",
    "    cost_history = np.zeros(iterations) #stores the calculated cost for each iteration of the algorithm\n",
    "    for i in range(iterations):\n",
    "        predictions = XVals.dot(theta) #tests the current theta value with each independent variable value\n",
    "        errors = np.subtract(predictions, YVals)\n",
    "        sum_delta = (alpha/numTraining) * XVals.transpose().dot(errors);\n",
    "        theta = theta - sum_delta; #updating the value of theta based on the new data\n",
    "        cost_history[i] = compute_cost(XVals, YVals, theta) #logging the cost to the cost history log\n",
    "        \n",
    "        \n",
    "    return theta, cost_history  "
   ]
  },
  {
   "cell_type": "markdown",
   "id": "e2d0e937",
   "metadata": {},
   "source": [
    "The cost using the default value of zero for theta is calculated below"
   ]
  },
  {
   "cell_type": "code",
   "execution_count": 6,
   "id": "d81abc52",
   "metadata": {},
   "outputs": [
    {
     "name": "stdout",
     "output_type": "stream",
     "text": [
      "The initial cost using 0 for all theta values is:  5.483015861682611\n"
     ]
    }
   ],
   "source": [
    "cost = compute_cost(X, Y, theta)\n",
    "print('The initial cost using 0 for all theta values is: ', cost)"
   ]
  },
  {
   "cell_type": "code",
   "execution_count": 7,
   "id": "e405f718",
   "metadata": {},
   "outputs": [],
   "source": [
    "iterations = 750;\n",
    "alpha = 0.05"
   ]
  },
  {
   "cell_type": "code",
   "execution_count": 8,
   "id": "6a7d1a31",
   "metadata": {},
   "outputs": [
    {
     "name": "stdout",
     "output_type": "stream",
     "text": [
      "The final value of theta with all 3 independent variables is:  [ 5.28709962 -2.02368     0.58130939 -0.27334098]\n",
      "The cost history with all 3 variables is:  [4.35296719 4.00873937 3.75959123 3.54451637 3.35516472 3.18796756\n",
      " 3.04011748 2.90918865 2.79306476 2.68989761 2.59807283 2.51618011\n",
      " 2.44298723 2.37741743 2.31852971 2.26550156 2.21761396 2.17423828\n",
      " 2.13482483 2.09889285 2.06602186 2.035844   2.00803739 1.98232037\n",
      " 1.95844639 1.93619964 1.91539112 1.89585535 1.87744734 1.86004007\n",
      " 1.84352223 1.82779623 1.8127765  1.798388   1.78456487 1.77124933\n",
      " 1.75839063 1.7459442  1.73387086 1.72213619 1.71070989 1.6995653\n",
      " 1.68867893 1.67803009 1.66760053 1.65737414 1.64733668 1.63747556\n",
      " 1.62777963 1.61823901 1.60884493 1.59958959 1.59046605 1.58146812\n",
      " 1.57259026 1.56382754 1.55517549 1.54663013 1.53818786 1.52984542\n",
      " 1.52159985 1.51344848 1.50538886 1.49741876 1.48953611 1.48173902\n",
      " 1.47402575 1.46639468 1.45884429 1.45137317 1.44398001 1.43666355\n",
      " 1.42942263 1.42225612 1.41516297 1.40814218 1.40119277 1.39431382\n",
      " 1.38750445 1.38076378 1.374091   1.3674853  1.3609459  1.35447205\n",
      " 1.348063   1.34171803 1.33543645 1.32921756 1.32306068 1.31696516\n",
      " 1.31093035 1.30495561 1.29904031 1.29318383 1.28738557 1.28164493\n",
      " 1.27596131 1.27033414 1.26476285 1.25924686 1.25378561 1.24837856\n",
      " 1.24302515 1.23772485 1.23247713 1.22728145 1.22213729 1.21704415\n",
      " 1.21200151 1.20700886 1.20206572 1.19717157 1.19232595 1.18752835\n",
      " 1.18277832 1.17807536 1.17341902 1.16880883 1.16424433 1.15972508\n",
      " 1.15525061 1.15082048 1.14643426 1.14209151 1.1377918  1.1335347\n",
      " 1.12931979 1.12514664 1.12101485 1.11692401 1.11287371 1.10886354\n",
      " 1.10489312 1.10096203 1.09706991 1.09321635 1.08940098 1.08562342\n",
      " 1.08188329 1.07818023 1.07451386 1.07088382 1.06728976 1.06373131\n",
      " 1.06020812 1.05671984 1.05326613 1.04984665 1.04646105 1.04310899\n",
      " 1.03979016 1.03650421 1.03325083 1.03002968 1.02684045 1.02368283\n",
      " 1.02055649 1.01746114 1.01439646 1.01136214 1.0083579  1.00538342\n",
      " 1.00243842 0.99952261 0.99663568 0.99377737 0.99094738 0.98814543\n",
      " 0.98537124 0.98262455 0.97990507 0.97721255 0.9745467  0.97190727\n",
      " 0.969294   0.96670662 0.96414488 0.96160852 0.9590973  0.95661097\n",
      " 0.95414927 0.95171196 0.94929881 0.94690957 0.944544   0.94220188\n",
      " 0.93988297 0.93758703 0.93531384 0.93306319 0.93083483 0.92862855\n",
      " 0.92644414 0.92428137 0.92214004 0.92001992 0.91792082 0.91584251\n",
      " 0.9137848  0.91174748 0.90973034 0.9077332  0.90575584 0.90379808\n",
      " 0.90185972 0.89994057 0.89804044 0.89615913 0.89429647 0.89245226\n",
      " 0.89062633 0.88881849 0.88702857 0.88525638 0.88350176 0.88176452\n",
      " 0.8800445  0.87834152 0.87665542 0.87498602 0.87333317 0.87169669\n",
      " 0.87007643 0.86847223 0.86688393 0.86531136 0.86375438 0.86221282\n",
      " 0.86068654 0.85917539 0.85767921 0.85619785 0.85473118 0.85327904\n",
      " 0.85184128 0.85041778 0.84900838 0.84761295 0.84623134 0.84486343\n",
      " 0.84350907 0.84216813 0.84084048 0.83952599 0.83822452 0.83693595\n",
      " 0.83566014 0.83439698 0.83314634 0.83190809 0.83068211 0.82946827\n",
      " 0.82826647 0.82707658 0.82589847 0.82473204 0.82357717 0.82243374\n",
      " 0.82130165 0.82018077 0.819071   0.81797222 0.81688434 0.81580723\n",
      " 0.8147408  0.81368493 0.81263953 0.81160449 0.8105797  0.80956507\n",
      " 0.80856049 0.80756587 0.80658111 0.8056061  0.80464075 0.80368497\n",
      " 0.80273866 0.80180173 0.80087408 0.79995563 0.79904627 0.79814593\n",
      " 0.79725451 0.79637192 0.79549808 0.79463289 0.79377628 0.79292816\n",
      " 0.79208845 0.79125705 0.79043389 0.78961889 0.78881197 0.78801304\n",
      " 0.78722203 0.78643886 0.78566344 0.78489571 0.78413559 0.783383\n",
      " 0.78263787 0.78190013 0.78116969 0.78044649 0.77973046 0.77902152\n",
      " 0.77831961 0.77762465 0.77693658 0.77625533 0.77558083 0.77491301\n",
      " 0.77425181 0.77359717 0.77294901 0.77230727 0.77167189 0.77104281\n",
      " 0.77041996 0.76980328 0.76919272 0.7685882  0.76798968 0.76739708\n",
      " 0.76681036 0.76622945 0.7656543  0.76508485 0.76452104 0.76396282\n",
      " 0.76341013 0.76286291 0.76232112 0.7617847  0.76125359 0.76072775\n",
      " 0.76020712 0.75969164 0.75918127 0.75867597 0.75817566 0.75768032\n",
      " 0.75718988 0.75670431 0.75622354 0.75574754 0.75527626 0.75480965\n",
      " 0.75434766 0.75389025 0.75343737 0.75298898 0.75254503 0.75210548\n",
      " 0.75167029 0.75123941 0.7508128  0.75039042 0.74997222 0.74955816\n",
      " 0.74914821 0.74874233 0.74834046 0.74794257 0.74754863 0.7471586\n",
      " 0.74677242 0.74639008 0.74601152 0.74563671 0.74526562 0.74489821\n",
      " 0.74453443 0.74417427 0.74381767 0.7434646  0.74311503 0.74276893\n",
      " 0.74242625 0.74208697 0.74175106 0.74141847 0.74108918 0.74076315\n",
      " 0.74044035 0.74012075 0.73980432 0.73949102 0.73918083 0.73887371\n",
      " 0.73856964 0.73826857 0.7379705  0.73767537 0.73738317 0.73709387\n",
      " 0.73680743 0.73652383 0.73624304 0.73596503 0.73568978 0.73541725\n",
      " 0.73514743 0.73488028 0.73461578 0.73435389 0.73409461 0.73383789\n",
      " 0.73358372 0.73333206 0.7330829  0.73283621 0.73259196 0.73235013\n",
      " 0.7321107  0.73187364 0.73163893 0.73140655 0.73117647 0.73094867\n",
      " 0.73072312 0.73049981 0.73027872 0.73005981 0.72984308 0.72962849\n",
      " 0.72941603 0.72920567 0.7289974  0.72879119 0.72858703 0.72838489\n",
      " 0.72818475 0.72798659 0.7277904  0.72759615 0.72740383 0.72721342\n",
      " 0.72702489 0.72683822 0.72665341 0.72647043 0.72628926 0.72610989\n",
      " 0.7259323  0.72575646 0.72558237 0.72541    0.72523934 0.72507037\n",
      " 0.72490308 0.72473744 0.72457345 0.72441108 0.72425032 0.72409115\n",
      " 0.72393356 0.72377753 0.72362305 0.7234701  0.72331866 0.72316873\n",
      " 0.72302028 0.7228733  0.72272778 0.7225837  0.72244104 0.7222998\n",
      " 0.72215996 0.72202151 0.72188443 0.72174871 0.72161433 0.72148128\n",
      " 0.72134955 0.72121913 0.72109    0.72096215 0.72083556 0.72071023\n",
      " 0.72058614 0.72046329 0.72034165 0.72022121 0.72010197 0.71998391\n",
      " 0.71986702 0.71975129 0.7196367  0.71952325 0.71941092 0.71929971\n",
      " 0.7191896  0.71908058 0.71897264 0.71886577 0.71875996 0.7186552\n",
      " 0.71855148 0.71844878 0.7183471  0.71824643 0.71814676 0.71804807\n",
      " 0.71795036 0.71785362 0.71775784 0.71766301 0.71756912 0.71747616\n",
      " 0.71738412 0.71729299 0.71720276 0.71711343 0.71702499 0.71693742\n",
      " 0.71685071 0.71676487 0.71667988 0.71659573 0.71651241 0.71642992\n",
      " 0.71634825 0.71626739 0.71618732 0.71610806 0.71602957 0.71595187\n",
      " 0.71587493 0.71579876 0.71572334 0.71564867 0.71557474 0.71550154\n",
      " 0.71542906 0.71535731 0.71528626 0.71521592 0.71514628 0.71507733\n",
      " 0.71500906 0.71494146 0.71487454 0.71480828 0.71474268 0.71467772\n",
      " 0.71461341 0.71454974 0.7144867  0.71442428 0.71436248 0.7143013\n",
      " 0.71424072 0.71418074 0.71412135 0.71406256 0.71400434 0.71394671\n",
      " 0.71388964 0.71383314 0.7137772  0.71372181 0.71366697 0.71361268\n",
      " 0.71355892 0.7135057  0.713453   0.71340083 0.71334917 0.71329803\n",
      " 0.71324739 0.71319725 0.71314761 0.71309847 0.71304981 0.71300163\n",
      " 0.71295393 0.7129067  0.71285994 0.71281364 0.7127678  0.71272242\n",
      " 0.71267748 0.712633   0.71258895 0.71254534 0.71250216 0.7124594\n",
      " 0.71241708 0.71237517 0.71233368 0.71229259 0.71225192 0.71221165\n",
      " 0.71217177 0.7121323  0.71209321 0.71205451 0.71201619 0.71197826\n",
      " 0.7119407  0.71190351 0.71186669 0.71183024 0.71179414 0.71175841\n",
      " 0.71172303 0.71168799 0.71165331 0.71161897 0.71158497 0.71155131\n",
      " 0.71151798 0.71148498 0.71145231 0.71141996 0.71138793 0.71135622\n",
      " 0.71132482 0.71129374 0.71126296 0.71123249 0.71120232 0.71117245\n",
      " 0.71114287 0.71111359 0.7110846  0.7110559  0.71102748 0.71099934\n",
      " 0.71097148 0.71094389 0.71091658 0.71088954 0.71086277 0.71083627\n",
      " 0.71081002 0.71078404 0.71075831 0.71073284 0.71070762 0.71068265\n",
      " 0.71065793 0.71063345 0.71060922 0.71058523 0.71056147 0.71053795\n",
      " 0.71051466 0.7104916  0.71046878 0.71044617 0.7104238  0.71040164\n",
      " 0.7103797  0.71035798 0.71033648 0.71031519 0.71029411 0.71027324\n",
      " 0.71025257 0.71023211 0.71021185 0.7101918  0.71017194 0.71015228\n",
      " 0.71013281 0.71011354 0.71009446 0.71007556 0.71005686 0.71003834\n",
      " 0.71002    0.71000185 0.70998387 0.70996607 0.70994845 0.70993101\n",
      " 0.70991373 0.70989663 0.7098797  0.70986293 0.70984634 0.7098299\n",
      " 0.70981363 0.70979752 0.70978157 0.70976578 0.70975014 0.70973466\n",
      " 0.70971933 0.70970416 0.70968913 0.70967425 0.70965953 0.70964494\n",
      " 0.7096305  0.70961621 0.70960205 0.70958804 0.70957417 0.70956043\n",
      " 0.70954683 0.70953336 0.70952003 0.70950683 0.70949376 0.70948082\n",
      " 0.709468   0.70945532 0.70944276 0.70943032 0.70941801 0.70940582\n",
      " 0.70939375 0.7093818  0.70936997 0.70935826 0.70934666 0.70933518\n",
      " 0.70932381 0.70931255 0.70930141 0.70929037 0.70927945 0.70926863\n",
      " 0.70925792 0.70924732 0.70923682 0.70922643 0.70921613 0.70920594\n",
      " 0.70919586 0.70918587 0.70917598 0.70916619 0.70915649 0.70914689\n",
      " 0.70913739 0.70912798 0.70911867 0.70910944 0.70910031 0.70909127\n",
      " 0.70908232 0.70907345 0.70906468 0.70905599 0.70904739 0.70903887]\n",
      "The final cost using the final value of theta is:  0.7090388688667049\n"
     ]
    }
   ],
   "source": [
    "theta, cost_history = gradient_descent(X, Y, theta, alpha, iterations)\n",
    "print('The final value of theta with all 3 independent variables is: ', theta)\n",
    "print('The cost history with all 3 variables is: ', cost_history)\n",
    "final_cost = compute_cost(X, Y, theta)\n",
    "print('The final cost using the final value of theta is: ', final_cost)"
   ]
  },
  {
   "cell_type": "code",
   "execution_count": 9,
   "id": "d35f5147",
   "metadata": {},
   "outputs": [
    {
     "data": {
      "text/plain": [
       "Text(0.5, 1.0, 'Convergence of gradient descent for all 3 independent variables')"
      ]
     },
     "execution_count": 9,
     "metadata": {},
     "output_type": "execute_result"
    },
    {
     "data": {
      "image/png": "[encoded data removed]",
      "text/plain": [
       "<Figure size 432x288 with 1 Axes>"
      ]
     },
     "metadata": {
      "needs_background": "light"
     },
     "output_type": "display_data"
    }
   ],
   "source": [
    "plt.plot(range(1, iterations + 1), cost_history, color = 'orange')\n",
    "plt.grid()\n",
    "plt.xlabel(\"Number of iterations\")\n",
    "plt.ylabel(\"Cost\")\n",
    "plt.title(\"Convergence of gradient descent for all 3 independent variables\")"
   ]
  },
  {
   "cell_type": "markdown",
   "id": "1e54d4bf",
   "metadata": {},
   "source": [
    "The Y value was calculated using the final values of theta and the following experiemental values of (X1, X2, X3): (1, 1, 1), (2, 0, 4), and (3, 2, 1). To do this a dot product with the theta matrix was used. To do this each of the X value matrices was expanded to have a 1 in the X0 position."
   ]
  },
  {
   "cell_type": "code",
   "execution_count": 11,
   "id": "3a3541c0",
   "metadata": {},
   "outputs": [
    {
     "name": "stdout",
     "output_type": "stream",
     "text": [
      "[ 5.28709962 -2.02368     0.58130939 -0.27334098]\n",
      "[[1 1 1 1]\n",
      " [1 2 0 4]\n",
      " [1 3 2 1]]\n",
      "[[3.57138803 0.14637569 0.10533742]]\n"
     ]
    }
   ],
   "source": [
    "print('Using the following values of theta: ', theta)\n",
    "XValueTest = np.matrix('1 1 1 1; 1 2 0 4; 1 3 2 1')\n",
    "print('Testing with the following values of X', XValueTest)\n",
    "PredictedYValues = XValueTest.dot(theta)\n",
    "print('Predicted PredictedYValues)"
   ]
  },
  {
   "cell_type": "code",
   "execution_count": null,
   "id": "ae2ed957",
   "metadata": {},
   "outputs": [],
   "source": []
  }
 ],
 "metadata": {
  "kernelspec": {
   "display_name": "Python 3",
   "language": "python",
   "name": "python3"
  },
  "language_info": {
   "codemirror_mode": {
    "name": "ipython",
    "version": 3
   },
   "file_extension": ".py",
   "mimetype": "text/x-python",
   "name": "python",
   "nbconvert_exporter": "python",
   "pygments_lexer": "ipython3",
   "version": "3.8.8"
  }
 },
 "nbformat": 4,
 "nbformat_minor": 5
}
