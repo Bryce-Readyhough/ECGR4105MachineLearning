{
 "cells": [
  {
   "cell_type": "markdown",
   "id": "a558546f",
   "metadata": {},
   "source": [
    "# Intro to Machine Learning Homework 2\n",
    "\n",
    "### Bryce Readyhough \n",
    "### ID-801005029"
   ]
  },
  {
   "cell_type": "code",
   "execution_count": 1,
   "id": "a7446458",
   "metadata": {},
   "outputs": [],
   "source": [
    "import numpy as np\n",
    "import matplotlib.pyplot as plt\n",
    "import pandas as pd"
   ]
  },
  {
   "cell_type": "markdown",
   "id": "5b313bb1",
   "metadata": {},
   "source": [
    "Loading in the dataset and displaying the first few rows"
   ]
  },
  {
   "cell_type": "code",
   "execution_count": 2,
   "id": "52f9dd8a",
   "metadata": {},
   "outputs": [],
   "source": [
    "dataset = pd.read_csv(\"diabetes.csv\")"
   ]
  },
  {
   "cell_type": "code",
   "execution_count": 3,
   "id": "9e0161b9",
   "metadata": {},
   "outputs": [
    {
     "data": {
      "text/html": [
       "<div>\n",
       "<style scoped>\n",
       "    .dataframe tbody tr th:only-of-type {\n",
       "        vertical-align: middle;\n",
       "    }\n",
       "\n",
       "    .dataframe tbody tr th {\n",
       "        vertical-align: top;\n",
       "    }\n",
       "\n",
       "    .dataframe thead th {\n",
       "        text-align: right;\n",
       "    }\n",
       "</style>\n",
       "<table border=\"1\" class=\"dataframe\">\n",
       "  <thead>\n",
       "    <tr style=\"text-align: right;\">\n",
       "      <th></th>\n",
       "      <th>Pregnancies</th>\n",
       "      <th>Glucose</th>\n",
       "      <th>BloodPressure</th>\n",
       "      <th>SkinThickness</th>\n",
       "      <th>Insulin</th>\n",
       "      <th>BMI</th>\n",
       "      <th>DiabetesPedigreeFunction</th>\n",
       "      <th>Age</th>\n",
       "      <th>Outcome</th>\n",
       "    </tr>\n",
       "  </thead>\n",
       "  <tbody>\n",
       "    <tr>\n",
       "      <th>0</th>\n",
       "      <td>6</td>\n",
       "      <td>148</td>\n",
       "      <td>72</td>\n",
       "      <td>35</td>\n",
       "      <td>0</td>\n",
       "      <td>33.6</td>\n",
       "      <td>0.627</td>\n",
       "      <td>50</td>\n",
       "      <td>1</td>\n",
       "    </tr>\n",
       "    <tr>\n",
       "      <th>1</th>\n",
       "      <td>1</td>\n",
       "      <td>85</td>\n",
       "      <td>66</td>\n",
       "      <td>29</td>\n",
       "      <td>0</td>\n",
       "      <td>26.6</td>\n",
       "      <td>0.351</td>\n",
       "      <td>31</td>\n",
       "      <td>0</td>\n",
       "    </tr>\n",
       "    <tr>\n",
       "      <th>2</th>\n",
       "      <td>8</td>\n",
       "      <td>183</td>\n",
       "      <td>64</td>\n",
       "      <td>0</td>\n",
       "      <td>0</td>\n",
       "      <td>23.3</td>\n",
       "      <td>0.672</td>\n",
       "      <td>32</td>\n",
       "      <td>1</td>\n",
       "    </tr>\n",
       "    <tr>\n",
       "      <th>3</th>\n",
       "      <td>1</td>\n",
       "      <td>89</td>\n",
       "      <td>66</td>\n",
       "      <td>23</td>\n",
       "      <td>94</td>\n",
       "      <td>28.1</td>\n",
       "      <td>0.167</td>\n",
       "      <td>21</td>\n",
       "      <td>0</td>\n",
       "    </tr>\n",
       "    <tr>\n",
       "      <th>4</th>\n",
       "      <td>0</td>\n",
       "      <td>137</td>\n",
       "      <td>40</td>\n",
       "      <td>35</td>\n",
       "      <td>168</td>\n",
       "      <td>43.1</td>\n",
       "      <td>2.288</td>\n",
       "      <td>33</td>\n",
       "      <td>1</td>\n",
       "    </tr>\n",
       "  </tbody>\n",
       "</table>\n",
       "</div>"
      ],
      "text/plain": [
       "   Pregnancies  Glucose  BloodPressure  SkinThickness  Insulin   BMI  \\\n",
       "0            6      148             72             35        0  33.6   \n",
       "1            1       85             66             29        0  26.6   \n",
       "2            8      183             64              0        0  23.3   \n",
       "3            1       89             66             23       94  28.1   \n",
       "4            0      137             40             35      168  43.1   \n",
       "\n",
       "   DiabetesPedigreeFunction  Age  Outcome  \n",
       "0                     0.627   50        1  \n",
       "1                     0.351   31        0  \n",
       "2                     0.672   32        1  \n",
       "3                     0.167   21        0  \n",
       "4                     2.288   33        1  "
      ]
     },
     "execution_count": 3,
     "metadata": {},
     "output_type": "execute_result"
    }
   ],
   "source": [
    "dataset.head()"
   ]
  },
  {
   "cell_type": "code",
   "execution_count": 4,
   "id": "175dd6b2",
   "metadata": {},
   "outputs": [
    {
     "name": "stdout",
     "output_type": "stream",
     "text": [
      "     Pregnancies  Glucose  BloodPressure  SkinThickness  Insulin   BMI  \\\n",
      "0              6      148             72             35        0  33.6   \n",
      "1              1       85             66             29        0  26.6   \n",
      "2              8      183             64              0        0  23.3   \n",
      "3              1       89             66             23       94  28.1   \n",
      "4              0      137             40             35      168  43.1   \n",
      "..           ...      ...            ...            ...      ...   ...   \n",
      "763           10      101             76             48      180  32.9   \n",
      "764            2      122             70             27        0  36.8   \n",
      "765            5      121             72             23      112  26.2   \n",
      "766            1      126             60              0        0  30.1   \n",
      "767            1       93             70             31        0  30.4   \n",
      "\n",
      "     DiabetesPedigreeFunction  Age  \n",
      "0                       0.627   50  \n",
      "1                       0.351   31  \n",
      "2                       0.672   32  \n",
      "3                       0.167   21  \n",
      "4                       2.288   33  \n",
      "..                        ...  ...  \n",
      "763                     0.171   63  \n",
      "764                     0.340   27  \n",
      "765                     0.245   30  \n",
      "766                     0.349   47  \n",
      "767                     0.315   23  \n",
      "\n",
      "[768 rows x 8 columns]\n"
     ]
    }
   ],
   "source": [
    "X = dataset.iloc[:, [0,1,2,3,4,5,6,7]]\n",
    "Y = dataset.iloc[:, 8]\n",
    "print(X)"
   ]
  },
  {
   "cell_type": "markdown",
   "id": "983d6d0c",
   "metadata": {},
   "source": [
    "Next, feature scaling was applied to the test and eval datasets. This Scales the datapoints so that they all fall within 0 and 1. This Will be vwery important to allow the algorithm to distinguish between the number of pregnancies which is a realtivaly low number and the glucose value which is a relatively high number."
   ]
  },
  {
   "cell_type": "code",
   "execution_count": 5,
   "id": "5f32d2dd",
   "metadata": {},
   "outputs": [
    {
     "name": "stdout",
     "output_type": "stream",
     "text": [
      "[[ 0.63994726  0.84832379  0.14964075  0.90726993 -0.69289057  0.20401277\n",
      "   0.46849198  1.4259954 ]\n",
      " [-0.84488505 -1.12339636 -0.16054575  0.53090156 -0.69289057 -0.68442195\n",
      "  -0.36506078 -0.19067191]\n",
      " [ 1.23388019  1.94372388 -0.26394125 -1.28821221 -0.69289057 -1.10325546\n",
      "   0.60439732 -0.10558415]\n",
      " [-0.84488505 -0.99820778 -0.16054575  0.15453319  0.12330164 -0.49404308\n",
      "  -0.92076261 -1.04154944]\n",
      " [-1.14185152  0.5040552  -1.50468724  0.90726993  0.76583594  1.4097456\n",
      "   5.4849091  -0.0204964 ]\n",
      " [ 0.3429808  -0.15318486  0.25303625 -1.28821221 -0.69289057 -0.81134119\n",
      "  -0.81807858 -0.27575966]\n",
      " [-0.25095213 -1.34247638 -0.98770975  0.71908574  0.07120427 -0.12597727\n",
      "  -0.676133   -0.61611067]\n",
      " [ 1.82781311 -0.184482   -3.57259724 -1.28821221 -0.69289057  0.41977549\n",
      "  -1.02042653 -0.36084741]\n",
      " [-0.54791859  2.38188392  0.04624525  1.53455054  4.02192191 -0.18943689\n",
      "  -0.94794368  1.68125866]\n",
      " [ 1.23388019  0.12848945  1.39038675 -1.28821221 -0.69289057 -4.06047387\n",
      "  -0.7244549   1.76634642]]\n"
     ]
    }
   ],
   "source": [
    "import warnings\n",
    "warnings.filterwarnings('ignore')\n",
    "from sklearn.preprocessing import MinMaxScaler, StandardScaler\n",
    "\n",
    "scaler = StandardScaler()\n",
    "X = scaler.fit_transform(X)\n",
    "print(X[:10])"
   ]
  },
  {
   "cell_type": "markdown",
   "id": "729fafd7",
   "metadata": {},
   "source": [
    "Splitting the dataset into Training and Evaluation datasets. For this Homework an 80-20 split was used; where 80% of the data was in the training set and 20% was in the evaluation set."
   ]
  },
  {
   "cell_type": "code",
   "execution_count": 6,
   "id": "5eb73509",
   "metadata": {},
   "outputs": [],
   "source": [
    "from sklearn.model_selection import train_test_split\n",
    "X_train, X_eval, Y_train, Y_eval = train_test_split(X, Y, test_size = 0.2, random_state = np.random.randint(1), shuffle = 0)"
   ]
  },
  {
   "cell_type": "markdown",
   "id": "80b2c36d",
   "metadata": {},
   "source": [
    "## Problem 1\n",
    "Using the dataset a logistic regression binary classifier was built"
   ]
  },
  {
   "cell_type": "code",
   "execution_count": 7,
   "id": "ae85e891",
   "metadata": {},
   "outputs": [
    {
     "data": {
      "text/plain": [
       "LogisticRegression(random_state=0)"
      ]
     },
     "execution_count": 7,
     "metadata": {},
     "output_type": "execute_result"
    }
   ],
   "source": [
    "from sklearn.linear_model import LogisticRegression \n",
    "Prob1Classifier = LogisticRegression(random_state=0) \n",
    "Prob1Classifier.fit(X_train, Y_train)"
   ]
  },
  {
   "cell_type": "code",
   "execution_count": 8,
   "id": "e523afb8",
   "metadata": {},
   "outputs": [
    {
     "data": {
      "text/plain": [
       "array([1, 0, 0, 1, 0, 0, 1, 1, 0], dtype=int64)"
      ]
     },
     "execution_count": 8,
     "metadata": {},
     "output_type": "execute_result"
    }
   ],
   "source": [
    "prob1_Y_prediction = Prob1Classifier.predict(X_eval)\n",
    "prob1_Y_prediction[0:9]"
   ]
  },
  {
   "cell_type": "markdown",
   "id": "ba72edaf",
   "metadata": {},
   "source": [
    "Building the confusion matrix to determine the accuracy of the model"
   ]
  },
  {
   "cell_type": "code",
   "execution_count": 9,
   "id": "a0cc2a9e",
   "metadata": {},
   "outputs": [
    {
     "data": {
      "text/plain": [
       "array([[98,  9],\n",
       "       [18, 29]], dtype=int64)"
      ]
     },
     "execution_count": 9,
     "metadata": {},
     "output_type": "execute_result"
    }
   ],
   "source": [
    "from sklearn.metrics import confusion_matrix \n",
    "prob1_cnf_matrix = confusion_matrix(Y_eval, prob1_Y_prediction) \n",
    "prob1_cnf_matrix "
   ]
  },
  {
   "cell_type": "code",
   "execution_count": 10,
   "id": "50e52f29",
   "metadata": {},
   "outputs": [
    {
     "name": "stdout",
     "output_type": "stream",
     "text": [
      "Accuracy: 0.8246753246753247\n",
      "Precision: 0.7631578947368421\n",
      "Recall: 0.6170212765957447\n"
     ]
    }
   ],
   "source": [
    "from sklearn import metrics \n",
    "print(\"Accuracy:\",metrics.accuracy_score(Y_eval, prob1_Y_prediction)) \n",
    "print(\"Precision:\",metrics.precision_score(Y_eval, prob1_Y_prediction)) \n",
    "print(\"Recall:\",metrics.recall_score(Y_eval, prob1_Y_prediction))"
   ]
  },
  {
   "cell_type": "code",
   "execution_count": 11,
   "id": "a037806e",
   "metadata": {},
   "outputs": [
    {
     "data": {
      "text/plain": [
       "Text(0.5, 257.44, 'Predicted label')"
      ]
     },
     "execution_count": 11,
     "metadata": {},
     "output_type": "execute_result"
    },
    {
     "data": {
      "image/png": "[encoded data removed]",
      "text/plain": [
       "<Figure size 432x288 with 2 Axes>"
      ]
     },
     "metadata": {
      "needs_background": "light"
     },
     "output_type": "display_data"
    }
   ],
   "source": [
    "import seaborn as sns \n",
    "class_names=[0,1] # name  of classes \n",
    "fig, ax = plt.subplots() \n",
    "tick_marks = np.arange(len(class_names)) \n",
    "plt.xticks(tick_marks, class_names) \n",
    "plt.yticks(tick_marks, class_names) \n",
    "# create heatmap \n",
    "sns.heatmap(pd.DataFrame(prob1_cnf_matrix), annot=True, cmap=\"YlGnBu\" ,fmt='g') \n",
    "ax.xaxis.set_label_position(\"top\") \n",
    "plt.tight_layout() \n",
    "plt.title('Confusion matrix', y=1.1) \n",
    "plt.ylabel('Actual label') \n",
    "plt.xlabel('Predicted label')"
   ]
  },
  {
   "cell_type": "markdown",
   "id": "d02abf49",
   "metadata": {},
   "source": [
    "## Problem 2\n",
    "This time a Naive Bays classifier was used. The same dataset was used as in Problem 1 with the same 80-20 split between training and evaluaation"
   ]
  },
  {
   "cell_type": "code",
   "execution_count": 12,
   "id": "641480f2",
   "metadata": {},
   "outputs": [],
   "source": [
    "from sklearn.naive_bayes import GaussianNB \n",
    "classifier = GaussianNB() \n",
    "classifier.fit(X_train, Y_train)\n",
    "\n",
    "prob2_Y_prediction = classifier.predict(X_eval)"
   ]
  },
  {
   "cell_type": "code",
   "execution_count": 13,
   "id": "7ac11f6c",
   "metadata": {},
   "outputs": [
    {
     "name": "stdout",
     "output_type": "stream",
     "text": [
      "Accuracy: 0.7922077922077922\n",
      "Precision: 0.6744186046511628\n",
      "Recall: 0.6170212765957447\n"
     ]
    }
   ],
   "source": [
    "prob2_cnf_matrix = confusion_matrix(Y_eval, prob2_Y_prediction) \n",
    "prob2_cnf_matrix \n",
    "\n",
    "print(\"Accuracy:\",metrics.accuracy_score(Y_eval, prob2_Y_prediction)) \n",
    "print(\"Precision:\",metrics.precision_score(Y_eval, prob2_Y_prediction)) \n",
    "print(\"Recall:\",metrics.recall_score(Y_eval, prob2_Y_prediction))"
   ]
  },
  {
   "cell_type": "code",
   "execution_count": 14,
   "id": "87b2c378",
   "metadata": {},
   "outputs": [
    {
     "data": {
      "text/plain": [
       "Text(0.5, 257.44, 'Predicted label')"
      ]
     },
     "execution_count": 14,
     "metadata": {},
     "output_type": "execute_result"
    },
    {
     "data": {
      "image/png": "[encoded data removed]",
      "text/plain": [
       "<Figure size 432x288 with 2 Axes>"
      ]
     },
     "metadata": {
      "needs_background": "light"
     },
     "output_type": "display_data"
    }
   ],
   "source": [
    "class_names=[0,1] # name  of classes \n",
    "fig, ax = plt.subplots() \n",
    "tick_marks = np.arange(len(class_names)) \n",
    "plt.xticks(tick_marks, class_names) \n",
    "plt.yticks(tick_marks, class_names) \n",
    "# create heatmap \n",
    "sns.heatmap(pd.DataFrame(prob2_cnf_matrix), annot=True, cmap=\"YlGnBu\" ,fmt='g') \n",
    "ax.xaxis.set_label_position(\"top\") \n",
    "plt.tight_layout() \n",
    "plt.title('Confusion matrix', y=1.1) \n",
    "plt.ylabel('Actual label') \n",
    "plt.xlabel('Predicted label')"
   ]
  },
  {
   "cell_type": "markdown",
   "id": "bf2fbf2f",
   "metadata": {},
   "source": [
    "## Problem 3\n",
    "The logisitic regression from Problem 1 was built once more. This time, however, K-fold cross-validation was implemented. A value of K=5 and K=10 was used. Because we are using K-Folds the data was not split into an eval and training set.\n",
    "\n",
    "First the K-Fold validation was run with K=5:"
   ]
  },
  {
   "cell_type": "code",
   "execution_count": 15,
   "id": "87c55df6",
   "metadata": {},
   "outputs": [
    {
     "name": "stdout",
     "output_type": "stream",
     "text": [
      "{'fit_time': array([0.00350165, 0.00300145, 0.00300026, 0.00300169, 0.00350094]), 'score_time': array([0.00149965, 0.00149989, 0.00150132, 0.00149989, 0.00150037]), 'test_accuracy': array([0.77922078, 0.76623377, 0.77272727, 0.79084967, 0.73856209]), 'test_precision': array([0.75609756, 0.71428571, 0.70454545, 0.71428571, 0.69047619]), 'test_recall': array([0.56363636, 0.55555556, 0.58490566, 0.6       , 0.51785714])}\n"
     ]
    }
   ],
   "source": [
    "from sklearn.model_selection import KFold\n",
    "from sklearn.model_selection import cross_validate\n",
    "\n",
    "Prob3Classifier = LogisticRegression(random_state=0) \n",
    "\n",
    "evalMetrics = ['accuracy', 'precision', 'recall']\n",
    "K5Folds = KFold(n_splits=5, random_state=1, shuffle=True)\n",
    "prob3AScores = cross_validate(Prob3Classifier, X, Y, scoring=evalMetrics, cv=K5Folds, n_jobs=-1)\n",
    "\n",
    "print(prob3AScores)"
   ]
  },
  {
   "cell_type": "markdown",
   "id": "29f63d59",
   "metadata": {},
   "source": [
    "With K-Folds the final Accuracy, Precision, and Recall is the average of each of the folds. This produces the following results:"
   ]
  },
  {
   "cell_type": "code",
   "execution_count": 16,
   "id": "34d62188",
   "metadata": {},
   "outputs": [
    {
     "data": {
      "text/plain": [
       "['fit_time', 'score_time', 'test_accuracy', 'test_precision', 'test_recall']"
      ]
     },
     "execution_count": 16,
     "metadata": {},
     "output_type": "execute_result"
    }
   ],
   "source": [
    "sorted(prob3AScores)"
   ]
  },
  {
   "cell_type": "code",
   "execution_count": 17,
   "id": "fd54348d",
   "metadata": {
    "scrolled": true
   },
   "outputs": [
    {
     "name": "stdout",
     "output_type": "stream",
     "text": [
      "Accuracy: 0.7695187165775401\n",
      "Precision: 0.7159381269137367\n",
      "Recall: 0.5643909444852842\n"
     ]
    }
   ],
   "source": [
    "import statistics\n",
    "\n",
    "prob3AAccuracy = statistics.mean(prob3AScores['test_accuracy'])\n",
    "prob3APrecision = statistics.mean(prob3AScores['test_precision'])\n",
    "prob3ARecall = statistics.mean(prob3AScores['test_recall'])\n",
    "\n",
    "print(\"Accuracy:\",prob3AAccuracy) \n",
    "print(\"Precision:\",prob3APrecision) \n",
    "print(\"Recall:\",prob3ARecall)"
   ]
  },
  {
   "cell_type": "markdown",
   "id": "194c4cb2",
   "metadata": {},
   "source": [
    "Next it was run again with K=10"
   ]
  },
  {
   "cell_type": "code",
   "execution_count": 18,
   "id": "517650d9",
   "metadata": {},
   "outputs": [
    {
     "name": "stdout",
     "output_type": "stream",
     "text": [
      "{'fit_time': array([0.00300026, 0.00300097, 0.00300097, 0.0030005 , 0.0030005 ,\n",
      "       0.00300097, 0.00300026, 0.0035007 , 0.00450182, 0.00350046]), 'score_time': array([0.00200057, 0.00200033, 0.00149989, 0.00199962, 0.00200033,\n",
      "       0.00200033, 0.00200033, 0.00150013, 0.00199986, 0.00150037]), 'test_accuracy': array([0.77922078, 0.77922078, 0.80519481, 0.72727273, 0.84415584,\n",
      "       0.72727273, 0.85714286, 0.74025974, 0.71052632, 0.76315789]), 'test_precision': array([0.75      , 0.76470588, 0.82608696, 0.57894737, 0.9047619 ,\n",
      "       0.56521739, 0.77272727, 0.68421053, 0.6       , 0.75      ]), 'test_recall': array([0.62068966, 0.5       , 0.63333333, 0.45833333, 0.65517241,\n",
      "       0.54166667, 0.73913043, 0.48148148, 0.46153846, 0.6       ])}\n"
     ]
    }
   ],
   "source": [
    "K10Folds = KFold(n_splits=10, random_state=1, shuffle=True)\n",
    "prob3BScores = cross_validate(Prob3Classifier, X, Y, scoring=evalMetrics, cv=K10Folds, n_jobs=-1)\n",
    "\n",
    "print(prob3BScores)"
   ]
  },
  {
   "cell_type": "markdown",
   "id": "53a988b8",
   "metadata": {},
   "source": [
    "With K-Folds the final Accuracy, Precision, and Recall is the average of each of the folds. This produces the following results:"
   ]
  },
  {
   "cell_type": "code",
   "execution_count": 19,
   "id": "ec0c244c",
   "metadata": {},
   "outputs": [
    {
     "data": {
      "text/plain": [
       "['fit_time', 'score_time', 'test_accuracy', 'test_precision', 'test_recall']"
      ]
     },
     "execution_count": 19,
     "metadata": {},
     "output_type": "execute_result"
    }
   ],
   "source": [
    "sorted(prob3BScores)"
   ]
  },
  {
   "cell_type": "code",
   "execution_count": 20,
   "id": "f428ca6f",
   "metadata": {},
   "outputs": [
    {
     "name": "stdout",
     "output_type": "stream",
     "text": [
      "Accuracy: 0.7733424470266576\n",
      "Precision: 0.7196657302405047\n",
      "Recall: 0.5691345780101402\n"
     ]
    }
   ],
   "source": [
    "prob3BAccuracy = statistics.mean(prob3BScores['test_accuracy'])\n",
    "prob3BPrecision = statistics.mean(prob3BScores['test_precision'])\n",
    "prob3BRecall = statistics.mean(prob3BScores['test_recall'])\n",
    "\n",
    "print(\"Accuracy:\",prob3BAccuracy) \n",
    "print(\"Precision:\",prob3BPrecision) \n",
    "print(\"Recall:\",prob3BRecall)"
   ]
  },
  {
   "cell_type": "markdown",
   "id": "31818576",
   "metadata": {},
   "source": [
    "## Problem 4\n",
    "The logisitic regression from Problem 2 was built once more. This time, however, K-fold cross-validation was implemented. A value of K=5 and K=10 was used. Because we are using K-Folds the data was not split into an eval and training set.\n",
    "\n",
    "First the K-Fold validation was run with K=5:"
   ]
  },
  {
   "cell_type": "code",
   "execution_count": 21,
   "id": "7cdcfbfc",
   "metadata": {},
   "outputs": [
    {
     "name": "stdout",
     "output_type": "stream",
     "text": [
      "{'fit_time': array([0.00049996, 0.00099993, 0.00100017, 0.00099945, 0.00100017]), 'score_time': array([0.00199986, 0.00199986, 0.00199986, 0.00200033, 0.00150037]), 'test_accuracy': array([0.77272727, 0.73376623, 0.73376623, 0.77777778, 0.77124183]), 'test_precision': array([0.70833333, 0.63265306, 0.63043478, 0.66      , 0.72340426]), 'test_recall': array([0.61818182, 0.57407407, 0.54716981, 0.66      , 0.60714286])}\n"
     ]
    }
   ],
   "source": [
    "from sklearn.model_selection import KFold\n",
    "from sklearn.model_selection import cross_validate\n",
    "from sklearn.naive_bayes import GaussianNB \n",
    "\n",
    "Prob4Classifier = GaussianNB()\n",
    "\n",
    "evalMetrics = ['accuracy', 'precision', 'recall']\n",
    "K5Folds = KFold(n_splits=5, random_state=1, shuffle=True)\n",
    "prob4AScores = cross_validate(Prob4Classifier, X, Y, scoring=evalMetrics, cv=K5Folds, n_jobs=-1)\n",
    "\n",
    "print(prob4AScores)"
   ]
  },
  {
   "cell_type": "code",
   "execution_count": 22,
   "id": "a0d19ff0",
   "metadata": {},
   "outputs": [
    {
     "name": "stdout",
     "output_type": "stream",
     "text": [
      "Accuracy: 0.7578558696205755\n",
      "Precision: 0.6709650864971336\n",
      "Recall: 0.6013137121439008\n"
     ]
    }
   ],
   "source": [
    "import statistics\n",
    "\n",
    "prob4AAccuracy = statistics.mean(prob4AScores['test_accuracy'])\n",
    "prob4APrecision = statistics.mean(prob4AScores['test_precision'])\n",
    "prob4ARecall = statistics.mean(prob4AScores['test_recall'])\n",
    "\n",
    "print(\"Accuracy:\",prob4AAccuracy) \n",
    "print(\"Precision:\",prob4APrecision) \n",
    "print(\"Recall:\",prob4ARecall)"
   ]
  },
  {
   "cell_type": "code",
   "execution_count": 23,
   "id": "54675bb6",
   "metadata": {},
   "outputs": [
    {
     "name": "stdout",
     "output_type": "stream",
     "text": [
      "{'fit_time': array([0.00099993, 0.00049973, 0.00100017, 0.00100017, 0.0010004 ,\n",
      "       0.00100017, 0.00099969, 0.0010004 , 0.00099993, 0.00150061]), 'score_time': array([0.00200009, 0.00200057, 0.00200009, 0.00200009, 0.00150037,\n",
      "       0.00150037, 0.00150037, 0.00149989, 0.00150084, 0.00149965]), 'test_accuracy': array([0.79220779, 0.76623377, 0.83116883, 0.62337662, 0.79220779,\n",
      "       0.71428571, 0.79220779, 0.76623377, 0.75      , 0.73684211]), 'test_precision': array([0.76      , 0.68181818, 0.84      , 0.4       , 0.74074074,\n",
      "       0.54545455, 0.62962963, 0.69565217, 0.66666667, 0.69230769]), 'test_recall': array([0.65517241, 0.57692308, 0.7       , 0.41666667, 0.68965517,\n",
      "       0.5       , 0.73913043, 0.59259259, 0.53846154, 0.6       ])}\n"
     ]
    }
   ],
   "source": [
    "K10Folds = KFold(n_splits=10, random_state=1, shuffle=True)\n",
    "prob4BScores = cross_validate(Prob4Classifier, X, Y, scoring=evalMetrics, cv=K10Folds, n_jobs=-1)\n",
    "\n",
    "print(prob4BScores)"
   ]
  },
  {
   "cell_type": "code",
   "execution_count": 24,
   "id": "08332810",
   "metadata": {},
   "outputs": [
    {
     "name": "stdout",
     "output_type": "stream",
     "text": [
      "Accuracy: 0.7564764183185236\n",
      "Precision: 0.66522696305305\n",
      "Recall: 0.600860189563338\n"
     ]
    }
   ],
   "source": [
    "prob4BAccuracy = statistics.mean(prob4BScores['test_accuracy'])\n",
    "prob4BPrecision = statistics.mean(prob4BScores['test_precision'])\n",
    "prob4BRecall = statistics.mean(prob4BScores['test_recall'])\n",
    "\n",
    "print(\"Accuracy:\",prob4BAccuracy) \n",
    "print(\"Precision:\",prob4BPrecision) \n",
    "print(\"Recall:\",prob4BRecall)"
   ]
  }
 ],
 "metadata": {
  "kernelspec": {
   "display_name": "Python 3",
   "language": "python",
   "name": "python3"
  },
  "language_info": {
   "codemirror_mode": {
    "name": "ipython",
    "version": 3
   },
   "file_extension": ".py",
   "mimetype": "text/x-python",
   "name": "python",
   "nbconvert_exporter": "python",
   "pygments_lexer": "ipython3",
   "version": "3.8.8"
  }
 },
 "nbformat": 4,
 "nbformat_minor": 5
}
